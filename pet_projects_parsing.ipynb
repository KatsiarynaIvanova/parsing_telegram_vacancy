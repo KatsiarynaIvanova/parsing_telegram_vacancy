{
 "cells": [
  {
   "cell_type": "markdown",
   "id": "9b24ef4d",
   "metadata": {},
   "source": [
    "# Анализ вакансий DS, DA в телеграм каналах"
   ]
  },
  {
   "cell_type": "markdown",
   "id": "b1aeb25f",
   "metadata": {},
   "source": [
    "#  План работы над проектом"
   ]
  },
  {
   "cell_type": "markdown",
   "id": "ca7316b0",
   "metadata": {},
   "source": [
    "**Цель проекта**:\n",
    "* Составить портрет сотрудника, которого чаще всего готовы принять на позиции DS, DA, а также оценить условия труда, предлогаемые в этих вакансиях. На основе анализа можно будет проследить как меняется рынок труда, выделить тенденции. Это поможет соискателям лучше понимать нанимающие компании, оценить и сопоставить свои ожидания и предложения компаний.\n",
    "\n",
    "**При описании портрета сотрудника и оценке условий труда, будем учитывать следующее:**\n",
    "* образование\n",
    "* нанимающую компанию\n",
    "* размер компании\n",
    "* опыт сотрудника (грейд)\n",
    "* требуемый стек технологий\n",
    "* формат работы (удаленный/офис)\n",
    "* зарплата\n",
    "\n",
    "**В ходе исследования проверим следующие гипотезы:**\n",
    "1. Больше всего вакансий, предлагающих работу в офисе, чем удаленный формат.\n",
    "2. Приблизиттельное одинаковое количество вакансий для DA и DS\n",
    "3. Больше вакансий от крупных компаний, чем от стартапов. \n",
    "4. Больше всего вакансий для специалистов с опытом, чем для junior специалистов.\n",
    "5. В зимнее месяцы количество вакансий больше, чем в летние месяцы. \n",
    "\n",
    "\n",
    "\n",
    "\n",
    "# Этапы выполнения проекта.\n",
    "1. Парсер телеграм-каналов с вакансиями DS, DA.\n",
    "        * выбрать необходимые телеграм-каналы\n",
    "        * выбрать период за который будут анализироваться вакансии\n",
    "        * установить лимит выгружаемых вакансий\n",
    "        * сформировать csv-файл с первоначальными данными о вакансиях\n",
    "2. Предобработка данных:\n",
    "        * Очистить и подготовить текст для дальнейшей работы (с использованием регулярных выражений, лемматизация, библиотеки    ntlk с стоп-словами).\n",
    "        * Исследовать пропущенные значения\n",
    "        * Проверить наличие дубликатов\n",
    "        * Работа с типами данных\n",
    "        * Создание необходимых колонок\n",
    "3. Исследовательский анализ данных:\n",
    "        * Обнаружение аномалий, выбросов, интересных фактов и зависимостей.\n",
    "        * Поиск ответов на выдвинутые гипотезы\n",
    "        * Визуальзация данных с \n",
    "4. Оформление результатов исследования в понятный и функциональный дашборд. \n",
    "        * визуализировать ответы на выдвинутые гипотезы\n",
    "        * визуализировать потррет типичного специалиста DS и DA"
   ]
  },
  {
   "cell_type": "markdown",
   "id": "ccb69d75",
   "metadata": {},
   "source": [
    "Для анализа вакансий будем использовать следующие чаты."
   ]
  },
  {
   "cell_type": "markdown",
   "id": "84a2f981",
   "metadata": {},
   "source": [
    "* https://t.me/foranalysts\n",
    "* https://t.me/analyst_job\n",
    "* https://t.me/biheadhunter\n",
    "* https://t.me/datasciencejobs\n",
    "* https://t.me/bds_job\n",
    "* https://t.me/datajobschannel\n",
    "* https://t.me/data_hr"
   ]
  },
  {
   "cell_type": "markdown",
   "id": "dadf0aef",
   "metadata": {},
   "source": [
    "# Парсер телеграм-каналов"
   ]
  },
  {
   "cell_type": "code",
   "execution_count": 1,
   "id": "b23f8e94",
   "metadata": {},
   "outputs": [],
   "source": [
    "# !pip3 install pyrogram tgcrypto"
   ]
  },
  {
   "cell_type": "code",
   "execution_count": 2,
   "id": "81870ae9",
   "metadata": {},
   "outputs": [],
   "source": [
    "# !pip3 install python-dotenv"
   ]
  },
  {
   "cell_type": "code",
   "execution_count": 3,
   "id": "daf7a004",
   "metadata": {},
   "outputs": [
    {
     "name": "stdout",
     "output_type": "stream",
     "text": [
      "Requirement already satisfied: emoji in /Users/daivanov/opt/anaconda3/envs/ds_practicum_env/lib/python3.9/site-packages (2.0.0)\n",
      "Note: you may need to restart the kernel to use updated packages.\n"
     ]
    }
   ],
   "source": [
    "pip install emoji"
   ]
  },
  {
   "cell_type": "code",
   "execution_count": 4,
   "id": "aefc9d07",
   "metadata": {},
   "outputs": [
    {
     "name": "stderr",
     "output_type": "stream",
     "text": [
      "/var/folders/vf/z1gk_tyn2zsf73w6bspmxgjm0000gn/T/ipykernel_81140/844583093.py:12: DeprecationWarning: Importing display from IPython.core.display is deprecated since IPython 7.14, please import from IPython display\n",
      "  from IPython.core.display import display, HTML, clear_output\n",
      "/var/folders/vf/z1gk_tyn2zsf73w6bspmxgjm0000gn/T/ipykernel_81140/844583093.py:12: DeprecationWarning: Importing clear_output from IPython.core.display is deprecated since IPython 7.14, please import from IPython display\n",
      "  from IPython.core.display import display, HTML, clear_output\n"
     ]
    }
   ],
   "source": [
    "import pyrogram\n",
    "import requests\n",
    "import numpy as np\n",
    "from bs4 import BeautifulSoup\n",
    "from dotenv import load_dotenv\n",
    "import os\n",
    "from pyrogram import Client\n",
    "import pandas as pd\n",
    "import json\n",
    "from datetime import datetime\n",
    "import re\n",
    "from IPython.core.display import display, HTML, clear_output\n",
    "import ipywidgets as widgets\n",
    "from urllib.parse import urlparse\n",
    "import emoji"
   ]
  },
  {
   "cell_type": "code",
   "execution_count": 5,
   "id": "9afe2074",
   "metadata": {},
   "outputs": [
    {
     "data": {
      "text/plain": [
       "'2.0.51'"
      ]
     },
     "execution_count": 5,
     "metadata": {},
     "output_type": "execute_result"
    }
   ],
   "source": [
    "pyrogram.__version__"
   ]
  },
  {
   "cell_type": "code",
   "execution_count": 6,
   "id": "50d12761",
   "metadata": {},
   "outputs": [],
   "source": [
    "dotenv_path = os.path.join('dot.env')\n",
    "if os.path.exists(dotenv_path):\n",
    "    load_dotenv(dotenv_path)"
   ]
  },
  {
   "cell_type": "code",
   "execution_count": 7,
   "id": "3a10993a",
   "metadata": {},
   "outputs": [],
   "source": [
    "API_ID = os.environ['API_ID']\n",
    "API_HASH = os.environ['API_HASH']"
   ]
  },
  {
   "cell_type": "code",
   "execution_count": 8,
   "id": "79123312",
   "metadata": {},
   "outputs": [],
   "source": [
    "# выгружаем данные после работы скрипта\n",
    "# %%bash\n",
    "# python3 pyro_run.py"
   ]
  },
  {
   "cell_type": "code",
   "execution_count": 9,
   "id": "108c4352",
   "metadata": {},
   "outputs": [],
   "source": [
    "# читаем и сохраняем данные в переменную\n",
    "telegram = pd.read_csv('telegram.csv')"
   ]
  },
  {
   "cell_type": "code",
   "execution_count": 10,
   "id": "c1749161",
   "metadata": {},
   "outputs": [
    {
     "data": {
      "text/html": [
       "<div>\n",
       "<style scoped>\n",
       "    .dataframe tbody tr th:only-of-type {\n",
       "        vertical-align: middle;\n",
       "    }\n",
       "\n",
       "    .dataframe tbody tr th {\n",
       "        vertical-align: top;\n",
       "    }\n",
       "\n",
       "    .dataframe thead th {\n",
       "        text-align: right;\n",
       "    }\n",
       "</style>\n",
       "<table border=\"1\" class=\"dataframe\">\n",
       "  <thead>\n",
       "    <tr style=\"text-align: right;\">\n",
       "      <th></th>\n",
       "      <th>chat</th>\n",
       "      <th>message_id</th>\n",
       "      <th>date</th>\n",
       "      <th>text</th>\n",
       "      <th>entities</th>\n",
       "    </tr>\n",
       "  </thead>\n",
       "  <tbody>\n",
       "    <tr>\n",
       "      <th>0</th>\n",
       "      <td>{\\n    \"_\": \"Chat\",\\n    \"id\": -1001137236002,...</td>\n",
       "      <td>4730</td>\n",
       "      <td>2022-09-09 17:05:10</td>\n",
       "      <td>Product Analyst\\nв Safeguard Global — поставщи...</td>\n",
       "      <td>[\\n    {\\n        \"_\": \"MessageEntity\",\\n     ...</td>\n",
       "    </tr>\n",
       "    <tr>\n",
       "      <th>1</th>\n",
       "      <td>{\\n    \"_\": \"Chat\",\\n    \"id\": -1001137236002,...</td>\n",
       "      <td>4729</td>\n",
       "      <td>2022-09-09 15:12:08</td>\n",
       "      <td>Бизнес-аналитик/Менеджер проекта\\nв Simble — I...</td>\n",
       "      <td>[\\n    {\\n        \"_\": \"MessageEntity\",\\n     ...</td>\n",
       "    </tr>\n",
       "    <tr>\n",
       "      <th>2</th>\n",
       "      <td>{\\n    \"_\": \"Chat\",\\n    \"id\": -1001137236002,...</td>\n",
       "      <td>4728</td>\n",
       "      <td>2022-09-09 09:00:11</td>\n",
       "      <td>Lead Data Engineer\\nв Cardsmobile — компания р...</td>\n",
       "      <td>[\\n    {\\n        \"_\": \"MessageEntity\",\\n     ...</td>\n",
       "    </tr>\n",
       "  </tbody>\n",
       "</table>\n",
       "</div>"
      ],
      "text/plain": [
       "                                                chat  message_id  \\\n",
       "0  {\\n    \"_\": \"Chat\",\\n    \"id\": -1001137236002,...        4730   \n",
       "1  {\\n    \"_\": \"Chat\",\\n    \"id\": -1001137236002,...        4729   \n",
       "2  {\\n    \"_\": \"Chat\",\\n    \"id\": -1001137236002,...        4728   \n",
       "\n",
       "                  date                                               text  \\\n",
       "0  2022-09-09 17:05:10  Product Analyst\\nв Safeguard Global — поставщи...   \n",
       "1  2022-09-09 15:12:08  Бизнес-аналитик/Менеджер проекта\\nв Simble — I...   \n",
       "2  2022-09-09 09:00:11  Lead Data Engineer\\nв Cardsmobile — компания р...   \n",
       "\n",
       "                                            entities  \n",
       "0  [\\n    {\\n        \"_\": \"MessageEntity\",\\n     ...  \n",
       "1  [\\n    {\\n        \"_\": \"MessageEntity\",\\n     ...  \n",
       "2  [\\n    {\\n        \"_\": \"MessageEntity\",\\n     ...  "
      ]
     },
     "execution_count": 10,
     "metadata": {},
     "output_type": "execute_result"
    }
   ],
   "source": [
    "telegram.head(3)"
   ]
  },
  {
   "cell_type": "code",
   "execution_count": 11,
   "id": "928a33df",
   "metadata": {},
   "outputs": [
    {
     "name": "stdout",
     "output_type": "stream",
     "text": [
      "<class 'pandas.core.frame.DataFrame'>\n",
      "RangeIndex: 8046 entries, 0 to 8045\n",
      "Data columns (total 5 columns):\n",
      " #   Column      Non-Null Count  Dtype \n",
      "---  ------      --------------  ----- \n",
      " 0   chat        5048 non-null   object\n",
      " 1   message_id  8046 non-null   int64 \n",
      " 2   date        8046 non-null   object\n",
      " 3   text        7512 non-null   object\n",
      " 4   entities    7345 non-null   object\n",
      "dtypes: int64(1), object(4)\n",
      "memory usage: 314.4+ KB\n"
     ]
    }
   ],
   "source": [
    "telegram.info()"
   ]
  },
  {
   "cell_type": "code",
   "execution_count": 12,
   "id": "65fdaaf8",
   "metadata": {},
   "outputs": [],
   "source": [
    "# избавляемся от пропусков\n",
    "telegram = telegram.dropna().reset_index(drop=True) "
   ]
  },
  {
   "cell_type": "code",
   "execution_count": 13,
   "id": "f93a1761",
   "metadata": {},
   "outputs": [
    {
     "data": {
      "text/plain": [
       "(4580, 5)"
      ]
     },
     "execution_count": 13,
     "metadata": {},
     "output_type": "execute_result"
    }
   ],
   "source": [
    "telegram.shape"
   ]
  },
  {
   "cell_type": "markdown",
   "id": "02f45b86",
   "metadata": {},
   "source": [
    "В отдельную колонку сохраним информацию о id чата и его названии."
   ]
  },
  {
   "cell_type": "code",
   "execution_count": 14,
   "id": "be012703",
   "metadata": {},
   "outputs": [],
   "source": [
    "telegram[\"chat_id\"] = telegram[\"chat\"].apply(lambda x: json.loads(x)['id'])\n",
    "telegram[\"title_chat\"] = telegram[\"chat\"].apply(lambda x: json.loads(x)['title'])"
   ]
  },
  {
   "cell_type": "code",
   "execution_count": 15,
   "id": "0383c3eb",
   "metadata": {},
   "outputs": [],
   "source": [
    "# В колонке data изменит тип данных\n",
    "telegram.date = pd.to_datetime(telegram['date'])"
   ]
  },
  {
   "cell_type": "code",
   "execution_count": 16,
   "id": "6c432bf5",
   "metadata": {},
   "outputs": [
    {
     "data": {
      "text/plain": [
       "0      2022-09-09 17:05:10\n",
       "1      2022-09-09 15:12:08\n",
       "847    2022-09-09 14:39:26\n",
       "2850   2022-09-09 13:46:35\n",
       "1324   2022-09-09 10:02:44\n",
       "               ...        \n",
       "4320   2019-02-18 13:24:38\n",
       "4321   2019-02-10 12:12:21\n",
       "4322   2019-02-06 14:14:56\n",
       "4323   2019-01-31 22:29:30\n",
       "4324   2019-01-29 20:02:49\n",
       "Name: date, Length: 4580, dtype: datetime64[ns]"
      ]
     },
     "execution_count": 16,
     "metadata": {},
     "output_type": "execute_result"
    }
   ],
   "source": [
    "telegram.date.sort_values(ascending=False)"
   ]
  },
  {
   "cell_type": "code",
   "execution_count": 17,
   "id": "b9d40a78",
   "metadata": {},
   "outputs": [
    {
     "data": {
      "text/html": [
       "<div>\n",
       "<style scoped>\n",
       "    .dataframe tbody tr th:only-of-type {\n",
       "        vertical-align: middle;\n",
       "    }\n",
       "\n",
       "    .dataframe tbody tr th {\n",
       "        vertical-align: top;\n",
       "    }\n",
       "\n",
       "    .dataframe thead th {\n",
       "        text-align: right;\n",
       "    }\n",
       "</style>\n",
       "<table border=\"1\" class=\"dataframe\">\n",
       "  <thead>\n",
       "    <tr style=\"text-align: right;\">\n",
       "      <th></th>\n",
       "      <th>chat</th>\n",
       "      <th>message_id</th>\n",
       "      <th>date</th>\n",
       "      <th>text</th>\n",
       "      <th>entities</th>\n",
       "      <th>chat_id</th>\n",
       "      <th>title_chat</th>\n",
       "    </tr>\n",
       "  </thead>\n",
       "  <tbody>\n",
       "    <tr>\n",
       "      <th>0</th>\n",
       "      <td>{\\n    \"_\": \"Chat\",\\n    \"id\": -1001137236002,...</td>\n",
       "      <td>4730</td>\n",
       "      <td>2022-09-09 17:05:10</td>\n",
       "      <td>Product Analyst\\nв Safeguard Global — поставщи...</td>\n",
       "      <td>[\\n    {\\n        \"_\": \"MessageEntity\",\\n     ...</td>\n",
       "      <td>-1001137236002</td>\n",
       "      <td>Job for Analysts &amp; Data Scientists</td>\n",
       "    </tr>\n",
       "  </tbody>\n",
       "</table>\n",
       "</div>"
      ],
      "text/plain": [
       "                                                chat  message_id  \\\n",
       "0  {\\n    \"_\": \"Chat\",\\n    \"id\": -1001137236002,...        4730   \n",
       "\n",
       "                 date                                               text  \\\n",
       "0 2022-09-09 17:05:10  Product Analyst\\nв Safeguard Global — поставщи...   \n",
       "\n",
       "                                            entities        chat_id  \\\n",
       "0  [\\n    {\\n        \"_\": \"MessageEntity\",\\n     ... -1001137236002   \n",
       "\n",
       "                           title_chat  \n",
       "0  Job for Analysts & Data Scientists  "
      ]
     },
     "execution_count": 17,
     "metadata": {},
     "output_type": "execute_result"
    }
   ],
   "source": [
    "telegram.head(1)"
   ]
  },
  {
   "cell_type": "markdown",
   "id": "62aa727f",
   "metadata": {},
   "source": [
    "Кнопка для просмотра выгруженных вакансий."
   ]
  },
  {
   "cell_type": "code",
   "execution_count": 18,
   "id": "75c9fe87",
   "metadata": {},
   "outputs": [
    {
     "data": {
      "application/vnd.jupyter.widget-view+json": {
       "model_id": "362a4af1d3a84d7f9c1d056a05acf327",
       "version_major": 2,
       "version_minor": 0
      },
      "text/plain": [
       "Button(description='Показать', style=ButtonStyle())"
      ]
     },
     "metadata": {},
     "output_type": "display_data"
    },
    {
     "data": {
      "application/vnd.jupyter.widget-view+json": {
       "model_id": "9d1168a81c4749aa819fcf38f4a691ab",
       "version_major": 2,
       "version_minor": 0
      },
      "text/plain": [
       "Output()"
      ]
     },
     "metadata": {},
     "output_type": "display_data"
    }
   ],
   "source": [
    "button = widgets.Button(description=\"Показать\")\n",
    "output = widgets.Output()\n",
    "\n",
    "display(button, output)\n",
    "\n",
    "counter = 0\n",
    "def on_clicked(b):\n",
    "    with output:\n",
    "        try:\n",
    "            global counter\n",
    "            clear_output()\n",
    "            print('№ вакансии: ', counter)\n",
    "            print(telegram['text'][counter])\n",
    "            counter += 1\n",
    "        except Exception as e:\n",
    "            print(\"Вакансии закончились\")\n",
    "            \n",
    "button.on_click(on_clicked)"
   ]
  },
  {
   "cell_type": "markdown",
   "id": "970424e6",
   "metadata": {},
   "source": [
    "## Вывод\n",
    "* Данные о вакансиях парсили из 7 телеграм-каналов\n",
    "* Всего 4580 строк\n",
    "* Данные выгруженны за период с 29.01.2019 по 09.09.2022"
   ]
  },
  {
   "cell_type": "markdown",
   "id": "30e5ad01",
   "metadata": {},
   "source": [
    "# Извлечение информации по ссылкам в вакансиях"
   ]
  },
  {
   "cell_type": "markdown",
   "id": "24548230",
   "metadata": {},
   "source": [
    "## Выгрузим ссылки в отдельную колонку датасета - `url`"
   ]
  },
  {
   "cell_type": "code",
   "execution_count": 19,
   "id": "2920e962",
   "metadata": {},
   "outputs": [],
   "source": [
    "# def get_links(x, regexp='http\\S+'): ###\n",
    "#     try:\n",
    "#         for i in json.loads(x['entities']):\n",
    "#             if i['type'] == 'MessageEntityType.TEXT_LINK':\n",
    "#                 return i['url']\n",
    "#             elif i['type'] == 'MessageEntityType.URL':\n",
    "#                 url = re.findall(regexp, x['text'])[0]\n",
    "#                 return url\n",
    "#     except:\n",
    "#         return None"
   ]
  },
  {
   "cell_type": "code",
   "execution_count": 20,
   "id": "4c012f7f",
   "metadata": {},
   "outputs": [],
   "source": [
    "def get_links(x, regexp='http\\S+'): ###\n",
    "    try:\n",
    "        for i in json.loads(x['entities']):\n",
    "            if i['type'] == 'MessageEntityType.TEXT_LINK':\n",
    "                return i['url']\n",
    "            elif i['type'] == 'MessageEntityType.URL':\n",
    "                url = re.findall(regexp, x['text'])[0]\n",
    "                return url\n",
    "    except:\n",
    "        return None"
   ]
  },
  {
   "cell_type": "code",
   "execution_count": 21,
   "id": "61b098b6",
   "metadata": {},
   "outputs": [],
   "source": [
    "telegram['url'] = telegram.apply(get_links, axis=1)"
   ]
  },
  {
   "cell_type": "code",
   "execution_count": 22,
   "id": "6b2367f4",
   "metadata": {},
   "outputs": [
    {
     "data": {
      "text/plain": [
       "'https://www.linkedin.com/jobs/view/3243717640/'"
      ]
     },
     "execution_count": 22,
     "metadata": {},
     "output_type": "execute_result"
    }
   ],
   "source": [
    "telegram['url'][0]"
   ]
  },
  {
   "cell_type": "markdown",
   "id": "171c40fd",
   "metadata": {},
   "source": [
    "## Найдем наиболее встречающиеся сайты, с которых поступает информация о вакансиях"
   ]
  },
  {
   "cell_type": "code",
   "execution_count": 23,
   "id": "e9085f4b",
   "metadata": {},
   "outputs": [],
   "source": [
    "# функция для поиска hostname url ссылки\n",
    "def get_hostname(link):\n",
    "    o = urlparse(link)\n",
    "    host = o.hostname\n",
    "    return host"
   ]
  },
  {
   "cell_type": "code",
   "execution_count": 24,
   "id": "6c3cca05",
   "metadata": {},
   "outputs": [],
   "source": [
    "telegram['host'] = telegram['url'].apply(lambda x: get_hostname(x))"
   ]
  },
  {
   "cell_type": "markdown",
   "id": "0992c628",
   "metadata": {},
   "source": [
    "Выведем 30 hostname, ссылка на которые встречаются больше всего. Будем вытаскивать информацию из ссылки, если она встречается больше 5 раз и ведет на сайт с вакансиями. "
   ]
  },
  {
   "cell_type": "code",
   "execution_count": 25,
   "id": "d08fb7a7",
   "metadata": {},
   "outputs": [
    {
     "data": {
      "text/plain": [
       "host\n",
       "geekjob.ru                                   733\n",
       "ya.cc                                        203\n",
       "hh.ru                                        131\n",
       "t.me                                         115\n",
       "purninja-st.s3.eu-central-1.amazonaws.com     40\n",
       "is.gd                                         31\n",
       "otus.ru                                       26\n",
       "i.ibb.co                                      26\n",
       "spb.hh.ru                                     24\n",
       "practicum.yandex.ru                           23\n",
       "www.notion.so                                 23\n",
       "telegra.ph                                    14\n",
       "proglib.io                                    14\n",
       "clck.ru                                       14\n",
       "www.youtube.com                               12\n",
       "ctrl2go.solutions                             12\n",
       "praktikum.yandex.ru                           12\n",
       "www.linkedin.com                              10\n",
       "netology.ru                                    9\n",
       "yandex.ru                                      9\n",
       "your.gms.tech                                  9\n",
       "grnh.se                                        9\n",
       "habr.com                                       8\n",
       "youtu.be                                       8\n",
       "bit.ly                                         7\n",
       "playkot.com                                    6\n",
       "search_hashtag                                 5\n",
       "cutt.ly                                        5\n",
       "www.it-one.ru                                  5\n",
       "chatfuel.com                                   5\n",
       "Name: text, dtype: int64"
      ]
     },
     "execution_count": 25,
     "metadata": {},
     "output_type": "execute_result"
    }
   ],
   "source": [
    "telegram.groupby('host')['text'].agg('count').sort_values(ascending=False).head(30)"
   ]
  },
  {
   "cell_type": "markdown",
   "id": "e231cd19",
   "metadata": {},
   "source": [
    "## Напишем функции для парсинга ссылок"
   ]
  },
  {
   "cell_type": "code",
   "execution_count": 26,
   "id": "2ebb82f1",
   "metadata": {},
   "outputs": [],
   "source": [
    "class RequestVacancy:\n",
    "    USER_AGENT = 'Mozilla/5.0 (Macintosh; Intel Mac OS X 10_15_7) AppleWebKit/537.36 (KHTML, like Gecko) Chrome/105.0.0.0 Safari/537.36'\n",
    "    \n",
    "    def get_vacancy(self, url):\n",
    "        if not url:\n",
    "            return\n",
    "        \n",
    "        try:\n",
    "            return requests.get(\n",
    "                url, \n",
    "                headers=self._get_headers(),\n",
    "#                 verify=False,\n",
    "                timeout=20,\n",
    "            )\n",
    "        except ConnectionError:\n",
    "            print(f'ConnectionError:\\t{url}')\n",
    "        except TimeoutError:\n",
    "            print(f'TimeoutError:\\t{url}')\n",
    "        except InvalidSchema:\n",
    "            print(f'InvalidSchema:\\t{url}')\n",
    "        except Exception as e:\n",
    "            print(f'{type(e)}:\\t{url}')\n",
    "    \n",
    "    def _get_headers(self) -> dict:\n",
    "        return {\n",
    "            'User-Agent': self.USER_AGENT,\n",
    "        }\n",
    "\n",
    "# vacancy requester\n",
    "vc = RequestVacancy()"
   ]
  },
  {
   "cell_type": "code",
   "execution_count": 27,
   "id": "1ba172a0",
   "metadata": {},
   "outputs": [],
   "source": [
    "# def parse_site(url, element='div', extra_info=None):\n",
    "#     try:\n",
    "#         data = requests.get(url).text \n",
    "#         soup = BeautifulSoup(data)\n",
    "#         elements = []\n",
    "#         for extra in extra_info:\n",
    "#             elements += soup.find_all(element, extra)\n",
    "#         html = ''\n",
    "#         for i in elements:\n",
    "#             html += str(i)\n",
    "#         return html\n",
    "#     except Exception as e:\n",
    "#         return '<p>Не удалось получить элемент</p>'"
   ]
  },
  {
   "cell_type": "code",
   "execution_count": 28,
   "id": "2890f0ba",
   "metadata": {},
   "outputs": [],
   "source": [
    "# HTML(parse_site(telegram['url'][1], element='section', extra_info=[{'class': 'col s12 m12 main'}]))"
   ]
  },
  {
   "cell_type": "markdown",
   "id": "87990058",
   "metadata": {},
   "source": [
    "Функции для парсинга ссылок"
   ]
  },
  {
   "cell_type": "code",
   "execution_count": 29,
   "id": "168f1e90",
   "metadata": {},
   "outputs": [],
   "source": [
    "from requests.exceptions import InvalidSchema\n",
    "\n",
    "def default_parser(url):\n",
    "    title, company, location, grade, salary, description = None, None, None, None, None, None\n",
    "    return {\n",
    "        \"title\": title,\n",
    "        \"comapany\": company,\n",
    "        \"location\": location,\n",
    "        \"grade\": grade,\n",
    "        \"salary\": salary,\n",
    "        \"description\": description\n",
    "    }\n",
    "\n",
    "\n",
    "def _get_domain(url):\n",
    "    \"\"\"\n",
    "    'https://www.linkedin.com/jobs/view/2865172210/' => 'www.linkedin.com'\n",
    "    \"\"\"\n",
    "    return '.'.join(urlparse(url).netloc.split('.')[-2:])\n",
    "\n",
    "\n",
    "def get_text_from_url(url):\n",
    "    response = vc.get_vacancy(url)\n",
    "    if not response:\n",
    "        return\n",
    "    if response.status_code > 305:\n",
    "        print(f'Status code: {response.status_code}')\n",
    "        return\n",
    "    return response.text\n",
    "\n",
    "\n",
    "\n",
    "def apply_info(url):\n",
    "    text = get_text_from_url(url)\n",
    "    if not text:\n",
    "        return\n",
    "    \n",
    "    parser = parsers.get(_get_domain(url))\n",
    "    if not parser:\n",
    "        parser = parsers['default']\n",
    "    \n",
    "    final_text = None\n",
    "#     final_text = parser(text)\n",
    "#     return json.dumps(final_text)\n",
    "    try:\n",
    "        final_text = parser(text)\n",
    "    except Exception as e:\n",
    "        print(f'{type(e)}:\\t{e}:\\t{url}')\n",
    "    else:\n",
    "        return json.dumps(final_text)"
   ]
  },
  {
   "cell_type": "code",
   "execution_count": 30,
   "id": "888a8160",
   "metadata": {
    "code_folding": []
   },
   "outputs": [],
   "source": [
    "# для сайта geekjob\n",
    "def parse_geekjob(text):\n",
    "    soup = BeautifulSoup(text) \n",
    "    \n",
    "    title = soup.find('h1').text.strip()\n",
    "    company = soup.select_one('a#company-web').text.strip()\n",
    "    location = soup.find('div', {'class':\"location\"}).text.strip() \n",
    "    grade = soup.find('div', {'class': \"category\"}).text.strip()\n",
    "    salary = soup.find('span', {'class': \"salary\"}).text.strip()\n",
    "    description = soup.find('div', {'class': \"description\"}).text.strip()\n",
    "        \n",
    "    return {\n",
    "        \"title\": title,\n",
    "        \"comapany\": company,\n",
    "        \"location\": location,\n",
    "        \"grade\": grade,\n",
    "        \"salary\": salary,\n",
    "        \"description\": description\n",
    "    }"
   ]
  },
  {
   "cell_type": "code",
   "execution_count": 31,
   "id": "0d6c48c8",
   "metadata": {},
   "outputs": [],
   "source": [
    "# для сайта hh.ru\n",
    "def parse_hh(text):\n",
    "    \n",
    "    soup = BeautifulSoup(text)\n",
    "\n",
    "    title = soup.find('h1', {'data-qa':\"vacancy-title\"}).text.strip() #*\n",
    "    company = soup.find('span', {'class': \"vacancy-company-name\"}, limit=1).text.strip()\n",
    "    location = soup.find('p', {'data-qa':\"vacancy-view-location\"}).text.strip()\n",
    "    grade = soup.find('p', {'class': \"vacancy-description-list-item\"}, limit=1).text.strip()\n",
    "    salary = soup.find('div', {'data-qa': \"vacancy-salary\"}, limit=1).text.strip() #*\n",
    "    description = soup.find('div', {'class': \"vacancy-section\"}).text.strip()\n",
    "#    title = re.sub(r'[^а-яА-Яa-zA-Z]', ' ', title)\n",
    "    \n",
    "    return {\n",
    "        \"title\": title,\n",
    "        \"comapany\": company,\n",
    "        \"location\": location,\n",
    "        \"grade\": grade,\n",
    "        \"salary\": salary,\n",
    "        \"description\": description\n",
    "    }"
   ]
  },
  {
   "cell_type": "code",
   "execution_count": 32,
   "id": "54394fcc",
   "metadata": {},
   "outputs": [],
   "source": [
    "# для сайта proglib\n",
    "def parse_proglib(text):\n",
    "    \n",
    "    soup = BeautifulSoup(text)\n",
    "    \n",
    "    title = soup.find('h1', {'class':\"entity__title mb-2\"}).text.strip() #*\n",
    "    company = soup.find('span', {'itemprop': \"hiringOrganization\"}).text.strip()\n",
    "    location = soup.find('p', {'data-qa':\"vacancy-view-location\"}).text.strip()\n",
    "    grade = soup.find('span', {'itemprop': \"experienceRequirements\"}).text.strip()\n",
    "    salary = soup.find('span', {'itemprop': \"baseSalary\"}).text.strip() #*\n",
    "    description = soup.find('div', {'class': \"block__content entity__content\"}).text.strip()\n",
    "#    title = re.sub(r'[^а-яА-Яa-zA-Z]', ' ', title)\n",
    "    \n",
    "    return {\n",
    "        \"title\": title,\n",
    "        \"comapany\": company,\n",
    "        \"location\": location,\n",
    "        \"grade\": grade,\n",
    "        \"salary\": salary,\n",
    "        \"description\": description\n",
    "    }"
   ]
  },
  {
   "cell_type": "code",
   "execution_count": 33,
   "id": "0386280e",
   "metadata": {},
   "outputs": [],
   "source": [
    "# для сайта linkedn\n",
    "def parse_linkedn(text):\n",
    "    \n",
    "    soup = BeautifulSoup(text)\n",
    "    \n",
    "    title = soup.find('h1', {'class':\"top-card-layout__title\"}).text.strip() #*\n",
    "    company = soup.find('a', {'class': \"topcard__org-name-link\"}).text.strip()\n",
    "    location = soup.find('span', {'class':\"topcard__flavor topcard__flavor--bullet\"}).text.strip()\n",
    "    grade = soup.find('h3', {'class': \"description__job-criteria-subheader\"}).text.strip()\n",
    "    salary = 'None' #*\n",
    "    description = soup.find('div', {'class': \"show-more-less-html__markup\"}).text.strip()\n",
    "#    title = re.sub(r'[^а-яА-Яa-zA-Z]', ' ', title)\n",
    "    \n",
    "    return {\n",
    "        \"title\": title,\n",
    "        \"comapany\": company,\n",
    "        \"location\": location,\n",
    "        \"grade\": grade,\n",
    "        \"salary\": salary,\n",
    "        \"description\": description\n",
    "    }"
   ]
  },
  {
   "cell_type": "code",
   "execution_count": 34,
   "id": "4419b12b",
   "metadata": {},
   "outputs": [],
   "source": [
    "# для сайта yandex\n",
    "def parse_yandex(text):\n",
    "    \n",
    "    soup = BeautifulSoup(text)\n",
    "\n",
    "    title = soup.find('h1', {'class':\"lc-styled-text__text\"}).text.strip() #*\n",
    "    company = 'Yandex'\n",
    "    #     location = soup.find('span', {'class':\"Text Text_typography_control-s lc-jobs-tag__label\"}).text.strip()\n",
    "    #     grade = soup.find('div', {'class': \"lc-jobs-vacancy__meta-section-items\"}).text.strip()\n",
    "\n",
    "    location_tag = soup.select_one('div.lc-jobs-vacancy__meta-section:nth-child(3)')\n",
    "    location_items = location_tag.select('span.lc-jobs-tag__label')\n",
    "    location = ', '.join((t.text for t in location_items))\n",
    "\n",
    "    grade_items = (\n",
    "            soup\n",
    "            .select_one('div.lc-jobs-vacancy__meta-section:nth-child(5)')\n",
    "            .select('span.lc-jobs-tag__label')\n",
    "        )\n",
    "    grade = ', '.join((t.text for t in grade_items))\n",
    "\n",
    "\n",
    "    salary = 'None' #*\n",
    "    description = soup.find('div', {'class': \"lc-jobs-vacancy__description\"}).text.strip()\n",
    " \n",
    "    #title = re.sub(r'[^а-яА-Яa-zA-Z]', ' ', title)\n",
    "    \n",
    "    return {\n",
    "        \"title\": title,\n",
    "        \"comapany\": company,\n",
    "        \"location\": location,\n",
    "        \"grade\": grade,\n",
    "        \"salary\": salary,\n",
    "        \"description\": description\n",
    "    }"
   ]
  },
  {
   "cell_type": "code",
   "execution_count": 35,
   "id": "cab0b9f1",
   "metadata": {},
   "outputs": [],
   "source": [
    "parsers = {\n",
    "    'geekjob.ru': parse_geekjob,\n",
    "    'ya.cc' : parse_yandex,\n",
    "    'linkedin.com': parse_linkedn,\n",
    "    'hh.ry': parse_hh,\n",
    "    'default': default_parser\n",
    "}"
   ]
  },
  {
   "cell_type": "code",
   "execution_count": 36,
   "id": "948a6060",
   "metadata": {},
   "outputs": [],
   "source": [
    "# parse_yandex(get_text_from_url('https://yandex.ru/jobs/vacancies/%D1%80%D0%B0%D0%B7%D1%80%D0%B0%D0%B1%D0%BE%D1%82%D1%87%D0%B8%D0%BA-%D0%B8%D1%81%D1%81%D0%BB%D0%B5%D0%B4%D0%BE%D0%B2%D0%B0%D1%82%D0%B5%D0%BB%D1%8C-%D1%81%D0%B8%D0%BC%D1%83%D0%BB%D1%8F%D1%86%D0%B8%D0%B8-%D0%B0%D0%B3%D0%B5%D0%BD%D1%82%D0%BE%D0%B2-%D0%B2-%D1%81%D0%B5%D1%80%D0%B2%D0%B8%D1%81-%D0%B1%D0%B5%D1%81%D0%BF%D0%B8%D0%BB%D0%BE%D1%82%D0%BD%D1%8B%D1%85-%D0%B0%D0%B2%D1%82%D0%BE%D0%BC%D0%BE%D0%B1%D0%B8%D0%BB%D0%B5%D0%B9-5773'))"
   ]
  },
  {
   "cell_type": "code",
   "execution_count": 37,
   "id": "9a49c23c",
   "metadata": {
    "scrolled": false
   },
   "outputs": [],
   "source": [
    "# parse_linkedn(get_text_from_url('https://www.linkedin.com/jobs/collections/recommended/?currentJobId=3253779996'))"
   ]
  },
  {
   "cell_type": "code",
   "execution_count": 38,
   "id": "fc8357a0",
   "metadata": {},
   "outputs": [],
   "source": [
    "from tqdm import tqdm\n",
    "tqdm.pandas()\n",
    "#df_users.groupby(['userID', 'requestDate']).progress_apply(feature_rollup)"
   ]
  },
  {
   "cell_type": "code",
   "execution_count": 39,
   "id": "4de53be5",
   "metadata": {},
   "outputs": [
    {
     "name": "stderr",
     "output_type": "stream",
     "text": [
      "  0%|          | 14/4580 [00:36<2:54:15,  2.29s/it]"
     ]
    },
    {
     "name": "stdout",
     "output_type": "stream",
     "text": [
      "<class 'AttributeError'>:\t'NoneType' object has no attribute 'text':\thttps://www.linkedin.com/jobs/view/3247021542/\n"
     ]
    },
    {
     "name": "stderr",
     "output_type": "stream",
     "text": [
      "\r",
      "  0%|          | 15/4580 [00:37<2:12:09,  1.74s/it]"
     ]
    },
    {
     "name": "stdout",
     "output_type": "stream",
     "text": [
      "<class 'AttributeError'>:\t'NoneType' object has no attribute 'text':\thttps://geekjob.ru/sfQ\n"
     ]
    },
    {
     "name": "stderr",
     "output_type": "stream",
     "text": [
      "  2%|▏         | 70/4580 [03:55<4:01:04,  3.21s/it]"
     ]
    },
    {
     "name": "stdout",
     "output_type": "stream",
     "text": [
      "<class 'AttributeError'>:\t'NoneType' object has no attribute 'text':\thttps://geekjob.ru/sdC\n"
     ]
    },
    {
     "name": "stderr",
     "output_type": "stream",
     "text": [
      "  2%|▏         | 88/4580 [05:00<3:32:01,  2.83s/it]"
     ]
    },
    {
     "name": "stdout",
     "output_type": "stream",
     "text": [
      "<class 'AttributeError'>:\t'NoneType' object has no attribute 'text':\thttps://geekjob.ru/sd7\n"
     ]
    },
    {
     "name": "stderr",
     "output_type": "stream",
     "text": [
      "\r",
      "  2%|▏         | 89/4580 [05:01<2:41:55,  2.16s/it]"
     ]
    },
    {
     "name": "stdout",
     "output_type": "stream",
     "text": [
      "<class 'AttributeError'>:\t'NoneType' object has no attribute 'text':\thttps://geekjob.ru/sck\n"
     ]
    },
    {
     "name": "stderr",
     "output_type": "stream",
     "text": [
      "\r",
      "  2%|▏         | 90/4580 [05:03<2:40:29,  2.14s/it]"
     ]
    },
    {
     "name": "stdout",
     "output_type": "stream",
     "text": [
      "<class 'AttributeError'>:\t'NoneType' object has no attribute 'text':\thttps://geekjob.ru/scc\n"
     ]
    },
    {
     "name": "stderr",
     "output_type": "stream",
     "text": [
      "  2%|▏         | 97/4580 [05:27<3:50:17,  3.08s/it]"
     ]
    },
    {
     "name": "stdout",
     "output_type": "stream",
     "text": [
      "<class 'AttributeError'>:\t'NoneType' object has no attribute 'text':\thttps://geekjob.ru/sce\n"
     ]
    },
    {
     "name": "stderr",
     "output_type": "stream",
     "text": [
      "\r",
      "  2%|▏         | 98/4580 [05:29<3:29:16,  2.80s/it]"
     ]
    },
    {
     "name": "stdout",
     "output_type": "stream",
     "text": [
      "<class 'AttributeError'>:\t'NoneType' object has no attribute 'text':\thttps://geekjob.ru/scd\n"
     ]
    },
    {
     "name": "stderr",
     "output_type": "stream",
     "text": [
      "  2%|▏         | 103/4580 [05:40<2:46:51,  2.24s/it]"
     ]
    },
    {
     "name": "stdout",
     "output_type": "stream",
     "text": [
      "<class 'AttributeError'>:\t'NoneType' object has no attribute 'text':\thttps://geekjob.ru/sbW\n"
     ]
    },
    {
     "name": "stderr",
     "output_type": "stream",
     "text": [
      "\r",
      "  2%|▏         | 104/4580 [05:41<2:23:31,  1.92s/it]"
     ]
    },
    {
     "name": "stdout",
     "output_type": "stream",
     "text": [
      "<class 'AttributeError'>:\t'NoneType' object has no attribute 'text':\thttps://geekjob.ru/sbV\n"
     ]
    },
    {
     "name": "stderr",
     "output_type": "stream",
     "text": [
      "\r",
      "  2%|▏         | 105/4580 [05:43<2:17:16,  1.84s/it]"
     ]
    },
    {
     "name": "stdout",
     "output_type": "stream",
     "text": [
      "<class 'AttributeError'>:\t'NoneType' object has no attribute 'text':\thttps://geekjob.ru/sbU\n"
     ]
    },
    {
     "name": "stderr",
     "output_type": "stream",
     "text": [
      "\r",
      "  2%|▏         | 106/4580 [05:45<2:20:12,  1.88s/it]"
     ]
    },
    {
     "name": "stdout",
     "output_type": "stream",
     "text": [
      "<class 'AttributeError'>:\t'NoneType' object has no attribute 'text':\thttps://geekjob.ru/sbT\n"
     ]
    },
    {
     "name": "stderr",
     "output_type": "stream",
     "text": [
      "\r",
      "  2%|▏         | 107/4580 [05:47<2:33:01,  2.05s/it]"
     ]
    },
    {
     "name": "stdout",
     "output_type": "stream",
     "text": [
      "<class 'AttributeError'>:\t'NoneType' object has no attribute 'text':\thttps://geekjob.ru/saX\n"
     ]
    },
    {
     "name": "stderr",
     "output_type": "stream",
     "text": [
      "\r",
      "  2%|▏         | 108/4580 [05:50<2:46:17,  2.23s/it]"
     ]
    },
    {
     "name": "stdout",
     "output_type": "stream",
     "text": [
      "<class 'AttributeError'>:\t'NoneType' object has no attribute 'text':\thttps://geekjob.ru/saY\n"
     ]
    },
    {
     "name": "stderr",
     "output_type": "stream",
     "text": [
      "\r",
      "  2%|▏         | 109/4580 [05:52<2:53:38,  2.33s/it]"
     ]
    },
    {
     "name": "stdout",
     "output_type": "stream",
     "text": [
      "<class 'AttributeError'>:\t'NoneType' object has no attribute 'text':\thttps://geekjob.ru/sYR\n"
     ]
    },
    {
     "name": "stderr",
     "output_type": "stream",
     "text": [
      "\r",
      "  2%|▏         | 110/4580 [05:55<2:54:55,  2.35s/it]"
     ]
    },
    {
     "name": "stdout",
     "output_type": "stream",
     "text": [
      "<class 'AttributeError'>:\t'NoneType' object has no attribute 'text':\thttps://geekjob.ru/sYS\n"
     ]
    },
    {
     "name": "stderr",
     "output_type": "stream",
     "text": [
      "  3%|▎         | 118/4580 [06:24<4:03:40,  3.28s/it]"
     ]
    },
    {
     "name": "stdout",
     "output_type": "stream",
     "text": [
      "<class 'AttributeError'>:\t'NoneType' object has no attribute 'text':\thttps://geekjob.ru/sYQ\n"
     ]
    },
    {
     "name": "stderr",
     "output_type": "stream",
     "text": [
      "\r",
      "  3%|▎         | 119/4580 [06:27<3:41:05,  2.97s/it]"
     ]
    },
    {
     "name": "stdout",
     "output_type": "stream",
     "text": [
      "<class 'AttributeError'>:\t'NoneType' object has no attribute 'text':\thttps://geekjob.ru/sYP\n"
     ]
    },
    {
     "name": "stderr",
     "output_type": "stream",
     "text": [
      "  3%|▎         | 135/4580 [07:18<2:45:40,  2.24s/it]"
     ]
    },
    {
     "name": "stdout",
     "output_type": "stream",
     "text": [
      "<class 'AttributeError'>:\t'NoneType' object has no attribute 'text':\thttps://geekjob.ru/sV1\n"
     ]
    },
    {
     "name": "stderr",
     "output_type": "stream",
     "text": [
      "\r",
      "  3%|▎         | 136/4580 [07:21<2:47:25,  2.26s/it]"
     ]
    },
    {
     "name": "stdout",
     "output_type": "stream",
     "text": [
      "<class 'AttributeError'>:\t'NoneType' object has no attribute 'text':\thttps://geekjob.ru/sV5\n"
     ]
    },
    {
     "name": "stderr",
     "output_type": "stream",
     "text": [
      "\r",
      "  3%|▎         | 137/4580 [07:23<2:43:15,  2.20s/it]"
     ]
    },
    {
     "name": "stdout",
     "output_type": "stream",
     "text": [
      "<class 'AttributeError'>:\t'NoneType' object has no attribute 'text':\thttps://geekjob.ru/sV4\n"
     ]
    },
    {
     "name": "stderr",
     "output_type": "stream",
     "text": [
      "  3%|▎         | 139/4580 [07:27<2:30:48,  2.04s/it]"
     ]
    },
    {
     "name": "stdout",
     "output_type": "stream",
     "text": [
      "<class 'AttributeError'>:\t'NoneType' object has no attribute 'text':\thttps://geekjob.ru/sWj\n"
     ]
    },
    {
     "name": "stderr",
     "output_type": "stream",
     "text": [
      "  3%|▎         | 155/4580 [08:16<4:13:40,  3.44s/it]"
     ]
    },
    {
     "name": "stdout",
     "output_type": "stream",
     "text": [
      "<class 'AttributeError'>:\t'NoneType' object has no attribute 'text':\thttps://geekjob.ru/sSX\n"
     ]
    },
    {
     "name": "stderr",
     "output_type": "stream",
     "text": [
      "  3%|▎         | 157/4580 [08:22<3:52:42,  3.16s/it]"
     ]
    },
    {
     "name": "stdout",
     "output_type": "stream",
     "text": [
      "<class 'AttributeError'>:\t'NoneType' object has no attribute 'text':\thttps://geekjob.ru/sSY\n"
     ]
    },
    {
     "name": "stderr",
     "output_type": "stream",
     "text": [
      "\r",
      "  3%|▎         | 158/4580 [08:24<3:41:15,  3.00s/it]"
     ]
    },
    {
     "name": "stdout",
     "output_type": "stream",
     "text": [
      "<class 'AttributeError'>:\t'NoneType' object has no attribute 'text':\thttps://geekjob.ru/sSW\n"
     ]
    },
    {
     "name": "stderr",
     "output_type": "stream",
     "text": [
      "\r",
      "  3%|▎         | 159/4580 [08:27<3:32:41,  2.89s/it]"
     ]
    },
    {
     "name": "stdout",
     "output_type": "stream",
     "text": [
      "<class 'AttributeError'>:\t'NoneType' object has no attribute 'text':\thttps://geekjob.ru/sSZ\n"
     ]
    },
    {
     "name": "stderr",
     "output_type": "stream",
     "text": [
      "  4%|▎         | 163/4580 [08:40<3:30:08,  2.85s/it]"
     ]
    },
    {
     "name": "stdout",
     "output_type": "stream",
     "text": [
      "<class 'AttributeError'>:\t'NoneType' object has no attribute 'text':\thttps://geekjob.ru/sST\n"
     ]
    },
    {
     "name": "stderr",
     "output_type": "stream",
     "text": [
      "\r",
      "  4%|▎         | 164/4580 [08:42<3:22:20,  2.75s/it]"
     ]
    },
    {
     "name": "stdout",
     "output_type": "stream",
     "text": [
      "<class 'AttributeError'>:\t'NoneType' object has no attribute 'text':\thttps://geekjob.ru/sR3\n"
     ]
    },
    {
     "name": "stderr",
     "output_type": "stream",
     "text": [
      "  4%|▎         | 167/4580 [08:48<2:52:15,  2.34s/it]"
     ]
    },
    {
     "name": "stdout",
     "output_type": "stream",
     "text": [
      "<class 'AttributeError'>:\t'NoneType' object has no attribute 'text':\thttps://geekjob.ru/sR4\n"
     ]
    },
    {
     "name": "stderr",
     "output_type": "stream",
     "text": [
      "  4%|▍         | 185/4580 [09:48<3:28:18,  2.84s/it]"
     ]
    },
    {
     "name": "stdout",
     "output_type": "stream",
     "text": [
      "<class 'AttributeError'>:\t'NoneType' object has no attribute 'text':\thttps://geekjob.ru/sR2\n"
     ]
    },
    {
     "name": "stderr",
     "output_type": "stream",
     "text": [
      "  4%|▍         | 189/4580 [09:59<2:58:46,  2.44s/it]"
     ]
    },
    {
     "name": "stdout",
     "output_type": "stream",
     "text": [
      "<class 'AttributeError'>:\t'NoneType' object has no attribute 'text':\thttps://geekjob.ru/sRU\n"
     ]
    },
    {
     "name": "stderr",
     "output_type": "stream",
     "text": [
      "  4%|▍         | 194/4580 [10:12<3:12:51,  2.64s/it]"
     ]
    },
    {
     "name": "stdout",
     "output_type": "stream",
     "text": [
      "<class 'AttributeError'>:\t'NoneType' object has no attribute 'text':\thttps://geekjob.ru/sR5\n"
     ]
    },
    {
     "name": "stderr",
     "output_type": "stream",
     "text": [
      "\r",
      "  4%|▍         | 195/4580 [10:15<3:11:31,  2.62s/it]"
     ]
    },
    {
     "name": "stdout",
     "output_type": "stream",
     "text": [
      "<class 'AttributeError'>:\t'NoneType' object has no attribute 'text':\thttps://geekjob.ru/sR6\n"
     ]
    },
    {
     "name": "stderr",
     "output_type": "stream",
     "text": [
      "  4%|▍         | 200/4580 [10:30<4:10:36,  3.43s/it]"
     ]
    },
    {
     "name": "stdout",
     "output_type": "stream",
     "text": [
      "<class 'AttributeError'>:\t'NoneType' object has no attribute 'text':\thttps://geekjob.ru/sMj\n"
     ]
    },
    {
     "name": "stderr",
     "output_type": "stream",
     "text": [
      "  4%|▍         | 202/4580 [10:32<2:26:05,  2.00s/it]"
     ]
    },
    {
     "name": "stdout",
     "output_type": "stream",
     "text": [
      "<class 'AttributeError'>:\t'NoneType' object has no attribute 'text':\thttps://geekjob.ru/sMi\n"
     ]
    },
    {
     "name": "stderr",
     "output_type": "stream",
     "text": [
      "\r",
      "  4%|▍         | 203/4580 [10:34<2:36:20,  2.14s/it]"
     ]
    },
    {
     "name": "stdout",
     "output_type": "stream",
     "text": [
      "<class 'AttributeError'>:\t'NoneType' object has no attribute 'text':\thttps://geekjob.ru/sMo\n"
     ]
    },
    {
     "name": "stderr",
     "output_type": "stream",
     "text": [
      "  4%|▍         | 205/4580 [10:42<3:29:53,  2.88s/it]"
     ]
    },
    {
     "name": "stdout",
     "output_type": "stream",
     "text": [
      "<class 'AttributeError'>:\t'NoneType' object has no attribute 'text':\thttps://geekjob.ru/sMg\n"
     ]
    },
    {
     "name": "stderr",
     "output_type": "stream",
     "text": [
      "\r",
      "  4%|▍         | 206/4580 [10:43<2:53:03,  2.37s/it]"
     ]
    },
    {
     "name": "stdout",
     "output_type": "stream",
     "text": [
      "<class 'AttributeError'>:\t'NoneType' object has no attribute 'text':\thttps://geekjob.ru/sMJ\n"
     ]
    },
    {
     "name": "stderr",
     "output_type": "stream",
     "text": [
      "\r",
      "  5%|▍         | 207/4580 [10:46<3:09:04,  2.59s/it]"
     ]
    },
    {
     "name": "stdout",
     "output_type": "stream",
     "text": [
      "<class 'AttributeError'>:\t'NoneType' object has no attribute 'text':\thttps://geekjob.ru/sMe\n"
     ]
    },
    {
     "name": "stderr",
     "output_type": "stream",
     "text": [
      "  5%|▍         | 209/4580 [10:52<3:04:50,  2.54s/it]"
     ]
    },
    {
     "name": "stdout",
     "output_type": "stream",
     "text": [
      "<class 'AttributeError'>:\t'NoneType' object has no attribute 'text':\thttps://geekjob.ru/sMh\n"
     ]
    },
    {
     "name": "stderr",
     "output_type": "stream",
     "text": [
      "  5%|▍         | 215/4580 [11:07<2:11:48,  1.81s/it]"
     ]
    },
    {
     "name": "stdout",
     "output_type": "stream",
     "text": [
      "<class 'AttributeError'>:\t'NoneType' object has no attribute 'text':\thttps://geekjob.ru/sMD\n"
     ]
    },
    {
     "name": "stderr",
     "output_type": "stream",
     "text": [
      "  5%|▍         | 218/4580 [11:17<3:04:54,  2.54s/it]"
     ]
    },
    {
     "name": "stdout",
     "output_type": "stream",
     "text": [
      "<class 'AttributeError'>:\t'NoneType' object has no attribute 'text':\thttps://geekjob.ru/sQG\n"
     ]
    },
    {
     "name": "stderr",
     "output_type": "stream",
     "text": [
      "  5%|▍         | 226/4580 [11:53<4:22:40,  3.62s/it]"
     ]
    },
    {
     "name": "stdout",
     "output_type": "stream",
     "text": [
      "<class 'AttributeError'>:\t'NoneType' object has no attribute 'text':\thttps://geekjob.ru/sKx\n"
     ]
    },
    {
     "name": "stderr",
     "output_type": "stream",
     "text": [
      "\r",
      "  5%|▍         | 227/4580 [11:56<3:57:07,  3.27s/it]"
     ]
    },
    {
     "name": "stdout",
     "output_type": "stream",
     "text": [
      "<class 'AttributeError'>:\t'NoneType' object has no attribute 'text':\thttps://geekjob.ru/sJd\n"
     ]
    },
    {
     "name": "stderr",
     "output_type": "stream",
     "text": [
      "\r",
      "  5%|▍         | 228/4580 [11:56<2:58:45,  2.46s/it]"
     ]
    },
    {
     "name": "stdout",
     "output_type": "stream",
     "text": [
      "<class 'AttributeError'>:\t'NoneType' object has no attribute 'text':\thttps://geekjob.ru/sL3\n"
     ]
    },
    {
     "name": "stderr",
     "output_type": "stream",
     "text": [
      "  5%|▌         | 230/4580 [12:02<3:17:29,  2.72s/it]"
     ]
    },
    {
     "name": "stdout",
     "output_type": "stream",
     "text": [
      "<class 'AttributeError'>:\t'NoneType' object has no attribute 'text':\thttps://geekjob.ru/sK4\n"
     ]
    },
    {
     "name": "stderr",
     "output_type": "stream",
     "text": [
      "\r",
      "  5%|▌         | 231/4580 [12:05<3:14:03,  2.68s/it]"
     ]
    },
    {
     "name": "stdout",
     "output_type": "stream",
     "text": [
      "<class 'AttributeError'>:\t'NoneType' object has no attribute 'text':\thttps://geekjob.ru/sJY\n"
     ]
    },
    {
     "name": "stderr",
     "output_type": "stream",
     "text": [
      "  5%|▌         | 237/4580 [12:33<4:28:41,  3.71s/it]"
     ]
    },
    {
     "name": "stdout",
     "output_type": "stream",
     "text": [
      "<class 'AttributeError'>:\t'NoneType' object has no attribute 'text':\thttps://geekjob.ru/sJZ\n"
     ]
    },
    {
     "name": "stderr",
     "output_type": "stream",
     "text": [
      "\r",
      "  5%|▌         | 238/4580 [12:35<3:51:38,  3.20s/it]"
     ]
    },
    {
     "name": "stdout",
     "output_type": "stream",
     "text": [
      "<class 'AttributeError'>:\t'NoneType' object has no attribute 'text':\thttps://geekjob.ru/sJj\n"
     ]
    },
    {
     "name": "stderr",
     "output_type": "stream",
     "text": [
      "  5%|▌         | 243/4580 [12:49<3:39:11,  3.03s/it]"
     ]
    },
    {
     "name": "stdout",
     "output_type": "stream",
     "text": [
      "<class 'AttributeError'>:\t'NoneType' object has no attribute 'text':\thttps://geekjob.ru/sJe\n"
     ]
    },
    {
     "name": "stderr",
     "output_type": "stream",
     "text": [
      "  5%|▌         | 247/4580 [13:03<3:25:34,  2.85s/it]"
     ]
    },
    {
     "name": "stdout",
     "output_type": "stream",
     "text": [
      "<class 'AttributeError'>:\t'NoneType' object has no attribute 'text':\thttps://geekjob.ru/sJb\n"
     ]
    },
    {
     "name": "stderr",
     "output_type": "stream",
     "text": [
      "\r",
      "  5%|▌         | 248/4580 [13:05<3:17:34,  2.74s/it]"
     ]
    },
    {
     "name": "stdout",
     "output_type": "stream",
     "text": [
      "<class 'AttributeError'>:\t'NoneType' object has no attribute 'text':\thttps://geekjob.ru/sJW\n"
     ]
    },
    {
     "name": "stderr",
     "output_type": "stream",
     "text": [
      "  6%|▌         | 255/4580 [13:29<3:37:45,  3.02s/it]"
     ]
    },
    {
     "name": "stdout",
     "output_type": "stream",
     "text": [
      "<class 'AttributeError'>:\t'NoneType' object has no attribute 'text':\thttps://geekjob.ru/sIo\n"
     ]
    },
    {
     "name": "stderr",
     "output_type": "stream",
     "text": [
      "\r",
      "  6%|▌         | 256/4580 [13:31<3:24:19,  2.84s/it]"
     ]
    },
    {
     "name": "stdout",
     "output_type": "stream",
     "text": [
      "<class 'AttributeError'>:\t'NoneType' object has no attribute 'text':\thttps://geekjob.ru/sIx\n"
     ]
    },
    {
     "name": "stderr",
     "output_type": "stream",
     "text": [
      "\r",
      "  6%|▌         | 257/4580 [13:33<3:10:52,  2.65s/it]"
     ]
    },
    {
     "name": "stdout",
     "output_type": "stream",
     "text": [
      "<class 'AttributeError'>:\t'NoneType' object has no attribute 'text':\thttps://geekjob.ru/sIt\n"
     ]
    },
    {
     "name": "stderr",
     "output_type": "stream",
     "text": [
      "\r",
      "  6%|▌         | 258/4580 [13:36<3:07:16,  2.60s/it]"
     ]
    },
    {
     "name": "stdout",
     "output_type": "stream",
     "text": [
      "<class 'AttributeError'>:\t'NoneType' object has no attribute 'text':\thttps://geekjob.ru/sIw\n"
     ]
    },
    {
     "name": "stderr",
     "output_type": "stream",
     "text": [
      "  6%|▌         | 275/4580 [14:44<4:17:57,  3.60s/it]"
     ]
    },
    {
     "name": "stdout",
     "output_type": "stream",
     "text": [
      "<class 'AttributeError'>:\t'NoneType' object has no attribute 'text':\thttps://geekjob.ru/sIK\n"
     ]
    },
    {
     "name": "stderr",
     "output_type": "stream",
     "text": [
      "\r",
      "  6%|▌         | 276/4580 [14:46<3:39:03,  3.05s/it]"
     ]
    },
    {
     "name": "stdout",
     "output_type": "stream",
     "text": [
      "<class 'AttributeError'>:\t'NoneType' object has no attribute 'text':\thttps://geekjob.ru/sHw\n"
     ]
    },
    {
     "name": "stderr",
     "output_type": "stream",
     "text": [
      "\r",
      "  6%|▌         | 277/4580 [14:50<4:12:33,  3.52s/it]"
     ]
    },
    {
     "name": "stdout",
     "output_type": "stream",
     "text": [
      "<class 'AttributeError'>:\t'NoneType' object has no attribute 'text':\thttps://geekjob.ru/sHv\n"
     ]
    },
    {
     "name": "stderr",
     "output_type": "stream",
     "text": [
      "  6%|▌         | 279/4580 [14:55<3:17:22,  2.75s/it]"
     ]
    },
    {
     "name": "stdout",
     "output_type": "stream",
     "text": [
      "<class 'AttributeError'>:\t'NoneType' object has no attribute 'text':\thttps://geekjob.ru/sID\n"
     ]
    },
    {
     "name": "stderr",
     "output_type": "stream",
     "text": [
      "  6%|▌         | 281/4580 [14:58<2:44:58,  2.30s/it]"
     ]
    },
    {
     "name": "stdout",
     "output_type": "stream",
     "text": [
      "<class 'AttributeError'>:\t'NoneType' object has no attribute 'text':\thttps://geekjob.ru/sHu\n"
     ]
    },
    {
     "name": "stderr",
     "output_type": "stream",
     "text": [
      "\r",
      "  6%|▌         | 282/4580 [15:01<2:50:17,  2.38s/it]"
     ]
    },
    {
     "name": "stdout",
     "output_type": "stream",
     "text": [
      "<class 'AttributeError'>:\t'NoneType' object has no attribute 'text':\thttps://geekjob.ru/sHt\n"
     ]
    },
    {
     "name": "stderr",
     "output_type": "stream",
     "text": [
      "  6%|▌         | 284/4580 [15:09<3:47:24,  3.18s/it]"
     ]
    },
    {
     "name": "stdout",
     "output_type": "stream",
     "text": [
      "<class 'AttributeError'>:\t'NoneType' object has no attribute 'text':\thttps://geekjob.ru/sHK\n"
     ]
    },
    {
     "name": "stderr",
     "output_type": "stream",
     "text": [
      "  6%|▋         | 292/4580 [15:44<4:26:46,  3.73s/it]"
     ]
    },
    {
     "name": "stdout",
     "output_type": "stream",
     "text": [
      "<class 'AttributeError'>:\t'NoneType' object has no attribute 'text':\thttps://geekjob.ru/sHI\n"
     ]
    },
    {
     "name": "stderr",
     "output_type": "stream",
     "text": [
      "  7%|▋         | 301/4580 [16:10<3:02:15,  2.56s/it]"
     ]
    },
    {
     "name": "stdout",
     "output_type": "stream",
     "text": [
      "<class 'AttributeError'>:\t'NoneType' object has no attribute 'text':\thttps://blog.geekjob.ru/digest-analyst-may-22/\n"
     ]
    },
    {
     "name": "stderr",
     "output_type": "stream",
     "text": [
      "  7%|▋         | 312/4580 [16:53<5:50:31,  4.93s/it]"
     ]
    },
    {
     "name": "stdout",
     "output_type": "stream",
     "text": [
      "<class 'AttributeError'>:\t'NoneType' object has no attribute 'text':\thttps://geekjob.ru/sDC\n"
     ]
    },
    {
     "name": "stderr",
     "output_type": "stream",
     "text": [
      "\r",
      "  7%|▋         | 313/4580 [16:56<5:02:43,  4.26s/it]"
     ]
    },
    {
     "name": "stdout",
     "output_type": "stream",
     "text": [
      "<class 'AttributeError'>:\t'NoneType' object has no attribute 'text':\thttps://geekjob.ru/sDc\n"
     ]
    },
    {
     "name": "stderr",
     "output_type": "stream",
     "text": [
      "  7%|▋         | 317/4580 [17:28<7:47:47,  6.58s/it] "
     ]
    },
    {
     "name": "stdout",
     "output_type": "stream",
     "text": [
      "<class 'AttributeError'>:\t'NoneType' object has no attribute 'text':\thttps://geekjob.ru/sDB\n"
     ]
    },
    {
     "name": "stderr",
     "output_type": "stream",
     "text": [
      "  8%|▊         | 365/4580 [20:05<3:06:32,  2.66s/it]"
     ]
    },
    {
     "name": "stdout",
     "output_type": "stream",
     "text": [
      "<class 'AttributeError'>:\t'NoneType' object has no attribute 'text':\thttps://geekjob.ru/sB2\n"
     ]
    },
    {
     "name": "stderr",
     "output_type": "stream",
     "text": [
      "  8%|▊         | 368/4580 [20:13<2:55:30,  2.50s/it]"
     ]
    },
    {
     "name": "stdout",
     "output_type": "stream",
     "text": [
      "<class 'AttributeError'>:\t'NoneType' object has no attribute 'text':\thttps://geekjob.ru/sB0\n"
     ]
    },
    {
     "name": "stderr",
     "output_type": "stream",
     "text": [
      "  8%|▊         | 384/4580 [20:52<1:39:57,  1.43s/it]"
     ]
    },
    {
     "name": "stdout",
     "output_type": "stream",
     "text": [
      "<class 'AttributeError'>:\t'NoneType' object has no attribute 'text':\thttps://geekjob.ru/sB5\n"
     ]
    },
    {
     "name": "stderr",
     "output_type": "stream",
     "text": [
      "  9%|▉         | 428/4580 [23:23<3:10:18,  2.75s/it]"
     ]
    },
    {
     "name": "stdout",
     "output_type": "stream",
     "text": [
      "<class 'AttributeError'>:\t'NoneType' object has no attribute 'text':\thttps://geekjob.ru/s8O\n"
     ]
    },
    {
     "name": "stderr",
     "output_type": "stream",
     "text": [
      "  9%|▉         | 431/4580 [23:29<2:24:45,  2.09s/it]"
     ]
    },
    {
     "name": "stdout",
     "output_type": "stream",
     "text": [
      "<class 'AttributeError'>:\t'NoneType' object has no attribute 'text':\thttps://geekjob.ru/s8M\n"
     ]
    },
    {
     "name": "stderr",
     "output_type": "stream",
     "text": [
      "  9%|▉         | 433/4580 [23:35<2:42:42,  2.35s/it]"
     ]
    },
    {
     "name": "stdout",
     "output_type": "stream",
     "text": [
      "<class 'AttributeError'>:\t'NoneType' object has no attribute 'text':\thttps://geekjob.ru/s8L\n"
     ]
    },
    {
     "name": "stderr",
     "output_type": "stream",
     "text": [
      "  9%|▉         | 435/4580 [23:40<2:52:03,  2.49s/it]"
     ]
    },
    {
     "name": "stdout",
     "output_type": "stream",
     "text": [
      "<class 'AttributeError'>:\t'NoneType' object has no attribute 'text':\thttps://geekjob.ru/s8J\n"
     ]
    },
    {
     "name": "stderr",
     "output_type": "stream",
     "text": [
      " 10%|▉         | 437/4580 [23:46<2:59:27,  2.60s/it]"
     ]
    },
    {
     "name": "stdout",
     "output_type": "stream",
     "text": [
      "<class 'AttributeError'>:\t'NoneType' object has no attribute 'text':\thttps://geekjob.ru/s8I\n"
     ]
    },
    {
     "name": "stderr",
     "output_type": "stream",
     "text": [
      " 10%|▉         | 442/4580 [24:03<3:29:01,  3.03s/it]"
     ]
    },
    {
     "name": "stdout",
     "output_type": "stream",
     "text": [
      "<class 'AttributeError'>:\t'NoneType' object has no attribute 'text':\thttps://geekjob.ru/s7B\n"
     ]
    },
    {
     "name": "stderr",
     "output_type": "stream",
     "text": [
      " 10%|▉         | 449/4580 [24:19<2:23:00,  2.08s/it]"
     ]
    },
    {
     "name": "stdout",
     "output_type": "stream",
     "text": [
      "<class 'AttributeError'>:\t'NoneType' object has no attribute 'text':\thttps://geekjob.ru/s79\n"
     ]
    },
    {
     "name": "stderr",
     "output_type": "stream",
     "text": [
      " 10%|▉         | 451/4580 [24:25<2:45:15,  2.40s/it]"
     ]
    },
    {
     "name": "stdout",
     "output_type": "stream",
     "text": [
      "<class 'AttributeError'>:\t'NoneType' object has no attribute 'text':\thttps://geekjob.ru/s7C\n"
     ]
    },
    {
     "name": "stderr",
     "output_type": "stream",
     "text": [
      " 12%|█▏        | 570/4580 [30:14<2:37:58,  2.36s/it]"
     ]
    },
    {
     "name": "stdout",
     "output_type": "stream",
     "text": [
      "<class 'AttributeError'>:\t'NoneType' object has no attribute 'text':\thttps://geekjob.ru/hXUr\n"
     ]
    },
    {
     "name": "stderr",
     "output_type": "stream",
     "text": [
      " 15%|█▌        | 702/4580 [37:27<3:51:54,  3.59s/it]"
     ]
    },
    {
     "name": "stdout",
     "output_type": "stream",
     "text": [
      "<class 'AttributeError'>:\t'NoneType' object has no attribute 'text':\thttps://geekjob.ru/hX7Z\n"
     ]
    },
    {
     "name": "stderr",
     "output_type": "stream",
     "text": [
      " 17%|█▋        | 760/4580 [40:53<3:03:35,  2.88s/it]"
     ]
    },
    {
     "name": "stdout",
     "output_type": "stream",
     "text": [
      "<class 'AttributeError'>:\t'NoneType' object has no attribute 'text':\thttps://geekjob.ru/s3E\n"
     ]
    },
    {
     "name": "stderr",
     "output_type": "stream",
     "text": [
      " 18%|█▊        | 847/4580 [45:53<2:45:29,  2.66s/it]"
     ]
    },
    {
     "name": "stdout",
     "output_type": "stream",
     "text": [
      "<class 'AttributeError'>:\t'NoneType' object has no attribute 'text':\thttps://geekjob.ru/s1\n"
     ]
    },
    {
     "name": "stderr",
     "output_type": "stream",
     "text": [
      " 22%|██▏       | 999/4580 [46:32<08:21,  7.13it/s]  "
     ]
    },
    {
     "name": "stdout",
     "output_type": "stream",
     "text": [
      "<class 'requests.exceptions.ConnectionError'>:\thttps://www.in-aim.ru)\n"
     ]
    },
    {
     "name": "stderr",
     "output_type": "stream",
     "text": [
      " 23%|██▎       | 1059/4580 [46:38<05:16, 11.11it/s]"
     ]
    },
    {
     "name": "stdout",
     "output_type": "stream",
     "text": [
      "<class 'requests.exceptions.ConnectionError'>:\thttps://selectel.ru)\n",
      "<class 'requests.exceptions.ConnectionError'>:\thttps://tkmistral.ru)\n"
     ]
    },
    {
     "name": "stderr",
     "output_type": "stream",
     "text": [
      " 29%|██▉       | 1339/4580 [48:02<1:03:12,  1.17s/it]"
     ]
    },
    {
     "name": "stdout",
     "output_type": "stream",
     "text": [
      "InvalidSchema:\ttg://search_hashtag?hashtag=%D0%B2%D0%B0%D0%BA%D0%B0%D0%BD%D1%81%D0%B8%D1%8F\n"
     ]
    },
    {
     "name": "stderr",
     "output_type": "stream",
     "text": [
      " 31%|███       | 1402/4580 [48:21<13:36,  3.89it/s]  "
     ]
    },
    {
     "name": "stdout",
     "output_type": "stream",
     "text": [
      "<class 'requests.exceptions.ConnectionError'>:\thttps://company.myseldon.com)\n"
     ]
    },
    {
     "name": "stderr",
     "output_type": "stream",
     "text": [
      " 32%|███▏      | 1448/4580 [48:49<24:46,  2.11it/s]  "
     ]
    },
    {
     "name": "stdout",
     "output_type": "stream",
     "text": [
      "InvalidSchema:\ttg://search_hashtag?hashtag=fulltime\n"
     ]
    },
    {
     "name": "stderr",
     "output_type": "stream",
     "text": [
      " 32%|███▏      | 1461/4580 [48:52<10:57,  4.75it/s]"
     ]
    },
    {
     "name": "stdout",
     "output_type": "stream",
     "text": [
      "InvalidSchema:\ttg://search_hashtag?hashtag=vacancy\n"
     ]
    },
    {
     "name": "stderr",
     "output_type": "stream",
     "text": [
      " 32%|███▏      | 1463/4580 [48:55<30:44,  1.69it/s]"
     ]
    },
    {
     "name": "stdout",
     "output_type": "stream",
     "text": [
      "<class 'requests.exceptions.ConnectionError'>:\thttps://anyquery.diginetica.com).\n"
     ]
    },
    {
     "name": "stderr",
     "output_type": "stream",
     "text": [
      " 35%|███▍      | 1583/4580 [49:45<29:34,  1.69it/s]  "
     ]
    },
    {
     "name": "stdout",
     "output_type": "stream",
     "text": [
      "<class 'requests.exceptions.ConnectionError'>:\thttp://aclyon.ru)\n"
     ]
    },
    {
     "name": "stderr",
     "output_type": "stream",
     "text": [
      " 35%|███▍      | 1586/4580 [49:47<29:45,  1.68it/s]"
     ]
    },
    {
     "name": "stdout",
     "output_type": "stream",
     "text": [
      "<class 'requests.exceptions.ConnectionError'>:\thttps://onesoil.ai,\n"
     ]
    },
    {
     "name": "stderr",
     "output_type": "stream",
     "text": [
      " 35%|███▌      | 1611/4580 [49:57<20:55,  2.36it/s]"
     ]
    },
    {
     "name": "stdout",
     "output_type": "stream",
     "text": [
      "<class 'requests.exceptions.ConnectionError'>:\thttps://neuton.ai)\n"
     ]
    },
    {
     "name": "stderr",
     "output_type": "stream",
     "text": [
      " 37%|███▋      | 1673/4580 [50:07<06:40,  7.26it/s]"
     ]
    },
    {
     "name": "stdout",
     "output_type": "stream",
     "text": [
      "<class 'requests.exceptions.ConnectionError'>:\thttps://www.ngrow.ai)\n"
     ]
    },
    {
     "name": "stderr",
     "output_type": "stream",
     "text": [
      " 38%|███▊      | 1740/4580 [50:29<08:40,  5.45it/s]"
     ]
    },
    {
     "name": "stdout",
     "output_type": "stream",
     "text": [
      "<class 'requests.exceptions.ConnectionError'>:\thttps://mipt.x5.ru)\n"
     ]
    },
    {
     "name": "stderr",
     "output_type": "stream",
     "text": [
      " 39%|███▉      | 1785/4580 [50:56<13:56,  3.34it/s]"
     ]
    },
    {
     "name": "stdout",
     "output_type": "stream",
     "text": [
      "<class 'requests.exceptions.SSLError'>:\thttp://sber.me/?p=W1112\n"
     ]
    },
    {
     "name": "stderr",
     "output_type": "stream",
     "text": [
      " 40%|████      | 1847/4580 [51:09<07:36,  5.98it/s]"
     ]
    },
    {
     "name": "stdout",
     "output_type": "stream",
     "text": [
      "<class 'requests.exceptions.ConnectionError'>:\thttps://cloud.lenaneva.ru/apps/files_sharing/publicpreview/LQZMxywLPZiecis?x=2714&y=1074&a=true&file=multiarmed_0402.jpg&scalingup=0\n"
     ]
    },
    {
     "name": "stderr",
     "output_type": "stream",
     "text": [
      "\r",
      " 40%|████      | 1849/4580 [51:10<07:39,  5.95it/s]"
     ]
    },
    {
     "name": "stdout",
     "output_type": "stream",
     "text": [
      "<class 'requests.exceptions.ConnectionError'>:\thttps://cloud.lenaneva.ru/apps/files_sharing/publicpreview/ifaWwiZ29yTXr7A?x=2714&y=1074&a=true&file=otus_spark0102.png&scalingup=0\n",
      "<class 'requests.exceptions.ConnectionError'>:\thttps://cloud.lenaneva.ru/apps/files_sharing/publicpreview/n226PyGqSpXdmWa?x=2714&y=1074&a=true&file=mla_2701.jpg&scalingup=0\n"
     ]
    },
    {
     "name": "stderr",
     "output_type": "stream",
     "text": [
      "\r",
      " 41%|████      | 1856/4580 [51:10<05:55,  7.67it/s]"
     ]
    },
    {
     "name": "stdout",
     "output_type": "stream",
     "text": [
      "<class 'requests.exceptions.ConnectionError'>:\thttps://cloud.lenaneva.ru/apps/files_sharing/publicpreview/CCXDBdQKkt2fX4C?x=2714&y=1074&a=true&file=otus_machine_learning_advanced_2201.jpg&scalingup=0\n"
     ]
    },
    {
     "name": "stderr",
     "output_type": "stream",
     "text": [
      " 41%|████      | 1883/4580 [51:36<42:42,  1.05it/s]"
     ]
    },
    {
     "name": "stdout",
     "output_type": "stream",
     "text": [
      "<class 'requests.exceptions.ConnectionError'>:\thttps://identix.one/\n"
     ]
    },
    {
     "name": "stderr",
     "output_type": "stream",
     "text": [
      " 47%|████▋     | 2155/4580 [52:35<13:04,  3.09it/s]"
     ]
    },
    {
     "name": "stdout",
     "output_type": "stream",
     "text": [
      "<class 'AttributeError'>:\t'NoneType' object has no attribute 'select':\thttps://ya.cc/t/WTxgYI1P3XJh2p\n"
     ]
    },
    {
     "name": "stderr",
     "output_type": "stream",
     "text": [
      " 47%|████▋     | 2160/4580 [52:36<11:55,  3.38it/s]"
     ]
    },
    {
     "name": "stdout",
     "output_type": "stream",
     "text": [
      "<class 'AttributeError'>:\t'NoneType' object has no attribute 'select':\thttps://ya.cc/t/P69wtulR3TPYsG\n"
     ]
    },
    {
     "name": "stderr",
     "output_type": "stream",
     "text": [
      " 47%|████▋     | 2162/4580 [52:38<17:11,  2.34it/s]"
     ]
    },
    {
     "name": "stdout",
     "output_type": "stream",
     "text": [
      "<class 'AttributeError'>:\t'NoneType' object has no attribute 'select':\thttps://ya.cc/t/hWuzIQLX3SjxEi\n"
     ]
    },
    {
     "name": "stderr",
     "output_type": "stream",
     "text": [
      " 48%|████▊     | 2187/4580 [52:44<07:38,  5.22it/s]"
     ]
    },
    {
     "name": "stdout",
     "output_type": "stream",
     "text": [
      "<class 'AttributeError'>:\t'NoneType' object has no attribute 'select':\thttps://ya.cc/t/Qk5IO5Bj3QAQpx\n"
     ]
    },
    {
     "name": "stderr",
     "output_type": "stream",
     "text": [
      " 48%|████▊     | 2208/4580 [52:47<05:08,  7.70it/s]"
     ]
    },
    {
     "name": "stdout",
     "output_type": "stream",
     "text": [
      "InvalidSchema:\ttg://search_hashtag?hashtag=fulltime\n"
     ]
    },
    {
     "name": "stderr",
     "output_type": "stream",
     "text": [
      " 48%|████▊     | 2213/4580 [52:49<08:34,  4.60it/s]"
     ]
    },
    {
     "name": "stdout",
     "output_type": "stream",
     "text": [
      "InvalidSchema:\ttg://search_hashtag?hashtag=vacancy\n",
      "<class 'requests.exceptions.ConnectionError'>:\thttps://anyquery.diginetica.com).\n"
     ]
    },
    {
     "name": "stderr",
     "output_type": "stream",
     "text": [
      " 49%|████▉     | 2234/4580 [52:54<14:08,  2.77it/s]"
     ]
    },
    {
     "name": "stdout",
     "output_type": "stream",
     "text": [
      "<class 'AttributeError'>:\t'NoneType' object has no attribute 'select':\thttps://ya.cc/t/jCWwyO-A3CZsz6\n"
     ]
    },
    {
     "name": "stderr",
     "output_type": "stream",
     "text": [
      "\r",
      " 49%|████▉     | 2235/4580 [52:55<17:39,  2.21it/s]"
     ]
    },
    {
     "name": "stdout",
     "output_type": "stream",
     "text": [
      "<class 'AttributeError'>:\t'NoneType' object has no attribute 'select':\thttps://ya.cc/t/-VPOkqRw3CRuSx\n"
     ]
    },
    {
     "name": "stderr",
     "output_type": "stream",
     "text": [
      " 49%|████▉     | 2249/4580 [53:06<18:58,  2.05it/s]"
     ]
    },
    {
     "name": "stdout",
     "output_type": "stream",
     "text": [
      "<class 'AttributeError'>:\t'NoneType' object has no attribute 'select':\thttps://ya.cc/t/pkzqOvqD3BJtgS\n"
     ]
    },
    {
     "name": "stderr",
     "output_type": "stream",
     "text": [
      "\r",
      " 49%|████▉     | 2250/4580 [53:06<21:31,  1.80it/s]"
     ]
    },
    {
     "name": "stdout",
     "output_type": "stream",
     "text": [
      "<class 'AttributeError'>:\t'NoneType' object has no attribute 'select':\thttps://ya.cc/t/G1oxzzKY3BJkD4\n"
     ]
    },
    {
     "name": "stderr",
     "output_type": "stream",
     "text": [
      " 49%|████▉     | 2257/4580 [53:08<12:52,  3.01it/s]"
     ]
    },
    {
     "name": "stdout",
     "output_type": "stream",
     "text": [
      "<class 'AttributeError'>:\t'NoneType' object has no attribute 'select':\thttps://ya.cc/t/xVbrOPIN35YV9H\n"
     ]
    },
    {
     "name": "stderr",
     "output_type": "stream",
     "text": [
      "\r",
      " 49%|████▉     | 2258/4580 [53:10<22:28,  1.72it/s]"
     ]
    },
    {
     "name": "stdout",
     "output_type": "stream",
     "text": [
      "<class 'AttributeError'>:\t'NoneType' object has no attribute 'select':\thttps://ya.cc/t/BdEgyjMI3AspR9\n"
     ]
    },
    {
     "name": "stderr",
     "output_type": "stream",
     "text": [
      "\r",
      " 49%|████▉     | 2259/4580 [53:12<33:21,  1.16it/s]"
     ]
    },
    {
     "name": "stdout",
     "output_type": "stream",
     "text": [
      "<class 'AttributeError'>:\t'NoneType' object has no attribute 'select':\thttps://ya.cc/t/VHtMhr1R3ApBA9\n"
     ]
    },
    {
     "name": "stderr",
     "output_type": "stream",
     "text": [
      " 49%|████▉     | 2264/4580 [53:14<20:52,  1.85it/s]"
     ]
    },
    {
     "name": "stdout",
     "output_type": "stream",
     "text": [
      "<class 'AttributeError'>:\t'NoneType' object has no attribute 'select':\thttps://ya.cc/t/hbHR6DZI39VJC3\n"
     ]
    },
    {
     "name": "stderr",
     "output_type": "stream",
     "text": [
      " 50%|████▉     | 2278/4580 [53:20<18:28,  2.08it/s]"
     ]
    },
    {
     "name": "stdout",
     "output_type": "stream",
     "text": [
      "<class 'AttributeError'>:\t'NoneType' object has no attribute 'select':\thttps://ya.cc/t/xVbrOPIN35YV9H\n"
     ]
    },
    {
     "name": "stderr",
     "output_type": "stream",
     "text": [
      "\r",
      " 50%|████▉     | 2279/4580 [53:22<28:30,  1.35it/s]"
     ]
    },
    {
     "name": "stdout",
     "output_type": "stream",
     "text": [
      "<class 'AttributeError'>:\t'NoneType' object has no attribute 'select':\thttps://ya.cc/t/aY26o2Fj34MyVX\n"
     ]
    },
    {
     "name": "stderr",
     "output_type": "stream",
     "text": [
      " 50%|████▉     | 2287/4580 [53:26<15:39,  2.44it/s]"
     ]
    },
    {
     "name": "stdout",
     "output_type": "stream",
     "text": [
      "<class 'AttributeError'>:\t'NoneType' object has no attribute 'select':\thttps://ya.cc/t/YDYwQbCv32qJ4N\n"
     ]
    },
    {
     "name": "stderr",
     "output_type": "stream",
     "text": [
      " 50%|████▉     | 2289/4580 [53:27<16:32,  2.31it/s]"
     ]
    },
    {
     "name": "stdout",
     "output_type": "stream",
     "text": [
      "<class 'AttributeError'>:\t'NoneType' object has no attribute 'select':\thttps://ya.cc/t/3V0R0lv932q65q\n"
     ]
    },
    {
     "name": "stderr",
     "output_type": "stream",
     "text": [
      " 50%|█████     | 2291/4580 [53:29<23:24,  1.63it/s]"
     ]
    },
    {
     "name": "stdout",
     "output_type": "stream",
     "text": [
      "<class 'AttributeError'>:\t'NoneType' object has no attribute 'select':\thttps://ya.cc/t/vZPOUDNMrkAE2\n"
     ]
    },
    {
     "name": "stderr",
     "output_type": "stream",
     "text": [
      "\r",
      " 50%|█████     | 2295/4580 [53:30<15:42,  2.42it/s]"
     ]
    },
    {
     "name": "stdout",
     "output_type": "stream",
     "text": [
      "<class 'AttributeError'>:\t'NoneType' object has no attribute 'select':\thttps://ya.cc/t/Fj5RkHeP32ccQh\n"
     ]
    },
    {
     "name": "stderr",
     "output_type": "stream",
     "text": [
      "\r",
      " 50%|█████     | 2298/4580 [53:31<15:01,  2.53it/s]"
     ]
    },
    {
     "name": "stdout",
     "output_type": "stream",
     "text": [
      "<class 'AttributeError'>:\t'NoneType' object has no attribute 'select':\thttps://ya.cc/t/UEM8fA7W32bqCM\n"
     ]
    },
    {
     "name": "stderr",
     "output_type": "stream",
     "text": [
      " 50%|█████     | 2301/4580 [53:33<19:21,  1.96it/s]"
     ]
    },
    {
     "name": "stdout",
     "output_type": "stream",
     "text": [
      "<class 'AttributeError'>:\t'NoneType' object has no attribute 'select':\thttps://ya.cc/t/zLaJzQima6Qio\n"
     ]
    },
    {
     "name": "stderr",
     "output_type": "stream",
     "text": [
      " 50%|█████     | 2305/4580 [53:36<26:56,  1.41it/s]"
     ]
    },
    {
     "name": "stdout",
     "output_type": "stream",
     "text": [
      "<class 'AttributeError'>:\t'NoneType' object has no attribute 'select':\thttps://ya.cc/t/qrko6ej-yGxKp\n"
     ]
    },
    {
     "name": "stderr",
     "output_type": "stream",
     "text": [
      " 50%|█████     | 2308/4580 [53:38<24:44,  1.53it/s]"
     ]
    },
    {
     "name": "stdout",
     "output_type": "stream",
     "text": [
      "<class 'AttributeError'>:\t'NoneType' object has no attribute 'select':\thttps://ya.cc/t/7taaMNk6sp5qs\n"
     ]
    },
    {
     "name": "stderr",
     "output_type": "stream",
     "text": [
      " 51%|█████     | 2316/4580 [53:40<15:55,  2.37it/s]"
     ]
    },
    {
     "name": "stdout",
     "output_type": "stream",
     "text": [
      "<class 'AttributeError'>:\t'NoneType' object has no attribute 'select':\thttps://ya.cc/t/qfYq2wByx58tu\n"
     ]
    },
    {
     "name": "stderr",
     "output_type": "stream",
     "text": [
      " 51%|█████     | 2318/4580 [53:42<21:26,  1.76it/s]"
     ]
    },
    {
     "name": "stdout",
     "output_type": "stream",
     "text": [
      "<class 'AttributeError'>:\t'NoneType' object has no attribute 'select':\thttps://ya.cc/t/oNBWC6rOx58LT\n"
     ]
    },
    {
     "name": "stderr",
     "output_type": "stream",
     "text": [
      " 51%|█████     | 2322/4580 [53:45<23:31,  1.60it/s]"
     ]
    },
    {
     "name": "stdout",
     "output_type": "stream",
     "text": [
      "<class 'AttributeError'>:\t'NoneType' object has no attribute 'select':\thttps://ya.cc/t/nsdUtD6uvmoqH\n"
     ]
    },
    {
     "name": "stderr",
     "output_type": "stream",
     "text": [
      "\r",
      " 51%|█████     | 2323/4580 [53:46<29:50,  1.26it/s]"
     ]
    },
    {
     "name": "stdout",
     "output_type": "stream",
     "text": [
      "<class 'AttributeError'>:\t'NoneType' object has no attribute 'select':\thttps://ya.cc/t/YwvINYmFvmpe5\n"
     ]
    },
    {
     "name": "stderr",
     "output_type": "stream",
     "text": [
      " 51%|█████     | 2328/4580 [53:49<28:58,  1.30it/s]"
     ]
    },
    {
     "name": "stdout",
     "output_type": "stream",
     "text": [
      "<class 'AttributeError'>:\t'NoneType' object has no attribute 'select':\thttps://ya.cc/t/48fwFBQUuTBCs\n"
     ]
    },
    {
     "name": "stderr",
     "output_type": "stream",
     "text": [
      " 51%|█████     | 2333/4580 [53:52<25:36,  1.46it/s]"
     ]
    },
    {
     "name": "stdout",
     "output_type": "stream",
     "text": [
      "<class 'AttributeError'>:\t'NoneType' object has no attribute 'select':\thttps://ya.cc/t/zBos9TyYtcxUU\n"
     ]
    },
    {
     "name": "stderr",
     "output_type": "stream",
     "text": [
      "\r",
      " 51%|█████     | 2334/4580 [53:54<28:54,  1.30it/s]"
     ]
    },
    {
     "name": "stdout",
     "output_type": "stream",
     "text": [
      "<class 'AttributeError'>:\t'NoneType' object has no attribute 'select':\thttps://ya.cc/t/7taaMNk6sp5qs\n"
     ]
    },
    {
     "name": "stderr",
     "output_type": "stream",
     "text": [
      "\r",
      " 51%|█████     | 2335/4580 [53:55<32:25,  1.15it/s]"
     ]
    },
    {
     "name": "stdout",
     "output_type": "stream",
     "text": [
      "<class 'AttributeError'>:\t'NoneType' object has no attribute 'select':\thttps://ya.cc/t/wOSADVH9sp56x\n"
     ]
    },
    {
     "name": "stderr",
     "output_type": "stream",
     "text": [
      " 51%|█████▏    | 2350/4580 [54:06<32:29,  1.14it/s]"
     ]
    },
    {
     "name": "stdout",
     "output_type": "stream",
     "text": [
      "<class 'requests.exceptions.ConnectionError'>:\thttp://aclyon.ru)\n"
     ]
    },
    {
     "name": "stderr",
     "output_type": "stream",
     "text": [
      " 51%|█████▏    | 2353/4580 [54:09<36:50,  1.01it/s]"
     ]
    },
    {
     "name": "stdout",
     "output_type": "stream",
     "text": [
      "<class 'AttributeError'>:\t'NoneType' object has no attribute 'select':\thttps://ya.cc/t/vZPOUDNMrkAE2\n",
      "<class 'requests.exceptions.ConnectionError'>:\thttps://onesoil.ai,\n"
     ]
    },
    {
     "name": "stderr",
     "output_type": "stream",
     "text": [
      " 51%|█████▏    | 2356/4580 [54:12<39:23,  1.06s/it]"
     ]
    },
    {
     "name": "stdout",
     "output_type": "stream",
     "text": [
      "<class 'AttributeError'>:\t'NoneType' object has no attribute 'select':\thttps://ya.cc/t/MSxB3Ahvfh6Cp\n"
     ]
    },
    {
     "name": "stderr",
     "output_type": "stream",
     "text": [
      " 52%|█████▏    | 2359/4580 [54:13<26:51,  1.38it/s]"
     ]
    },
    {
     "name": "stdout",
     "output_type": "stream",
     "text": [
      "<class 'AttributeError'>:\t'NoneType' object has no attribute 'select':\thttps://ya.cc/t/35-R3mAFpjtGo\n"
     ]
    },
    {
     "name": "stderr",
     "output_type": "stream",
     "text": [
      " 52%|█████▏    | 2367/4580 [54:19<30:04,  1.23it/s]"
     ]
    },
    {
     "name": "stdout",
     "output_type": "stream",
     "text": [
      "<class 'AttributeError'>:\t'NoneType' object has no attribute 'select':\thttps://ya.cc/t/0y8cOsqnrVDdV\n"
     ]
    },
    {
     "name": "stderr",
     "output_type": "stream",
     "text": [
      " 52%|█████▏    | 2374/4580 [54:24<22:00,  1.67it/s]"
     ]
    },
    {
     "name": "stdout",
     "output_type": "stream",
     "text": [
      "<class 'AttributeError'>:\t'NoneType' object has no attribute 'select':\thttps://ya.cc/t/fDQnzcaKoVx4m\n"
     ]
    },
    {
     "name": "stderr",
     "output_type": "stream",
     "text": [
      " 52%|█████▏    | 2378/4580 [54:26<19:27,  1.89it/s]"
     ]
    },
    {
     "name": "stdout",
     "output_type": "stream",
     "text": [
      "<class 'AttributeError'>:\t'NoneType' object has no attribute 'select':\thttps://ya.cc/t/R_fFMzCDha9um\n"
     ]
    },
    {
     "name": "stderr",
     "output_type": "stream",
     "text": [
      "\r",
      " 52%|█████▏    | 2380/4580 [54:27<19:19,  1.90it/s]"
     ]
    },
    {
     "name": "stdout",
     "output_type": "stream",
     "text": [
      "<class 'AttributeError'>:\t'NoneType' object has no attribute 'select':\thttps://ya.cc/t/nVaqgJe-oQtj5\n"
     ]
    },
    {
     "name": "stderr",
     "output_type": "stream",
     "text": [
      "\r",
      " 52%|█████▏    | 2381/4580 [54:28<23:12,  1.58it/s]"
     ]
    },
    {
     "name": "stdout",
     "output_type": "stream",
     "text": [
      "<class 'AttributeError'>:\t'NoneType' object has no attribute 'select':\thttps://ya.cc/t/SWdrId05oQzEg\n"
     ]
    },
    {
     "name": "stderr",
     "output_type": "stream",
     "text": [
      " 52%|█████▏    | 2389/4580 [54:33<27:24,  1.33it/s]"
     ]
    },
    {
     "name": "stdout",
     "output_type": "stream",
     "text": [
      "<class 'AttributeError'>:\t'NoneType' object has no attribute 'select':\thttps://ya.cc/t/zFpGTZ6JoQxBB\n"
     ]
    },
    {
     "name": "stderr",
     "output_type": "stream",
     "text": [
      " 52%|█████▏    | 2395/4580 [54:38<24:40,  1.48it/s]"
     ]
    },
    {
     "name": "stdout",
     "output_type": "stream",
     "text": [
      "<class 'AttributeError'>:\t'NoneType' object has no attribute 'select':\thttps://ya.cc/t/zLaJzQima6Qio\n"
     ]
    },
    {
     "name": "stderr",
     "output_type": "stream",
     "text": [
      "\r",
      " 52%|█████▏    | 2397/4580 [54:39<24:00,  1.51it/s]"
     ]
    },
    {
     "name": "stdout",
     "output_type": "stream",
     "text": [
      "<class 'AttributeError'>:\t'NoneType' object has no attribute 'select':\thttps://ya.cc/t/Q9reaseWSTdN4\n"
     ]
    },
    {
     "name": "stderr",
     "output_type": "stream",
     "text": [
      "\r",
      " 52%|█████▏    | 2398/4580 [54:40<29:20,  1.24it/s]"
     ]
    },
    {
     "name": "stdout",
     "output_type": "stream",
     "text": [
      "<class 'AttributeError'>:\t'NoneType' object has no attribute 'select':\thttps://ya.cc/t/k8vRAWJ6ZwiyQ\n"
     ]
    },
    {
     "name": "stderr",
     "output_type": "stream",
     "text": [
      " 52%|█████▏    | 2402/4580 [54:43<29:16,  1.24it/s]"
     ]
    },
    {
     "name": "stdout",
     "output_type": "stream",
     "text": [
      "<class 'AttributeError'>:\t'NoneType' object has no attribute 'select':\thttps://ya.cc/t/Dpckv24znEjZo\n"
     ]
    },
    {
     "name": "stderr",
     "output_type": "stream",
     "text": [
      "\r",
      " 52%|█████▏    | 2403/4580 [54:44<30:52,  1.17it/s]"
     ]
    },
    {
     "name": "stdout",
     "output_type": "stream",
     "text": [
      "<class 'requests.exceptions.ConnectionError'>:\thttps://neuton.ai)\n"
     ]
    },
    {
     "name": "stderr",
     "output_type": "stream",
     "text": [
      " 53%|█████▎    | 2413/4580 [54:48<16:30,  2.19it/s]"
     ]
    },
    {
     "name": "stdout",
     "output_type": "stream",
     "text": [
      "<class 'AttributeError'>:\t'NoneType' object has no attribute 'select':\thttps://ya.cc/t/IFwtZ5RDn4Gif\n"
     ]
    },
    {
     "name": "stderr",
     "output_type": "stream",
     "text": [
      " 53%|█████▎    | 2421/4580 [54:53<22:05,  1.63it/s]"
     ]
    },
    {
     "name": "stdout",
     "output_type": "stream",
     "text": [
      "<class 'AttributeError'>:\t'NoneType' object has no attribute 'select':\thttps://ya.cc/t/QGmp71kwm7wtQ\n"
     ]
    },
    {
     "name": "stderr",
     "output_type": "stream",
     "text": [
      " 53%|█████▎    | 2426/4580 [54:56<22:02,  1.63it/s]"
     ]
    },
    {
     "name": "stdout",
     "output_type": "stream",
     "text": [
      "<class 'AttributeError'>:\t'NoneType' object has no attribute 'select':\thttps://ya.cc/t/6KlIJy05kYJQX\n"
     ]
    },
    {
     "name": "stderr",
     "output_type": "stream",
     "text": [
      " 53%|█████▎    | 2428/4580 [54:58<24:54,  1.44it/s]"
     ]
    },
    {
     "name": "stdout",
     "output_type": "stream",
     "text": [
      "<class 'AttributeError'>:\t'NoneType' object has no attribute 'select':\thttps://ya.cc/t/oWeiS6cZkPZCZ\n"
     ]
    },
    {
     "name": "stderr",
     "output_type": "stream",
     "text": [
      " 53%|█████▎    | 2437/4580 [55:03<20:02,  1.78it/s]"
     ]
    },
    {
     "name": "stdout",
     "output_type": "stream",
     "text": [
      "<class 'AttributeError'>:\t'NoneType' object has no attribute 'select':\thttps://ya.cc/t/k8vRAWJ6ZwiyQ\n"
     ]
    },
    {
     "name": "stderr",
     "output_type": "stream",
     "text": [
      "\r",
      " 53%|█████▎    | 2439/4580 [55:05<23:10,  1.54it/s]"
     ]
    },
    {
     "name": "stdout",
     "output_type": "stream",
     "text": [
      "<class 'AttributeError'>:\t'NoneType' object has no attribute 'select':\thttps://ya.cc/t/c6LrVw9IaCmuf\n"
     ]
    },
    {
     "name": "stderr",
     "output_type": "stream",
     "text": [
      " 53%|█████▎    | 2445/4580 [55:08<17:33,  2.03it/s]"
     ]
    },
    {
     "name": "stdout",
     "output_type": "stream",
     "text": [
      "<class 'AttributeError'>:\t'NoneType' object has no attribute 'select':\thttps://ya.cc/t/4qrhyI9QbKubX\n"
     ]
    },
    {
     "name": "stderr",
     "output_type": "stream",
     "text": [
      "\r",
      " 53%|█████▎    | 2448/4580 [55:09<15:44,  2.26it/s]"
     ]
    },
    {
     "name": "stdout",
     "output_type": "stream",
     "text": [
      "<class 'AttributeError'>:\t'NoneType' object has no attribute 'select':\thttps://ya.cc/t/NTJRBu9giAsje\n"
     ]
    },
    {
     "name": "stderr",
     "output_type": "stream",
     "text": [
      "\r",
      " 53%|█████▎    | 2449/4580 [55:11<20:35,  1.73it/s]"
     ]
    },
    {
     "name": "stdout",
     "output_type": "stream",
     "text": [
      "<class 'AttributeError'>:\t'NoneType' object has no attribute 'select':\thttps://ya.cc/t/R_fFMzCDha9um\n"
     ]
    },
    {
     "name": "stderr",
     "output_type": "stream",
     "text": [
      " 54%|█████▎    | 2459/4580 [55:14<12:19,  2.87it/s]"
     ]
    },
    {
     "name": "stdout",
     "output_type": "stream",
     "text": [
      "<class 'AttributeError'>:\t'NoneType' object has no attribute 'select':\thttps://ya.cc/t/MfVy6RH3eTBx8\n"
     ]
    },
    {
     "name": "stderr",
     "output_type": "stream",
     "text": [
      " 54%|█████▍    | 2469/4580 [55:19<20:50,  1.69it/s]"
     ]
    },
    {
     "name": "stdout",
     "output_type": "stream",
     "text": [
      "<class 'AttributeError'>:\t'NoneType' object has no attribute 'select':\thttps://ya.cc/t/dJKea3YGdJDox\n"
     ]
    },
    {
     "name": "stderr",
     "output_type": "stream",
     "text": [
      " 54%|█████▍    | 2475/4580 [55:23<20:19,  1.73it/s]"
     ]
    },
    {
     "name": "stdout",
     "output_type": "stream",
     "text": [
      "<class 'AttributeError'>:\t'NoneType' object has no attribute 'select':\thttps://ya.cc/t/ZQBE-1-HdHRXR\n"
     ]
    },
    {
     "name": "stderr",
     "output_type": "stream",
     "text": [
      "\r",
      " 54%|█████▍    | 2478/4580 [55:24<17:05,  2.05it/s]"
     ]
    },
    {
     "name": "stdout",
     "output_type": "stream",
     "text": [
      "<class 'AttributeError'>:\t'NoneType' object has no attribute 'select':\thttps://ya.cc/t/e8fD270Qct6pj\n"
     ]
    },
    {
     "name": "stderr",
     "output_type": "stream",
     "text": [
      " 54%|█████▍    | 2486/4580 [55:26<11:22,  3.07it/s]"
     ]
    },
    {
     "name": "stdout",
     "output_type": "stream",
     "text": [
      "<class 'AttributeError'>:\t'NoneType' object has no attribute 'select':\thttps://ya.cc/t/77bLH7Fmct8Xe\n"
     ]
    },
    {
     "name": "stderr",
     "output_type": "stream",
     "text": [
      " 54%|█████▍    | 2489/4580 [55:28<14:58,  2.33it/s]"
     ]
    },
    {
     "name": "stdout",
     "output_type": "stream",
     "text": [
      "<class 'AttributeError'>:\t'NoneType' object has no attribute 'select':\thttps://ya.cc/t/MSxB3Ahvfh6Cp\n"
     ]
    },
    {
     "name": "stderr",
     "output_type": "stream",
     "text": [
      " 54%|█████▍    | 2493/4580 [55:30<16:36,  2.09it/s]"
     ]
    },
    {
     "name": "stdout",
     "output_type": "stream",
     "text": [
      "<class 'AttributeError'>:\t'NoneType' object has no attribute 'select':\thttps://ya.cc/t/tB8z4t8mccWMi\n"
     ]
    },
    {
     "name": "stderr",
     "output_type": "stream",
     "text": [
      " 55%|█████▍    | 2502/4580 [55:33<14:17,  2.42it/s]"
     ]
    },
    {
     "name": "stdout",
     "output_type": "stream",
     "text": [
      "<class 'requests.exceptions.ConnectionError'>:\thttps://www.ngrow.ai)\n"
     ]
    },
    {
     "name": "stderr",
     "output_type": "stream",
     "text": [
      " 55%|█████▍    | 2512/4580 [55:37<13:38,  2.53it/s]"
     ]
    },
    {
     "name": "stdout",
     "output_type": "stream",
     "text": [
      "<class 'AttributeError'>:\t'NoneType' object has no attribute 'select':\thttps://ya.cc/t/nKzA4zyrbKvzf\n"
     ]
    },
    {
     "name": "stderr",
     "output_type": "stream",
     "text": [
      "\r",
      " 55%|█████▍    | 2513/4580 [55:38<19:18,  1.78it/s]"
     ]
    },
    {
     "name": "stdout",
     "output_type": "stream",
     "text": [
      "<class 'AttributeError'>:\t'NoneType' object has no attribute 'select':\thttps://ya.cc/t/4qrhyI9QbKubX\n"
     ]
    },
    {
     "name": "stderr",
     "output_type": "stream",
     "text": [
      " 55%|█████▍    | 2515/4580 [55:40<26:39,  1.29it/s]"
     ]
    },
    {
     "name": "stdout",
     "output_type": "stream",
     "text": [
      "<class 'AttributeError'>:\t'NoneType' object has no attribute 'select':\thttps://ya.cc/t/KEmYpLhhau7b6\n"
     ]
    },
    {
     "name": "stderr",
     "output_type": "stream",
     "text": [
      " 55%|█████▌    | 2522/4580 [55:43<19:08,  1.79it/s]"
     ]
    },
    {
     "name": "stdout",
     "output_type": "stream",
     "text": [
      "<class 'AttributeError'>:\t'NoneType' object has no attribute 'select':\thttps://ya.cc/t/SRIMGvIEakMy5\n"
     ]
    },
    {
     "name": "stderr",
     "output_type": "stream",
     "text": [
      " 55%|█████▌    | 2528/4580 [55:46<16:14,  2.11it/s]"
     ]
    },
    {
     "name": "stdout",
     "output_type": "stream",
     "text": [
      "<class 'AttributeError'>:\t'NoneType' object has no attribute 'select':\thttps://ya.cc/t/c6LrVw9IaCmuf\n"
     ]
    },
    {
     "name": "stderr",
     "output_type": "stream",
     "text": [
      " 55%|█████▌    | 2534/4580 [55:50<20:51,  1.64it/s]"
     ]
    },
    {
     "name": "stdout",
     "output_type": "stream",
     "text": [
      "<class 'AttributeError'>:\t'NoneType' object has no attribute 'select':\thttps://ya.cc/t/qeL316VfaAG2o\n"
     ]
    },
    {
     "name": "stderr",
     "output_type": "stream",
     "text": [
      "\r",
      " 55%|█████▌    | 2536/4580 [55:51<22:14,  1.53it/s]"
     ]
    },
    {
     "name": "stdout",
     "output_type": "stream",
     "text": [
      "<class 'AttributeError'>:\t'NoneType' object has no attribute 'select':\thttps://ya.cc/t/v69pSnEjaA9n4\n"
     ]
    },
    {
     "name": "stderr",
     "output_type": "stream",
     "text": [
      "\r",
      " 55%|█████▌    | 2539/4580 [55:53<20:30,  1.66it/s]"
     ]
    },
    {
     "name": "stdout",
     "output_type": "stream",
     "text": [
      "<class 'AttributeError'>:\t'NoneType' object has no attribute 'select':\thttps://ya.cc/t/zLaJzQima6Qio\n"
     ]
    },
    {
     "name": "stderr",
     "output_type": "stream",
     "text": [
      " 56%|█████▌    | 2573/4580 [56:18<33:16,  1.01it/s]"
     ]
    },
    {
     "name": "stdout",
     "output_type": "stream",
     "text": [
      "<class 'AttributeError'>:\t'NoneType' object has no attribute 'select':\thttps://ya.cc/t/FH4aswLVXqnbF\n"
     ]
    },
    {
     "name": "stderr",
     "output_type": "stream",
     "text": [
      " 56%|█████▋    | 2582/4580 [56:23<25:45,  1.29it/s]"
     ]
    },
    {
     "name": "stdout",
     "output_type": "stream",
     "text": [
      "<class 'AttributeError'>:\t'NoneType' object has no attribute 'select':\thttps://ya.cc/t/gKDkZax6XinJj\n"
     ]
    },
    {
     "name": "stderr",
     "output_type": "stream",
     "text": [
      " 57%|█████▋    | 2589/4580 [56:27<24:04,  1.38it/s]"
     ]
    },
    {
     "name": "stdout",
     "output_type": "stream",
     "text": [
      "<class 'AttributeError'>:\t'NoneType' object has no attribute 'select':\thttps://ya.cc/t/5F5SbzCqYRv89\n"
     ]
    },
    {
     "name": "stderr",
     "output_type": "stream",
     "text": [
      " 57%|█████▋    | 2592/4580 [56:35<1:00:20,  1.82s/it]"
     ]
    },
    {
     "name": "stdout",
     "output_type": "stream",
     "text": [
      "<class 'AttributeError'>:\t'NoneType' object has no attribute 'select':\thttps://ya.cc/t/5F5SbzCqYRv89\n"
     ]
    },
    {
     "name": "stderr",
     "output_type": "stream",
     "text": [
      " 57%|█████▋    | 2614/4580 [56:50<26:24,  1.24it/s]  "
     ]
    },
    {
     "name": "stdout",
     "output_type": "stream",
     "text": [
      "<class 'AttributeError'>:\t'NoneType' object has no attribute 'select':\thttps://ya.cc/t/ql59BWR2WqAzF\n"
     ]
    },
    {
     "name": "stderr",
     "output_type": "stream",
     "text": [
      " 57%|█████▋    | 2622/4580 [56:59<40:27,  1.24s/it]"
     ]
    },
    {
     "name": "stdout",
     "output_type": "stream",
     "text": [
      "<class 'AttributeError'>:\t'NoneType' object has no attribute 'select':\thttps://ya.cc/t/VscgFMiyXiwAC\n"
     ]
    },
    {
     "name": "stderr",
     "output_type": "stream",
     "text": [
      " 57%|█████▋    | 2627/4580 [57:03<34:51,  1.07s/it]"
     ]
    },
    {
     "name": "stdout",
     "output_type": "stream",
     "text": [
      "<class 'AttributeError'>:\t'NoneType' object has no attribute 'select':\thttps://ya.cc/t/l2rF-pEvW8JPw\n"
     ]
    },
    {
     "name": "stderr",
     "output_type": "stream",
     "text": [
      " 58%|█████▊    | 2641/4580 [57:06<12:12,  2.65it/s]"
     ]
    },
    {
     "name": "stdout",
     "output_type": "stream",
     "text": [
      "<class 'requests.exceptions.SSLError'>:\thttps://www.bigdataschool.ru/about/jobs-big-data\n"
     ]
    },
    {
     "name": "stderr",
     "output_type": "stream",
     "text": [
      " 58%|█████▊    | 2657/4580 [57:31<44:28,  1.39s/it]  "
     ]
    },
    {
     "name": "stdout",
     "output_type": "stream",
     "text": [
      "<class 'AttributeError'>:\t'NoneType' object has no attribute 'select':\thttps://ya.cc/t/gk6wZipnRap2B\n"
     ]
    },
    {
     "name": "stderr",
     "output_type": "stream",
     "text": [
      " 58%|█████▊    | 2677/4580 [57:38<16:36,  1.91it/s]"
     ]
    },
    {
     "name": "stdout",
     "output_type": "stream",
     "text": [
      "<class 'AttributeError'>:\t'NoneType' object has no attribute 'select':\thttps://ya.cc/t/n0es6UtnUJRr7\n"
     ]
    },
    {
     "name": "stderr",
     "output_type": "stream",
     "text": [
      "\r",
      " 58%|█████▊    | 2678/4580 [57:39<21:05,  1.50it/s]"
     ]
    },
    {
     "name": "stdout",
     "output_type": "stream",
     "text": [
      "<class 'AttributeError'>:\t'NoneType' object has no attribute 'select':\thttps://ya.cc/t/THW7fcK6UJPQM\n"
     ]
    },
    {
     "name": "stderr",
     "output_type": "stream",
     "text": [
      "\r",
      " 59%|█████▊    | 2680/4580 [57:41<23:01,  1.37it/s]"
     ]
    },
    {
     "name": "stdout",
     "output_type": "stream",
     "text": [
      "<class 'AttributeError'>:\t'NoneType' object has no attribute 'select':\thttps://ya.cc/t/_bnyfoe-T6f6A\n"
     ]
    },
    {
     "name": "stderr",
     "output_type": "stream",
     "text": [
      " 59%|█████▊    | 2683/4580 [57:44<29:15,  1.08it/s]"
     ]
    },
    {
     "name": "stdout",
     "output_type": "stream",
     "text": [
      "<class 'AttributeError'>:\t'NoneType' object has no attribute 'select':\thttps://ya.cc/t/ZAgm_1NMUDyh9\n"
     ]
    },
    {
     "name": "stderr",
     "output_type": "stream",
     "text": [
      " 59%|█████▊    | 2685/4580 [57:47<34:27,  1.09s/it]"
     ]
    },
    {
     "name": "stdout",
     "output_type": "stream",
     "text": [
      "<class 'AttributeError'>:\t'NoneType' object has no attribute 'select':\thttps://ya.cc/t/3Yw06v_lUDefN\n"
     ]
    },
    {
     "name": "stderr",
     "output_type": "stream",
     "text": [
      "\r",
      " 59%|█████▊    | 2686/4580 [57:50<48:48,  1.55s/it]"
     ]
    },
    {
     "name": "stdout",
     "output_type": "stream",
     "text": [
      "<class 'AttributeError'>:\t'NoneType' object has no attribute 'select':\thttps://ya.cc/t/89qWZ49UU3N45\n"
     ]
    },
    {
     "name": "stderr",
     "output_type": "stream",
     "text": [
      "\r",
      " 59%|█████▊    | 2687/4580 [57:51<47:59,  1.52s/it]"
     ]
    },
    {
     "name": "stdout",
     "output_type": "stream",
     "text": [
      "<class 'AttributeError'>:\t'NoneType' object has no attribute 'select':\thttps://ya.cc/t/u4nSUvG3TsSos\n"
     ]
    },
    {
     "name": "stderr",
     "output_type": "stream",
     "text": [
      "\r",
      " 59%|█████▊    | 2689/4580 [57:53<35:30,  1.13s/it]"
     ]
    },
    {
     "name": "stdout",
     "output_type": "stream",
     "text": [
      "<class 'AttributeError'>:\t'NoneType' object has no attribute 'select':\thttps://ya.cc/t/N8uX-GaCTVHGq\n"
     ]
    },
    {
     "name": "stderr",
     "output_type": "stream",
     "text": [
      "\r",
      " 59%|█████▊    | 2690/4580 [57:54<37:49,  1.20s/it]"
     ]
    },
    {
     "name": "stdout",
     "output_type": "stream",
     "text": [
      "<class 'AttributeError'>:\t'NoneType' object has no attribute 'select':\thttps://ya.cc/t/Nn5ibKEqTKfVx\n"
     ]
    },
    {
     "name": "stderr",
     "output_type": "stream",
     "text": [
      "\r",
      " 59%|█████▉    | 2691/4580 [57:55<38:54,  1.24s/it]"
     ]
    },
    {
     "name": "stdout",
     "output_type": "stream",
     "text": [
      "<class 'AttributeError'>:\t'NoneType' object has no attribute 'select':\thttps://ya.cc/t/nJq4CAFKTURHf\n"
     ]
    },
    {
     "name": "stderr",
     "output_type": "stream",
     "text": [
      " 59%|█████▉    | 2693/4580 [57:58<38:45,  1.23s/it]"
     ]
    },
    {
     "name": "stdout",
     "output_type": "stream",
     "text": [
      "<class 'AttributeError'>:\t'NoneType' object has no attribute 'select':\thttps://ya.cc/t/eL60gff3TJLCy\n"
     ]
    },
    {
     "name": "stderr",
     "output_type": "stream",
     "text": [
      " 59%|█████▉    | 2700/4580 [58:04<30:14,  1.04it/s]"
     ]
    },
    {
     "name": "stdout",
     "output_type": "stream",
     "text": [
      "<class 'AttributeError'>:\t'NoneType' object has no attribute 'select':\thttps://ya.cc/t/hk_fpognSxHN5\n"
     ]
    },
    {
     "name": "stderr",
     "output_type": "stream",
     "text": [
      "\r",
      " 59%|█████▉    | 2701/4580 [58:07<42:22,  1.35s/it]"
     ]
    },
    {
     "name": "stdout",
     "output_type": "stream",
     "text": [
      "<class 'AttributeError'>:\t'NoneType' object has no attribute 'select':\thttps://ya.cc/t/RMAyiiBYSxFw4\n"
     ]
    },
    {
     "name": "stderr",
     "output_type": "stream",
     "text": [
      " 59%|█████▉    | 2703/4580 [58:10<49:19,  1.58s/it]"
     ]
    },
    {
     "name": "stdout",
     "output_type": "stream",
     "text": [
      "<class 'AttributeError'>:\t'NoneType' object has no attribute 'select':\thttps://ya.cc/t/l5GN5YQDSxBaK\n"
     ]
    },
    {
     "name": "stderr",
     "output_type": "stream",
     "text": [
      " 59%|█████▉    | 2706/4580 [58:14<42:54,  1.37s/it]"
     ]
    },
    {
     "name": "stdout",
     "output_type": "stream",
     "text": [
      "<class 'AttributeError'>:\t'NoneType' object has no attribute 'select':\thttps://ya.cc/t/QrfmylwRSK7bf\n"
     ]
    },
    {
     "name": "stderr",
     "output_type": "stream",
     "text": [
      "\r",
      " 59%|█████▉    | 2707/4580 [58:16<44:54,  1.44s/it]"
     ]
    },
    {
     "name": "stdout",
     "output_type": "stream",
     "text": [
      "<class 'AttributeError'>:\t'NoneType' object has no attribute 'select':\thttps://ya.cc/t/-uGaPGfNRaAsA\n"
     ]
    },
    {
     "name": "stderr",
     "output_type": "stream",
     "text": [
      " 59%|█████▉    | 2711/4580 [58:18<30:07,  1.03it/s]"
     ]
    },
    {
     "name": "stdout",
     "output_type": "stream",
     "text": [
      "<class 'AttributeError'>:\t'NoneType' object has no attribute 'select':\thttps://ya.cc/t/NcBwJlOuQzUaY\n"
     ]
    },
    {
     "name": "stderr",
     "output_type": "stream",
     "text": [
      " 59%|█████▉    | 2716/4580 [58:23<27:59,  1.11it/s]"
     ]
    },
    {
     "name": "stdout",
     "output_type": "stream",
     "text": [
      "<class 'AttributeError'>:\t'NoneType' object has no attribute 'select':\thttps://ya.cc/t/napOo9cySEX4F\n"
     ]
    },
    {
     "name": "stderr",
     "output_type": "stream",
     "text": [
      "\r",
      " 59%|█████▉    | 2717/4580 [58:25<35:22,  1.14s/it]"
     ]
    },
    {
     "name": "stdout",
     "output_type": "stream",
     "text": [
      "<class 'AttributeError'>:\t'NoneType' object has no attribute 'select':\thttps://ya.cc/t/0jA4kKkeRvCXY\n"
     ]
    },
    {
     "name": "stderr",
     "output_type": "stream",
     "text": [
      " 59%|█████▉    | 2721/4580 [58:30<34:01,  1.10s/it]"
     ]
    },
    {
     "name": "stdout",
     "output_type": "stream",
     "text": [
      "<class 'AttributeError'>:\t'NoneType' object has no attribute 'text':\thttps://ya.cc/t/vLdoDpK2Re4VJ\n"
     ]
    },
    {
     "name": "stderr",
     "output_type": "stream",
     "text": [
      " 59%|█████▉    | 2725/4580 [58:31<17:06,  1.81it/s]"
     ]
    },
    {
     "name": "stdout",
     "output_type": "stream",
     "text": [
      "<class 'AttributeError'>:\t'NoneType' object has no attribute 'text':\thttps://ya.cc/t/-uGaPGfNRaAsA\n"
     ]
    },
    {
     "name": "stderr",
     "output_type": "stream",
     "text": [
      " 60%|█████▉    | 2728/4580 [58:32<13:07,  2.35it/s]"
     ]
    },
    {
     "name": "stdout",
     "output_type": "stream",
     "text": [
      "<class 'AttributeError'>:\t'NoneType' object has no attribute 'text':\thttps://ya.cc/t/od_SPaNBQzVc3\n"
     ]
    },
    {
     "name": "stderr",
     "output_type": "stream",
     "text": [
      "\r",
      " 60%|█████▉    | 2730/4580 [58:34<19:18,  1.60it/s]"
     ]
    },
    {
     "name": "stdout",
     "output_type": "stream",
     "text": [
      "<class 'AttributeError'>:\t'NoneType' object has no attribute 'text':\thttps://ya.cc/t/GSO8H_pOQzRY5\n"
     ]
    },
    {
     "name": "stderr",
     "output_type": "stream",
     "text": [
      "\r",
      " 60%|█████▉    | 2731/4580 [58:35<21:43,  1.42it/s]"
     ]
    },
    {
     "name": "stdout",
     "output_type": "stream",
     "text": [
      "<class 'AttributeError'>:\t'NoneType' object has no attribute 'text':\thttps://ya.cc/t/gdCkcmnCQrMTE\n"
     ]
    },
    {
     "name": "stderr",
     "output_type": "stream",
     "text": [
      " 60%|█████▉    | 2745/4580 [58:40<12:28,  2.45it/s]"
     ]
    },
    {
     "name": "stdout",
     "output_type": "stream",
     "text": [
      "<class 'AttributeError'>:\t'NoneType' object has no attribute 'text':\thttps://ya.cc/t/Snq4DW3DQP68o\n"
     ]
    },
    {
     "name": "stderr",
     "output_type": "stream",
     "text": [
      "\r",
      " 60%|█████▉    | 2747/4580 [58:40<11:25,  2.68it/s]"
     ]
    },
    {
     "name": "stdout",
     "output_type": "stream",
     "text": [
      "<class 'AttributeError'>:\t'NoneType' object has no attribute 'text':\thttps://ya.cc/t/gNMEZhJjPwXGK\n"
     ]
    },
    {
     "name": "stderr",
     "output_type": "stream",
     "text": [
      "\r",
      " 60%|██████    | 2751/4580 [58:41<08:03,  3.79it/s]"
     ]
    },
    {
     "name": "stdout",
     "output_type": "stream",
     "text": [
      "<class 'AttributeError'>:\t'NoneType' object has no attribute 'text':\thttps://ya.cc/t/nDXrm2kgPYuJc\n"
     ]
    },
    {
     "name": "stderr",
     "output_type": "stream",
     "text": [
      "\r",
      " 60%|██████    | 2753/4580 [58:41<07:11,  4.23it/s]"
     ]
    },
    {
     "name": "stdout",
     "output_type": "stream",
     "text": [
      "<class 'AttributeError'>:\t'NoneType' object has no attribute 'text':\thttps://ya.cc/t/yXhrJvm3PYgzq\n"
     ]
    },
    {
     "name": "stderr",
     "output_type": "stream",
     "text": [
      " 60%|██████    | 2755/4580 [58:43<14:10,  2.15it/s]"
     ]
    },
    {
     "name": "stdout",
     "output_type": "stream",
     "text": [
      "<class 'AttributeError'>:\t'NoneType' object has no attribute 'text':\thttps://ya.cc/t/-VPuXYAsPSRa4\n"
     ]
    },
    {
     "name": "stderr",
     "output_type": "stream",
     "text": [
      " 60%|██████    | 2759/4580 [58:44<09:24,  3.23it/s]"
     ]
    },
    {
     "name": "stdout",
     "output_type": "stream",
     "text": [
      "<class 'AttributeError'>:\t'NoneType' object has no attribute 'text':\thttps://ya.cc/t/BPk-cTMENg5S7\n"
     ]
    },
    {
     "name": "stderr",
     "output_type": "stream",
     "text": [
      "\r",
      " 60%|██████    | 2764/4580 [58:44<05:14,  5.78it/s]"
     ]
    },
    {
     "name": "stdout",
     "output_type": "stream",
     "text": [
      "<class 'AttributeError'>:\t'NoneType' object has no attribute 'text':\thttps://ya.cc/t/-gWtNbaJQPcau\n",
      "<class 'AttributeError'>:\t'NoneType' object has no attribute 'text':\thttps://ya.cc/t/5XBPOa0jPVqNq\n"
     ]
    },
    {
     "name": "stderr",
     "output_type": "stream",
     "text": [
      "\r",
      " 60%|██████    | 2766/4580 [58:45<04:44,  6.38it/s]"
     ]
    },
    {
     "name": "stdout",
     "output_type": "stream",
     "text": [
      "<class 'AttributeError'>:\t'NoneType' object has no attribute 'text':\thttps://ya.cc/t/xWOo3qGTPNp7L\n"
     ]
    },
    {
     "name": "stderr",
     "output_type": "stream",
     "text": [
      " 60%|██████    | 2769/4580 [58:46<06:32,  4.62it/s]"
     ]
    },
    {
     "name": "stdout",
     "output_type": "stream",
     "text": [
      "<class 'AttributeError'>:\t'NoneType' object has no attribute 'text':\thttps://ya.cc/t/0bpDCRuIPJUnb\n"
     ]
    },
    {
     "name": "stderr",
     "output_type": "stream",
     "text": [
      "\r",
      " 61%|██████    | 2775/4580 [58:46<03:35,  8.39it/s]"
     ]
    },
    {
     "name": "stdout",
     "output_type": "stream",
     "text": [
      "<class 'AttributeError'>:\t'NoneType' object has no attribute 'text':\thttps://ya.cc/t/9Pj2vtBTPBh4q\n"
     ]
    },
    {
     "name": "stderr",
     "output_type": "stream",
     "text": [
      "\r",
      " 61%|██████    | 2777/4580 [58:46<03:33,  8.46it/s]"
     ]
    },
    {
     "name": "stdout",
     "output_type": "stream",
     "text": [
      "<class 'AttributeError'>:\t'NoneType' object has no attribute 'text':\thttps://ya.cc/t/PgArzUzYP689E\n"
     ]
    },
    {
     "name": "stderr",
     "output_type": "stream",
     "text": [
      " 61%|██████    | 2781/4580 [58:46<03:37,  8.26it/s]"
     ]
    },
    {
     "name": "stdout",
     "output_type": "stream",
     "text": [
      "<class 'AttributeError'>:\t'NoneType' object has no attribute 'text':\thttps://ya.cc/t/RblOVlVSNkicv\n"
     ]
    },
    {
     "name": "stderr",
     "output_type": "stream",
     "text": [
      "\r",
      " 61%|██████    | 2782/4580 [58:47<04:18,  6.96it/s]"
     ]
    },
    {
     "name": "stdout",
     "output_type": "stream",
     "text": [
      "<class 'AttributeError'>:\t'NoneType' object has no attribute 'text':\thttps://ya.cc/t/UFQIOHrrNkcP3\n"
     ]
    },
    {
     "name": "stderr",
     "output_type": "stream",
     "text": [
      " 61%|██████    | 2784/4580 [58:51<21:58,  1.36it/s]"
     ]
    },
    {
     "name": "stdout",
     "output_type": "stream",
     "text": [
      "<class 'AttributeError'>:\t'NoneType' object has no attribute 'text':\thttps://ya.cc/t/_0zSfZ_3Ndk7t\n"
     ]
    },
    {
     "name": "stderr",
     "output_type": "stream",
     "text": [
      " 61%|██████    | 2789/4580 [58:52<10:10,  2.94it/s]"
     ]
    },
    {
     "name": "stdout",
     "output_type": "stream",
     "text": [
      "<class 'AttributeError'>:\t'NoneType' object has no attribute 'text':\thttps://ya.cc/t/83RcNauvNkdyJ\n"
     ]
    },
    {
     "name": "stderr",
     "output_type": "stream",
     "text": [
      " 61%|██████    | 2793/4580 [58:57<25:08,  1.18it/s]"
     ]
    },
    {
     "name": "stdout",
     "output_type": "stream",
     "text": [
      "<class 'AttributeError'>:\t'NoneType' object has no attribute 'text':\thttps://ya.cc/t/rOQ3geeLGDAih\n"
     ]
    },
    {
     "name": "stderr",
     "output_type": "stream",
     "text": [
      " 61%|██████    | 2795/4580 [58:57<17:15,  1.72it/s]"
     ]
    },
    {
     "name": "stdout",
     "output_type": "stream",
     "text": [
      "<class 'AttributeError'>:\t'NoneType' object has no attribute 'text':\thttps://ya.cc/t/3GNm2V0mNd8nT\n"
     ]
    },
    {
     "name": "stderr",
     "output_type": "stream",
     "text": [
      "\r",
      " 61%|██████    | 2796/4580 [58:57<14:45,  2.02it/s]"
     ]
    },
    {
     "name": "stdout",
     "output_type": "stream",
     "text": [
      "<class 'AttributeError'>:\t'NoneType' object has no attribute 'text':\thttp://ya.cc/t/osnJ5P4dJSPk3\n"
     ]
    },
    {
     "name": "stderr",
     "output_type": "stream",
     "text": [
      "\r",
      " 61%|██████    | 2798/4580 [58:58<10:01,  2.96it/s]"
     ]
    },
    {
     "name": "stdout",
     "output_type": "stream",
     "text": [
      "<class 'AttributeError'>:\t'NoneType' object has no attribute 'text':\thttps://ya.cc/t/URFrchTENcdvm\n"
     ]
    },
    {
     "name": "stderr",
     "output_type": "stream",
     "text": [
      " 61%|██████    | 2801/4580 [59:06<40:35,  1.37s/it]  "
     ]
    },
    {
     "name": "stdout",
     "output_type": "stream",
     "text": [
      "<class 'AttributeError'>:\t'NoneType' object has no attribute 'text':\thttps://ya.cc/t/BP4gjYWHMtfff\n"
     ]
    },
    {
     "name": "stderr",
     "output_type": "stream",
     "text": [
      " 61%|██████    | 2804/4580 [59:07<22:34,  1.31it/s]"
     ]
    },
    {
     "name": "stdout",
     "output_type": "stream",
     "text": [
      "<class 'AttributeError'>:\t'NoneType' object has no attribute 'text':\thttps://ya.cc/t/A4Qvi2cCMtfsq\n"
     ]
    },
    {
     "name": "stderr",
     "output_type": "stream",
     "text": [
      " 61%|██████▏   | 2806/4580 [59:11<33:07,  1.12s/it]"
     ]
    },
    {
     "name": "stdout",
     "output_type": "stream",
     "text": [
      "<class 'AttributeError'>:\t'NoneType' object has no attribute 'text':\thttps://ya.cc/t/eEZ5aiuuMte8j\n"
     ]
    },
    {
     "name": "stderr",
     "output_type": "stream",
     "text": [
      " 61%|██████▏   | 2808/4580 [59:14<35:45,  1.21s/it]"
     ]
    },
    {
     "name": "stdout",
     "output_type": "stream",
     "text": [
      "<class 'AttributeError'>:\t'NoneType' object has no attribute 'text':\thttps://ya.cc/t/H2yeS3NEMjxH7\n"
     ]
    },
    {
     "name": "stderr",
     "output_type": "stream",
     "text": [
      " 61%|██████▏   | 2811/4580 [59:34<2:37:31,  5.34s/it]"
     ]
    },
    {
     "name": "stdout",
     "output_type": "stream",
     "text": [
      "<class 'requests.exceptions.ConnectTimeout'>:\thttps://www.mos.ru/news/item/83314073/\n"
     ]
    },
    {
     "name": "stderr",
     "output_type": "stream",
     "text": [
      "\r",
      " 61%|██████▏   | 2812/4580 [59:35<1:59:59,  4.07s/it]"
     ]
    },
    {
     "name": "stdout",
     "output_type": "stream",
     "text": [
      "<class 'AttributeError'>:\t'NoneType' object has no attribute 'text':\thttps://ya.cc/t/gfcSCUc5Hem8J\n"
     ]
    },
    {
     "name": "stderr",
     "output_type": "stream",
     "text": [
      "\r",
      " 61%|██████▏   | 2813/4580 [59:35<1:30:19,  3.07s/it]"
     ]
    },
    {
     "name": "stdout",
     "output_type": "stream",
     "text": [
      "<class 'AttributeError'>:\t'NoneType' object has no attribute 'text':\thttps://ya.cc/t/HnH6pGstMGmTU\n"
     ]
    },
    {
     "name": "stderr",
     "output_type": "stream",
     "text": [
      " 62%|██████▏   | 2819/4580 [59:36<24:26,  1.20it/s]  "
     ]
    },
    {
     "name": "stdout",
     "output_type": "stream",
     "text": [
      "<class 'AttributeError'>:\t'NoneType' object has no attribute 'text':\thttp://ya.cc/t/osnJ5P4dJSPk3\n"
     ]
    },
    {
     "name": "stderr",
     "output_type": "stream",
     "text": [
      "\r",
      " 62%|██████▏   | 2820/4580 [59:37<24:14,  1.21it/s]"
     ]
    },
    {
     "name": "stdout",
     "output_type": "stream",
     "text": [
      "<class 'AttributeError'>:\t'NoneType' object has no attribute 'text':\thttp://ya.cc/t/qK9JF3WjMCqGH\n"
     ]
    },
    {
     "name": "stderr",
     "output_type": "stream",
     "text": [
      " 62%|██████▏   | 2828/4580 [59:39<08:40,  3.36it/s]"
     ]
    },
    {
     "name": "stdout",
     "output_type": "stream",
     "text": [
      "<class 'AttributeError'>:\t'NoneType' object has no attribute 'text':\thttp://ya.cc/t/AHIeBhY5LPmMu\n"
     ]
    },
    {
     "name": "stderr",
     "output_type": "stream",
     "text": [
      " 62%|██████▏   | 2832/4580 [59:40<10:29,  2.78it/s]"
     ]
    },
    {
     "name": "stdout",
     "output_type": "stream",
     "text": [
      "<class 'AttributeError'>:\t'NoneType' object has no attribute 'text':\thttp://ya.cc/t/JXpImQTqGPF8W\n"
     ]
    },
    {
     "name": "stderr",
     "output_type": "stream",
     "text": [
      " 62%|██████▏   | 2836/4580 [59:41<07:42,  3.77it/s]"
     ]
    },
    {
     "name": "stdout",
     "output_type": "stream",
     "text": [
      "<class 'AttributeError'>:\t'NoneType' object has no attribute 'text':\thttp://ya.cc/t/DgFWY-BWKujZg\n"
     ]
    },
    {
     "name": "stderr",
     "output_type": "stream",
     "text": [
      "\r",
      " 62%|██████▏   | 2839/4580 [59:42<05:27,  5.31it/s]"
     ]
    },
    {
     "name": "stdout",
     "output_type": "stream",
     "text": [
      "<class 'AttributeError'>:\t'NoneType' object has no attribute 'text':\thttps://ya.cc/t/ndhkjow9KnB3T\n"
     ]
    },
    {
     "name": "stderr",
     "output_type": "stream",
     "text": [
      " 62%|██████▏   | 2842/4580 [59:42<04:57,  5.85it/s]"
     ]
    },
    {
     "name": "stdout",
     "output_type": "stream",
     "text": [
      "<class 'AttributeError'>:\t'NoneType' object has no attribute 'text':\thttps://ya.cc/t/Sq_onopcKi9VZ\n"
     ]
    },
    {
     "name": "stderr",
     "output_type": "stream",
     "text": [
      " 62%|██████▏   | 2849/4580 [59:44<06:23,  4.52it/s]"
     ]
    },
    {
     "name": "stdout",
     "output_type": "stream",
     "text": [
      "<class 'AttributeError'>:\t'NoneType' object has no attribute 'text':\thttps://ya.cc/t/mwU0EpV8KKgFm\n"
     ]
    },
    {
     "name": "stderr",
     "output_type": "stream",
     "text": [
      " 63%|██████▎   | 2905/4580 [59:59<11:22,  2.45it/s]"
     ]
    },
    {
     "name": "stdout",
     "output_type": "stream",
     "text": [
      "Status code: 999\n"
     ]
    },
    {
     "name": "stderr",
     "output_type": "stream",
     "text": [
      " 65%|██████▍   | 2959/4580 [1:00:28<36:13,  1.34s/it]"
     ]
    },
    {
     "name": "stdout",
     "output_type": "stream",
     "text": [
      "<class 'requests.exceptions.SSLError'>:\thttps://developers.sber.ru/portal/events/onedayoffer-july\n"
     ]
    },
    {
     "name": "stderr",
     "output_type": "stream",
     "text": [
      " 65%|██████▌   | 2993/4580 [1:00:48<10:02,  2.63it/s]"
     ]
    },
    {
     "name": "stdout",
     "output_type": "stream",
     "text": [
      "<class 'requests.exceptions.ConnectionError'>:\thttps://marketolog.mts.ru)\n"
     ]
    },
    {
     "name": "stderr",
     "output_type": "stream",
     "text": [
      " 66%|██████▌   | 3003/4580 [1:00:55<16:26,  1.60it/s]"
     ]
    },
    {
     "name": "stdout",
     "output_type": "stream",
     "text": [
      "<class 'requests.exceptions.ConnectionError'>:\thttps://rivegauche.ru)\n"
     ]
    },
    {
     "name": "stderr",
     "output_type": "stream",
     "text": [
      " 66%|██████▌   | 3030/4580 [1:01:03<13:11,  1.96it/s]"
     ]
    },
    {
     "name": "stdout",
     "output_type": "stream",
     "text": [
      "<class 'requests.exceptions.ConnectionError'>:\thttps://leroymerlin.ru).\n"
     ]
    },
    {
     "name": "stderr",
     "output_type": "stream",
     "text": [
      " 66%|██████▌   | 3034/4580 [1:01:05<11:15,  2.29it/s]"
     ]
    },
    {
     "name": "stdout",
     "output_type": "stream",
     "text": [
      "<class 'requests.exceptions.ConnectionError'>:\thttps://leroymerlin.ru)\n"
     ]
    },
    {
     "name": "stderr",
     "output_type": "stream",
     "text": [
      " 66%|██████▋   | 3045/4580 [1:01:12<14:22,  1.78it/s]"
     ]
    },
    {
     "name": "stdout",
     "output_type": "stream",
     "text": [
      "<class 'requests.exceptions.SSLError'>:\thttps://is-mmk.ru/)\n"
     ]
    },
    {
     "name": "stderr",
     "output_type": "stream",
     "text": [
      " 67%|██████▋   | 3071/4580 [1:01:18<06:26,  3.90it/s]"
     ]
    },
    {
     "name": "stdout",
     "output_type": "stream",
     "text": [
      "<class 'requests.exceptions.ConnectionError'>:\thttps://leroymerlin.ru)\n"
     ]
    },
    {
     "name": "stderr",
     "output_type": "stream",
     "text": [
      " 67%|██████▋   | 3074/4580 [1:01:19<06:21,  3.95it/s]"
     ]
    },
    {
     "name": "stdout",
     "output_type": "stream",
     "text": [
      "<class 'requests.exceptions.ConnectionError'>:\thttps://leroymerlin.ru)\n"
     ]
    },
    {
     "name": "stderr",
     "output_type": "stream",
     "text": [
      " 67%|██████▋   | 3090/4580 [1:01:24<07:43,  3.22it/s]"
     ]
    },
    {
     "name": "stdout",
     "output_type": "stream",
     "text": [
      "<class 'requests.exceptions.ConnectionError'>:\thttp://nsc.media)\n"
     ]
    },
    {
     "name": "stderr",
     "output_type": "stream",
     "text": [
      " 68%|██████▊   | 3120/4580 [1:01:28<02:36,  9.30it/s]"
     ]
    },
    {
     "name": "stdout",
     "output_type": "stream",
     "text": [
      "<class 'requests.exceptions.ConnectionError'>:\thttps://leroymerlin.ru)\n"
     ]
    },
    {
     "name": "stderr",
     "output_type": "stream",
     "text": [
      " 69%|██████▉   | 3173/4580 [1:01:39<03:14,  7.24it/s]"
     ]
    },
    {
     "name": "stdout",
     "output_type": "stream",
     "text": [
      "<class 'requests.exceptions.ConnectionError'>:\thttps://leroymerlin.ru)\n"
     ]
    },
    {
     "name": "stderr",
     "output_type": "stream",
     "text": [
      " 70%|██████▉   | 3190/4580 [1:01:42<04:09,  5.57it/s]"
     ]
    },
    {
     "name": "stdout",
     "output_type": "stream",
     "text": [
      "<class 'AttributeError'>:\t'NoneType' object has no attribute 'text':\thttps://ya.cc/t/cikNOPtP3E4QeD\n"
     ]
    },
    {
     "name": "stderr",
     "output_type": "stream",
     "text": [
      " 74%|███████▍  | 3402/4580 [1:02:41<04:07,  4.77it/s]"
     ]
    },
    {
     "name": "stdout",
     "output_type": "stream",
     "text": [
      "<class 'requests.exceptions.ConnectionError'>:\thttps://www.asna.ru)\n"
     ]
    },
    {
     "name": "stderr",
     "output_type": "stream",
     "text": [
      " 76%|███████▌  | 3471/4580 [1:02:57<04:56,  3.74it/s]"
     ]
    },
    {
     "name": "stdout",
     "output_type": "stream",
     "text": [
      "<class 'requests.exceptions.SSLError'>:\thttps://www.tadviser.ru/index.php/%D0%9F%D1%80%D0%BE%D0%B4%D1%83%D0%BA%D1%82:SAP_Data_Intelligence\n"
     ]
    },
    {
     "name": "stderr",
     "output_type": "stream",
     "text": [
      " 76%|███████▌  | 3484/4580 [1:02:58<02:18,  7.90it/s]"
     ]
    },
    {
     "name": "stdout",
     "output_type": "stream",
     "text": [
      "Status code: 999\n"
     ]
    },
    {
     "name": "stderr",
     "output_type": "stream",
     "text": [
      "\r",
      " 76%|███████▌  | 3486/4580 [1:02:59<02:51,  6.39it/s]"
     ]
    },
    {
     "name": "stdout",
     "output_type": "stream",
     "text": [
      "Status code: 999\n"
     ]
    },
    {
     "name": "stderr",
     "output_type": "stream",
     "text": [
      " 78%|███████▊  | 3578/4580 [1:03:12<01:56,  8.63it/s]"
     ]
    },
    {
     "name": "stdout",
     "output_type": "stream",
     "text": [
      "<class 'requests.exceptions.ConnectionError'>:\thttps://ii-s-nulya.ru/\n",
      "<class 'requests.exceptions.ConnectionError'>:\thttps://www.asna.ru)\n"
     ]
    },
    {
     "name": "stderr",
     "output_type": "stream",
     "text": [
      " 78%|███████▊  | 3589/4580 [1:03:14<02:09,  7.68it/s]"
     ]
    },
    {
     "name": "stdout",
     "output_type": "stream",
     "text": [
      "<class 'requests.exceptions.ConnectionError'>:\thttps://www.ngrow.ai)\n"
     ]
    },
    {
     "name": "stderr",
     "output_type": "stream",
     "text": [
      " 79%|███████▉  | 3616/4580 [1:03:22<07:20,  2.19it/s]"
     ]
    },
    {
     "name": "stdout",
     "output_type": "stream",
     "text": [
      "<class 'requests.exceptions.ConnectionError'>:\thttps://www.asna.ru)\n"
     ]
    },
    {
     "name": "stderr",
     "output_type": "stream",
     "text": [
      " 80%|███████▉  | 3645/4580 [1:03:27<02:34,  6.04it/s]"
     ]
    },
    {
     "name": "stdout",
     "output_type": "stream",
     "text": [
      "<class 'requests.exceptions.MissingSchema'>:\thttp,\n"
     ]
    },
    {
     "name": "stderr",
     "output_type": "stream",
     "text": [
      "\r",
      " 80%|███████▉  | 3652/4580 [1:03:27<02:03,  7.51it/s]"
     ]
    },
    {
     "name": "stdout",
     "output_type": "stream",
     "text": [
      "Status code: 999\n"
     ]
    },
    {
     "name": "stderr",
     "output_type": "stream",
     "text": [
      " 82%|████████▏ | 3746/4580 [1:03:42<02:56,  4.73it/s]"
     ]
    },
    {
     "name": "stdout",
     "output_type": "stream",
     "text": [
      "<class 'requests.exceptions.ConnectionError'>:\thttps://softwarecountry.ru/\n"
     ]
    },
    {
     "name": "stderr",
     "output_type": "stream",
     "text": [
      " 82%|████████▏ | 3776/4580 [1:03:51<02:40,  5.01it/s]"
     ]
    },
    {
     "name": "stdout",
     "output_type": "stream",
     "text": [
      "<class 'requests.exceptions.SSLError'>:\thttps://www.finstar.com/).\n"
     ]
    },
    {
     "name": "stderr",
     "output_type": "stream",
     "text": [
      " 85%|████████▌ | 3898/4580 [1:04:16<03:25,  3.32it/s]"
     ]
    },
    {
     "name": "stdout",
     "output_type": "stream",
     "text": [
      "<class 'requests.exceptions.ConnectionError'>:\thttps://pik.pro/\n"
     ]
    },
    {
     "name": "stderr",
     "output_type": "stream",
     "text": [
      " 87%|████████▋ | 4005/4580 [1:04:41<02:03,  4.66it/s]"
     ]
    },
    {
     "name": "stdout",
     "output_type": "stream",
     "text": [
      "Status code: 999\n"
     ]
    },
    {
     "name": "stderr",
     "output_type": "stream",
     "text": [
      " 88%|████████▊ | 4013/4580 [1:04:47<04:55,  1.92it/s]"
     ]
    },
    {
     "name": "stdout",
     "output_type": "stream",
     "text": [
      "<class 'requests.exceptions.ConnectionError'>:\thttps://cdto.work).\n"
     ]
    },
    {
     "name": "stderr",
     "output_type": "stream",
     "text": [
      " 88%|████████▊ | 4023/4580 [1:04:50<03:17,  2.83it/s]"
     ]
    },
    {
     "name": "stdout",
     "output_type": "stream",
     "text": [
      "<class 'requests.exceptions.SSLError'>:\thttps://www.uralchem.ru/\n"
     ]
    },
    {
     "name": "stderr",
     "output_type": "stream",
     "text": [
      " 89%|████████▊ | 4064/4580 [1:05:07<01:53,  4.55it/s]"
     ]
    },
    {
     "name": "stdout",
     "output_type": "stream",
     "text": [
      "<class 'AttributeError'>:\t'NoneType' object has no attribute 'text':\thttps://hr.geekjob.ru/vacancy/edit?id=5ee24b69e90a14514b530df2\n"
     ]
    },
    {
     "name": "stderr",
     "output_type": "stream",
     "text": [
      " 89%|████████▉ | 4070/4580 [1:05:08<01:28,  5.79it/s]"
     ]
    },
    {
     "name": "stdout",
     "output_type": "stream",
     "text": [
      "<class 'requests.exceptions.SSLError'>:\thttps://my.sbertalents.ru/#/job-requisition/777250\n"
     ]
    },
    {
     "name": "stderr",
     "output_type": "stream",
     "text": [
      " 92%|█████████▏| 4213/4580 [1:06:02<07:19,  1.20s/it]"
     ]
    },
    {
     "name": "stdout",
     "output_type": "stream",
     "text": [
      "<class 'requests.exceptions.ConnectTimeout'>:\thttps://www.osahp.com/ru/\n"
     ]
    },
    {
     "name": "stderr",
     "output_type": "stream",
     "text": [
      " 93%|█████████▎| 4259/4580 [1:06:15<01:36,  3.34it/s]"
     ]
    },
    {
     "name": "stdout",
     "output_type": "stream",
     "text": [
      "<class 'requests.exceptions.ConnectionError'>:\thttps://whisk.com)\n"
     ]
    },
    {
     "name": "stderr",
     "output_type": "stream",
     "text": [
      " 97%|█████████▋| 4455/4580 [1:07:38<02:27,  1.18s/it]"
     ]
    },
    {
     "name": "stdout",
     "output_type": "stream",
     "text": [
      "<class 'requests.exceptions.ConnectTimeout'>:\thttps://sizdev.ru/\n"
     ]
    },
    {
     "name": "stderr",
     "output_type": "stream",
     "text": [
      " 97%|█████████▋| 4464/4580 [1:07:40<01:33,  1.24it/s]"
     ]
    },
    {
     "name": "stdout",
     "output_type": "stream",
     "text": [
      "<class 'requests.exceptions.ConnectionError'>:\thttps://strategy-it.com)\n"
     ]
    },
    {
     "name": "stderr",
     "output_type": "stream",
     "text": [
      " 98%|█████████▊| 4477/4580 [1:07:46<01:08,  1.51it/s]"
     ]
    },
    {
     "name": "stdout",
     "output_type": "stream",
     "text": [
      "<class 'requests.exceptions.ConnectionError'>:\thttps://onesoil.ai,\n"
     ]
    },
    {
     "name": "stderr",
     "output_type": "stream",
     "text": [
      " 99%|█████████▊| 4514/4580 [1:08:06<00:31,  2.09it/s]"
     ]
    },
    {
     "name": "stdout",
     "output_type": "stream",
     "text": [
      "<class 'requests.exceptions.ConnectionError'>:\thttps://www.ngrow.ai)\n"
     ]
    },
    {
     "name": "stderr",
     "output_type": "stream",
     "text": [
      " 99%|█████████▉| 4540/4580 [1:08:13<00:12,  3.27it/s]"
     ]
    },
    {
     "name": "stdout",
     "output_type": "stream",
     "text": [
      "<class 'requests.exceptions.ConnectionError'>:\thttps://anyquery.diginetica.com)\n"
     ]
    },
    {
     "name": "stderr",
     "output_type": "stream",
     "text": [
      "100%|██████████| 4580/4580 [1:08:31<00:00,  1.11it/s]\n"
     ]
    }
   ],
   "source": [
    "telegram['info'] = telegram['url'].progress_apply(lambda x: apply_info(x))"
   ]
  },
  {
   "cell_type": "code",
   "execution_count": 64,
   "id": "5b36d69f",
   "metadata": {},
   "outputs": [
    {
     "data": {
      "text/plain": [
       "'{\"title\": \"\\\\u0421\\\\u0438\\\\u0441\\\\u0442\\\\u0435\\\\u043c\\\\u043d\\\\u044b\\\\u0439 \\\\u0430\\\\u043d\\\\u0430\\\\u043b\\\\u0438\\\\u0442\\\\u0438\\\\u043a 1\\\\u0421 ERP\", \"comapany\": \"icl-services.com\", \"location\": \"\\\\u041a\\\\u0430\\\\u0437\\\\u0430\\\\u043d\\\\u044c, \\\\u0420\\\\u043e\\\\u0441\\\\u0441\\\\u0438\\\\u044f\", \"grade\": \"\\\\u041c\\\\u0438\\\\u0434\\\\u0434\\\\u043b \\\\u2022 \\\\u0421\\\\u0435\\\\u043d\\\\u044c\\\\u043e\\\\u0440 \\\\u2022 \\\\u041a\\\\u043e\\\\u043d\\\\u0441\\\\u0443\\\\u043b\\\\u044c\\\\u0442\\\\u0430\\\\u043d\\\\u0442\", \"salary\": \"\", \"description\": \"\\\\u041e\\\\u043f\\\\u0438\\\\u0441\\\\u0430\\\\u043d\\\\u0438\\\\u0435 \\\\u0432\\\\u0430\\\\u043a\\\\u0430\\\\u043d\\\\u0441\\\\u0438\\\\u0438\\\\u0414\\\\u043b\\\\u044f \\\\u0431\\\\u043b\\\\u043e\\\\u043a\\\\u0430 \\\\\"\\\\u0411\\\\u044e\\\\u0434\\\\u0436\\\\u0435\\\\u0442\\\\u0438\\\\u0440\\\\u043e\\\\u0432\\\\u0430\\\\u043d\\\\u0438\\\\u0435\\\\\" welcome-\\\\u0431\\\\u043e\\\\u043d\\\\u0443\\\\u0441 \\\\u0434\\\\u043e 100 000 gross. \\\\u0418 \\\\u0442\\\\u0430\\\\u043a\\\\u0436\\\\u0435 \\\\u0437\\\\u0430 \\\\u0443\\\\u0441\\\\u043f\\\\u0435\\\\u0448\\\\u043d\\\\u0443\\\\u044e \\\\u0440\\\\u0435\\\\u043a\\\\u043e\\\\u043c\\\\u0435\\\\u043d\\\\u0434\\\\u0430\\\\u0446\\\\u0438\\\\u044e \\\\u043a\\\\u0430\\\\u043d\\\\u0434\\\\u0438\\\\u0434\\\\u0430\\\\u0442\\\\u0430 \\\\u0431\\\\u043e\\\\u043d\\\\u0443\\\\u0441 \\\\u0434\\\\u043e 100 000 \\\\u0440\\\\u0443\\\\u0431\\\\u043b\\\\u0435\\\\u0439.\\\\u041e\\\\u0431\\\\u044f\\\\u0437\\\\u0430\\\\u043d\\\\u043d\\\\u043e\\\\u0441\\\\u0442\\\\u0438:\\\\u0423\\\\u0447\\\\u0430\\\\u0441\\\\u0442\\\\u0438\\\\u0435 \\\\u0432 \\\\u043f\\\\u0440\\\\u043e\\\\u0435\\\\u043a\\\\u0442\\\\u0430\\\\u0445 \\\\u0432\\\\u043d\\\\u0435\\\\u0434\\\\u0440\\\\u0435\\\\u043d\\\\u0438\\\\u044f 1\\\\u0421, \\\\u0432 \\\\u0442\\\\u043e\\\\u043c \\\\u0447\\\\u0438\\\\u0441\\\\u043b\\\\u0435 \\\\u0432 \\\\u043a\\\\u0440\\\\u0443\\\\u043f\\\\u043d\\\\u044b\\\\u0445, \\\\u0432 \\\\u0441\\\\u043e\\\\u0441\\\\u0442\\\\u0430\\\\u0432\\\\u0435 \\\\u043a\\\\u043e\\\\u043c\\\\u0430\\\\u043d\\\\u0434\\\\u044b;\\\\u041e\\\\u0431\\\\u0441\\\\u043b\\\\u0435\\\\u0434\\\\u043e\\\\u0432\\\\u0430\\\\u043d\\\\u0438\\\\u0435 \\\\u043f\\\\u0440\\\\u0435\\\\u0434\\\\u043f\\\\u0440\\\\u0438\\\\u044f\\\\u0442\\\\u0438\\\\u0439, \\\\u0444\\\\u043e\\\\u0440\\\\u043c\\\\u0430\\\\u043b\\\\u0438\\\\u0437\\\\u0430\\\\u0446\\\\u0438\\\\u044f \\\\u0431\\\\u0438\\\\u0437\\\\u043d\\\\u0435\\\\u0441-\\\\u043f\\\\u0440\\\\u043e\\\\u0446\\\\u0435\\\\u0441\\\\u0441\\\\u043e\\\\u0432, \\\\u0440\\\\u0430\\\\u0437\\\\u0440\\\\u0430\\\\u0431\\\\u043e\\\\u0442\\\\u043a\\\\u0430 \\\\u0444\\\\u0443\\\\u043d\\\\u043a\\\\u0446\\\\u0438\\\\u043e\\\\u043d\\\\u0430\\\\u043b\\\\u044c\\\\u043d\\\\u044b\\\\u0445 \\\\u0442\\\\u0440\\\\u0435\\\\u0431\\\\u043e\\\\u0432\\\\u0430\\\\u043d\\\\u0438\\\\u0439;\\\\u0423\\\\u0447\\\\u0430\\\\u0441\\\\u0442\\\\u0438\\\\u0435 \\\\u0432 \\\\u043f\\\\u043e\\\\u0434\\\\u0433\\\\u043e\\\\u0442\\\\u043e\\\\u0432\\\\u043a\\\\u0435 \\\\u043c\\\\u043e\\\\u0434\\\\u0435\\\\u043b\\\\u0438-\\\\u043f\\\\u0440\\\\u043e\\\\u0442\\\\u043e\\\\u0442\\\\u0438\\\\u043f\\\\u0430 \\\\u0441\\\\u0438\\\\u0441\\\\u0442\\\\u0435\\\\u043c\\\\u044b \\\\u043d\\\\u0430 \\\\u0442\\\\u0438\\\\u043f\\\\u043e\\\\u0432\\\\u043e\\\\u043c \\\\u0440\\\\u0435\\\\u0448\\\\u0435\\\\u043d\\\\u0438\\\\u0438;\\\\u041f\\\\u0440\\\\u043e\\\\u0435\\\\u043a\\\\u0442\\\\u0438\\\\u0440\\\\u043e\\\\u0432\\\\u0430\\\\u043d\\\\u0438\\\\u0435 \\\\u0446\\\\u0435\\\\u043b\\\\u0435\\\\u0432\\\\u043e\\\\u0433\\\\u043e \\\\u0441\\\\u043e\\\\u0441\\\\u0442\\\\u043e\\\\u044f\\\\u043d\\\\u0438\\\\u044f \\\\u0431\\\\u0438\\\\u0437\\\\u043d\\\\u0435\\\\u0441-\\\\u043f\\\\u0440\\\\u043e\\\\u0446\\\\u0435\\\\u0441\\\\u0441\\\\u043e\\\\u0432 \\\\u0441 \\\\u0443\\\\u0447\\\\u0435\\\\u0442\\\\u043e\\\\u043c \\\\u0432\\\\u043e\\\\u0437\\\\u043c\\\\u043e\\\\u0436\\\\u043d\\\\u043e\\\\u0441\\\\u0442\\\\u0435\\\\u0439 \\\\u043f\\\\u0440\\\\u043e\\\\u0433\\\\u0440\\\\u0430\\\\u043c\\\\u043c\\\\u043d\\\\u043e\\\\u0433\\\\u043e \\\\u043f\\\\u0440\\\\u043e\\\\u0434\\\\u0443\\\\u043a\\\\u0442\\\\u0430;\\\\u041f\\\\u0440\\\\u043e\\\\u0435\\\\u043a\\\\u0442\\\\u0438\\\\u0440\\\\u043e\\\\u0432\\\\u0430\\\\u043d\\\\u0438\\\\u0435 \\\\u0434\\\\u043e\\\\u0440\\\\u0430\\\\u0431\\\\u043e\\\\u0442\\\\u043e\\\\u043a \\\\u043f\\\\u0440\\\\u043e\\\\u0433\\\\u0440\\\\u0430\\\\u043c\\\\u043c\\\\u043d\\\\u043e\\\\u0433\\\\u043e \\\\u043f\\\\u0440\\\\u043e\\\\u0434\\\\u0443\\\\u043a\\\\u0442\\\\u0430;\\\\u0424\\\\u043e\\\\u0440\\\\u043c\\\\u0438\\\\u0440\\\\u043e\\\\u0432\\\\u0430\\\\u043d\\\\u0438\\\\u0435 \\\\u0434\\\\u0435\\\\u0442\\\\u0430\\\\u043b\\\\u044c\\\\u043d\\\\u044b\\\\u0445 \\\\u0442\\\\u0440\\\\u0435\\\\u0431\\\\u043e\\\\u0432\\\\u0430\\\\u043d\\\\u0438\\\\u0439 \\\\u043a \\\\u0440\\\\u0430\\\\u0437\\\\u0440\\\\u0430\\\\u0431\\\\u043e\\\\u0442\\\\u043a\\\\u0435;\\\\u041e\\\\u0431\\\\u0443\\\\u0447\\\\u0435\\\\u043d\\\\u0438\\\\u0435 \\\\u043f\\\\u043e\\\\u043b\\\\u044c\\\\u0437\\\\u043e\\\\u0432\\\\u0430\\\\u0442\\\\u0435\\\\u043b\\\\u0435\\\\u0439;\\\\u0412\\\\u044b\\\\u043f\\\\u043e\\\\u043b\\\\u043d\\\\u0435\\\\u043d\\\\u0438\\\\u0435 \\\\u0442\\\\u0438\\\\u043f\\\\u043e\\\\u0432\\\\u044b\\\\u0445 \\\\u043d\\\\u0430\\\\u0441\\\\u0442\\\\u0440\\\\u043e\\\\u0435\\\\u043a \\\\u0441\\\\u0438\\\\u0441\\\\u0442\\\\u0435\\\\u043c\\\\u044b;\\\\u041f\\\\u043e\\\\u0434\\\\u0433\\\\u043e\\\\u0442\\\\u043e\\\\u0432\\\\u043a\\\\u0430 \\\\u0438 \\\\u043f\\\\u0440\\\\u043e\\\\u0432\\\\u0435\\\\u0434\\\\u0435\\\\u043d\\\\u0438\\\\u0435 \\\\u0442\\\\u0435\\\\u0441\\\\u0442\\\\u0438\\\\u0440\\\\u043e\\\\u0432\\\\u0430\\\\u043d\\\\u0438\\\\u044f;\\\\u041f\\\\u043e\\\\u0434\\\\u0433\\\\u043e\\\\u0442\\\\u043e\\\\u0432\\\\u043a\\\\u0430 \\\\u043f\\\\u0440\\\\u043e\\\\u0435\\\\u043a\\\\u0442\\\\u043d\\\\u043e\\\\u0439, \\\\u043f\\\\u043e\\\\u043b\\\\u044c\\\\u0437\\\\u043e\\\\u0432\\\\u0430\\\\u0442\\\\u0435\\\\u043b\\\\u044c\\\\u0441\\\\u043a\\\\u043e\\\\u0439 \\\\u0434\\\\u043e\\\\u043a\\\\u0443\\\\u043c\\\\u0435\\\\u043d\\\\u0442\\\\u0430\\\\u0446\\\\u0438\\\\u0438;\\\\u041a\\\\u043e\\\\u043d\\\\u0441\\\\u0443\\\\u043b\\\\u044c\\\\u0442\\\\u0438\\\\u0440\\\\u043e\\\\u0432\\\\u0430\\\\u043d\\\\u0438\\\\u0435 \\\\u043f\\\\u043e\\\\u043b\\\\u044c\\\\u0437\\\\u043e\\\\u0432\\\\u0430\\\\u0442\\\\u0435\\\\u043b\\\\u0435\\\\u0439 \\\\u0432 \\\\u043f\\\\u0440\\\\u043e\\\\u0446\\\\u0435\\\\u0441\\\\u0441\\\\u0435 \\\\u0437\\\\u0430\\\\u043f\\\\u0443\\\\u0441\\\\u043a\\\\u0430 \\\\u0432 \\\\u044d\\\\u043a\\\\u0441\\\\u043f\\\\u043b\\\\u0443\\\\u0430\\\\u0442\\\\u0430\\\\u0446\\\\u0438\\\\u044e \\\\u0438 \\\\u0432 \\\\u043f\\\\u0440\\\\u043e\\\\u0446\\\\u0435\\\\u0441\\\\u0441\\\\u0435 \\\\u044d\\\\u043a\\\\u0441\\\\u043f\\\\u043b\\\\u0443\\\\u0430\\\\u0442\\\\u0430\\\\u0446\\\\u0438\\\\u0438.\\\\u0422\\\\u0440\\\\u0435\\\\u0431\\\\u043e\\\\u0432\\\\u0430\\\\u043d\\\\u0438\\\\u044f:\\\\u041e\\\\u043f\\\\u044b\\\\u0442 \\\\u0443\\\\u0447\\\\u0430\\\\u0441\\\\u0442\\\\u0438\\\\u044f \\\\u0432 \\\\u043f\\\\u0440\\\\u043e\\\\u0435\\\\u043a\\\\u0442\\\\u0430\\\\u0445 \\\\u0432\\\\u043d\\\\u0435\\\\u0434\\\\u0440\\\\u0435\\\\u043d\\\\u0438\\\\u044f (\\\\u043d\\\\u0430 \\\\u0432\\\\u0441\\\\u0435\\\\u0445 \\\\u044d\\\\u0442\\\\u0430\\\\u043f\\\\u0430\\\\u0445) \\\\u0438\\\\u043b\\\\u0438 \\\\u0441\\\\u043e\\\\u043f\\\\u0440\\\\u043e\\\\u0432\\\\u043e\\\\u0436\\\\u0434\\\\u0435\\\\u043d\\\\u0438\\\\u044f \\\\u043a\\\\u0440\\\\u0443\\\\u043f\\\\u043d\\\\u044b\\\\u0445 \\\\u0441\\\\u0438\\\\u0441\\\\u0442\\\\u0435\\\\u043c \\\\u043d\\\\u0430 \\\\u0431\\\\u0430\\\\u0437\\\\u0435 \\\\u043e\\\\u0434\\\\u043d\\\\u043e\\\\u0433\\\\u043e \\\\u0438\\\\u043b\\\\u0438 \\\\u043d\\\\u0435\\\\u0441\\\\u043a\\\\u043e\\\\u043b\\\\u044c\\\\u043a\\\\u0438\\\\u0445 \\\\u0441\\\\u043b\\\\u0435\\\\u0434\\\\u0443\\\\u044e\\\\u0449\\\\u0438\\\\u0445 \\\\u0440\\\\u0435\\\\u0448\\\\u0435\\\\u043d\\\\u0438\\\\u0439: 1\\\\u0421:ERP.\\\\u0423\\\\u0425 (1\\\\u0421:\\\\u0423\\\\u0425, 1\\\\u0421:ERP) \\\\u0432 \\\\u043e\\\\u0431\\\\u043b\\\\u0430\\\\u0441\\\\u0442\\\\u0438 \\\\u0411\\\\u0423 \\\\u0438 \\\\u041d\\\\u0423; \\\\u0437\\\\u0430\\\\u043a\\\\u0443\\\\u043f\\\\u043e\\\\u043a \\\\u0438 \\\\u0441\\\\u043a\\\\u043b\\\\u0430\\\\u0434\\\\u0441\\\\u043a\\\\u043e\\\\u0433\\\\u043e \\\\u0443\\\\u0447\\\\u0435\\\\u0442\\\\u0430; \\\\u0431\\\\u044e\\\\u0434\\\\u0436\\\\u0435\\\\u0442\\\\u0438\\\\u0440\\\\u043e\\\\u0432\\\\u0430\\\\u043d\\\\u0438\\\\u044f \\\\u0438 \\\\u043a\\\\u0430\\\\u0437\\\\u043d\\\\u0430\\\\u0447\\\\u0435\\\\u0439\\\\u0441\\\\u0442\\\\u0432\\\\u0430.\\\\u0417\\\\u043d\\\\u0430\\\\u043d\\\\u0438\\\\u044f \\\\u0438 \\\\u043d\\\\u0430\\\\u0432\\\\u044b\\\\u043a\\\\u0438 \\\\u0440\\\\u0430\\\\u0431\\\\u043e\\\\u0442\\\\u044b \\\\u0432 1\\\\u0421 \\\\u0432 \\\\u0440\\\\u043e\\\\u043b\\\\u0438 \\\\u0430\\\\u043d\\\\u0430\\\\u043b\\\\u0438\\\\u0442\\\\u0438\\\\u043a\\\\u0430 1\\\\u0421:ERP, 1\\\\u0421 ERP.\\\\u0423\\\\u0425 \\\\u0438\\\\u043b\\\\u0438 1\\\\u0421 \\\\u0423\\\\u0425;\\\\u041f\\\\u043e\\\\u043d\\\\u0438\\\\u043c\\\\u0430\\\\u043d\\\\u0438\\\\u0435 \\\\u0431\\\\u0438\\\\u0437\\\\u043d\\\\u0435\\\\u0441-\\\\u043f\\\\u0440\\\\u043e\\\\u0446\\\\u0435\\\\u0441\\\\u0441\\\\u043e\\\\u0432 \\\\u043f\\\\u0440\\\\u0435\\\\u0434\\\\u043f\\\\u0440\\\\u0438\\\\u044f\\\\u0442\\\\u0438\\\\u0439 \\\\u0432 \\\\u0434\\\\u0430\\\\u043d\\\\u043d\\\\u044b\\\\u0445 \\\\u0444\\\\u0443\\\\u043d\\\\u043a\\\\u0446\\\\u0438\\\\u043e\\\\u043d\\\\u0430\\\\u043b\\\\u044c\\\\u043d\\\\u044b\\\\u0445 \\\\u043e\\\\u0431\\\\u043b\\\\u0430\\\\u0441\\\\u0442\\\\u044f\\\\u0445, \\\\u0442\\\\u0438\\\\u043f\\\\u0438\\\\u0447\\\\u043d\\\\u044b\\\\u0445 \\\\u0437\\\\u0430\\\\u0434\\\\u0430\\\\u0447 \\\\u0438 \\\\u043f\\\\u0440\\\\u043e\\\\u0431\\\\u043b\\\\u0435\\\\u043c \\\\u0432 \\\\u0434\\\\u0430\\\\u043d\\\\u043d\\\\u044b\\\\u0445 \\\\u043e\\\\u0431\\\\u043b\\\\u0430\\\\u0441\\\\u0442\\\\u044f\\\\u0445, \\\\u0442\\\\u0438\\\\u043f\\\\u043e\\\\u0432\\\\u044b\\\\u0445 \\\\u043c\\\\u0435\\\\u0442\\\\u043e\\\\u0434\\\\u043e\\\\u0432 \\\\u0438\\\\u0445 \\\\u0440\\\\u0435\\\\u0448\\\\u0435\\\\u043d\\\\u0438\\\\u044f\\\\u0423\\\\u043c\\\\u0435\\\\u043d\\\\u0438\\\\u0435 \\\\u0433\\\\u043e\\\\u0432\\\\u043e\\\\u0440\\\\u0438\\\\u0442\\\\u044c \\\\u00ab\\\\u043d\\\\u0430 \\\\u043e\\\\u0434\\\\u043d\\\\u043e\\\\u043c \\\\u044f\\\\u0437\\\\u044b\\\\u043a\\\\u0435\\\\u00bb \\\\u0441 \\\\u0444\\\\u0443\\\\u043d\\\\u043a\\\\u0446\\\\u0438\\\\u043e\\\\u043d\\\\u0430\\\\u043b\\\\u044c\\\\u043d\\\\u044b\\\\u043c \\\\u0437\\\\u0430\\\\u043a\\\\u0430\\\\u0437\\\\u0447\\\\u0438\\\\u043a\\\\u043e\\\\u043c (\\\\u043d\\\\u0435 \\\\u0442\\\\u0435\\\\u0440\\\\u043c\\\\u0438\\\\u043d\\\\u0430\\\\u043c\\\\u0438 1\\\\u0421);\\\\u0411\\\\u0430\\\\u0437\\\\u043e\\\\u0432\\\\u044b\\\\u0435 \\\\u0437\\\\u043d\\\\u0430\\\\u043d\\\\u0438\\\\u044f \\\\u0441\\\\u043c\\\\u0435\\\\u0436\\\\u043d\\\\u044b\\\\u0445 \\\\u043f\\\\u0440\\\\u0435\\\\u0434\\\\u043c\\\\u0435\\\\u0442\\\\u043d\\\\u044b\\\\u0445 \\\\u043e\\\\u0431\\\\u043b\\\\u0430\\\\u0441\\\\u0442\\\\u0435\\\\u0439 (\\\\u0437\\\\u0430\\\\u043a\\\\u0443\\\\u043f\\\\u043a\\\\u0438, \\\\u0444\\\\u0438\\\\u043d\\\\u0430\\\\u043d\\\\u0441\\\\u044b, \\\\u0431\\\\u0443\\\\u0445\\\\u0433\\\\u0430\\\\u043b\\\\u0442\\\\u0435\\\\u0440\\\\u0441\\\\u043a\\\\u0438\\\\u0439 \\\\u0443\\\\u0447\\\\u0435\\\\u0442 \\\\u0438 \\\\u0442.\\\\u0434.);\\\\u041e\\\\u043f\\\\u044b\\\\u0442 \\\\u0440\\\\u0430\\\\u0437\\\\u0440\\\\u0430\\\\u0431\\\\u043e\\\\u0442\\\\u043a\\\\u0438 \\\\u043f\\\\u0440\\\\u043e\\\\u0435\\\\u043a\\\\u0442\\\\u043d\\\\u043e\\\\u0439 \\\\u0438 \\\\u043f\\\\u043e\\\\u043b\\\\u044c\\\\u0437\\\\u043e\\\\u0432\\\\u0430\\\\u0442\\\\u0435\\\\u043b\\\\u044c\\\\u0441\\\\u043a\\\\u043e\\\\u0439 \\\\u0434\\\\u043e\\\\u043a\\\\u0443\\\\u043c\\\\u0435\\\\u043d\\\\u0442\\\\u0430\\\\u0446\\\\u0438\\\\u0438 (\\\\u0422\\\\u0435\\\\u0445\\\\u043d\\\\u0438\\\\u0447\\\\u0435\\\\u0441\\\\u043a\\\\u043e\\\\u0435 \\\\u0437\\\\u0430\\\\u0434\\\\u0430\\\\u043d\\\\u0438\\\\u0435, \\\\u0444\\\\u0443\\\\u043d\\\\u043a\\\\u0446\\\\u0438\\\\u043e\\\\u043d\\\\u0430\\\\u043b\\\\u044c\\\\u043d\\\\u044b\\\\u0435 \\\\u0442\\\\u0440\\\\u0435\\\\u0431\\\\u043e\\\\u0432\\\\u0430\\\\u043d\\\\u0438\\\\u044f, \\\\u043f\\\\u0440\\\\u043e\\\\u0435\\\\u043a\\\\u0442\\\\u043d\\\\u044b\\\\u0435 \\\\u0440\\\\u0435\\\\u0448\\\\u0435\\\\u043d\\\\u0438\\\\u044f, \\\\u0441\\\\u043f\\\\u0435\\\\u0446\\\\u0438\\\\u0444\\\\u0438\\\\u043a\\\\u0430\\\\u0446\\\\u0438\\\\u0438 \\\\u043d\\\\u0430 \\\\u0440\\\\u0430\\\\u0437\\\\u0440\\\\u0430\\\\u0431\\\\u043e\\\\u0442\\\\u043a\\\\u0443, \\\\u0438\\\\u043d\\\\u0441\\\\u0442\\\\u0440\\\\u0443\\\\u043a\\\\u0446\\\\u0438\\\\u0438 \\\\u0438 \\\\u0440\\\\u0443\\\\u043a\\\\u043e\\\\u0432\\\\u043e\\\\u0434\\\\u0441\\\\u0442\\\\u0432\\\\u0430 \\\\u043f\\\\u043e\\\\u043b\\\\u044c\\\\u0437\\\\u043e\\\\u0432\\\\u0430\\\\u0442\\\\u0435\\\\u043b\\\\u044f);\\\\u0420\\\\u0430\\\\u0437\\\\u0432\\\\u0438\\\\u0442\\\\u044b\\\\u0435 \\\\u043a\\\\u043e\\\\u043c\\\\u043c\\\\u0443\\\\u043d\\\\u0438\\\\u043a\\\\u0430\\\\u0442\\\\u0438\\\\u0432\\\\u043d\\\\u044b\\\\u0435 \\\\u043d\\\\u0430\\\\u0432\\\\u044b\\\\u043a\\\\u0438, \\\\u0443\\\\u043c\\\\u0435\\\\u043d\\\\u0438\\\\u0435 \\\\u0440\\\\u0430\\\\u0431\\\\u043e\\\\u0442\\\\u0430\\\\u0442\\\\u044c \\\\u0432 \\\\u043a\\\\u043e\\\\u043c\\\\u0430\\\\u043d\\\\u0434\\\\u0435;\\\\u041d\\\\u0430\\\\u043b\\\\u0438\\\\u0447\\\\u0438\\\\u0435 \\\\u0441\\\\u0435\\\\u0440\\\\u0442\\\\u0438\\\\u0444\\\\u0438\\\\u043a\\\\u0430\\\\u0442\\\\u043e\\\\u0432 1\\\\u0421:ERP.\\\\u0423\\\\u0425, 1\\\\u0421:ERP \\\\u0438\\\\u043b\\\\u0438 1\\\\u0421.\\\\u0423\\\\u0425, \\\\u043a\\\\u0430\\\\u043a \\\\u043f\\\\u0440\\\\u0435\\\\u0438\\\\u043c\\\\u0443\\\\u0449\\\\u0435\\\\u0441\\\\u0442\\\\u0432\\\\u043e;\\\\u0413\\\\u043e\\\\u0442\\\\u043e\\\\u0432\\\\u043d\\\\u043e\\\\u0441\\\\u0442\\\\u044c \\\\u043a \\\\u043a\\\\u043e\\\\u043c\\\\u0430\\\\u043d\\\\u0434\\\\u0438\\\\u0440\\\\u043e\\\\u0432\\\\u043a\\\\u0430\\\\u043c.\\\\u0423\\\\u0441\\\\u043b\\\\u043e\\\\u0432\\\\u0438\\\\u044f:\\\\u0412\\\\u044b\\\\u043f\\\\u043b\\\\u0430\\\\u0442\\\\u044b \\\\u0438 \\\\u0431\\\\u043e\\\\u043d\\\\u0443\\\\u0441\\\\u044b:\\\\u041a\\\\u043e\\\\u043d\\\\u043a\\\\u0443\\\\u0440\\\\u0435\\\\u043d\\\\u0442\\\\u043d\\\\u0430\\\\u044f \\\\u0437\\\\u0430\\\\u0440\\\\u0430\\\\u0431\\\\u043e\\\\u0442\\\\u043d\\\\u0430\\\\u044f \\\\u043f\\\\u043b\\\\u0430\\\\u0442\\\\u0430;13 \\\\u0437\\\\u0430\\\\u0440\\\\u043f\\\\u043b\\\\u0430\\\\u0442\\\\u0430 + \\\\u0434\\\\u043e\\\\u043f.\\\\u0432\\\\u044b\\\\u043f\\\\u043b\\\\u0430\\\\u0442\\\\u044b \\\\u043a \\\\u043e\\\\u0442\\\\u043f\\\\u0443\\\\u0441\\\\u043a\\\\u0443 \\\\u0438 \\\\u0437\\\\u043d\\\\u0430\\\\u0447\\\\u0438\\\\u043c\\\\u044b\\\\u043c \\\\u0441\\\\u043e\\\\u0431\\\\u044b\\\\u0442\\\\u0438\\\\u044f\\\\u043c (\\\\u0441\\\\u0432\\\\u0430\\\\u0434\\\\u044c\\\\u0431\\\\u0430, \\\\u0440\\\\u043e\\\\u0436\\\\u0434\\\\u0435\\\\u043d\\\\u0438\\\\u0435 \\\\u0434\\\\u0435\\\\u0442\\\\u0435\\\\u0439);\\\\u0414\\\\u041c\\\\u0421 \\\\u0441\\\\u043e \\\\u0441\\\\u0442\\\\u043e\\\\u043c\\\\u0430\\\\u0442\\\\u043e\\\\u043b\\\\u043e\\\\u0433\\\\u0438\\\\u0435\\\\u0439;\\\\u041a\\\\u043e\\\\u043c\\\\u043f\\\\u0435\\\\u043d\\\\u0441\\\\u0430\\\\u0446\\\\u0438\\\\u044f \\\\u0441\\\\u043f\\\\u043e\\\\u0440\\\\u0442\\\\u0430 \\\\u0438 \\\\u0441\\\\u043a\\\\u0438\\\\u0434\\\\u043a\\\\u0438 \\\\u0432 \\\\u0444\\\\u0438\\\\u0442\\\\u043d\\\\u0435\\\\u0441-\\\\u043a\\\\u043b\\\\u0443\\\\u0431\\\\u0430\\\\u0445;\\\\u041a\\\\u043e\\\\u043c\\\\u043f\\\\u0435\\\\u043d\\\\u0441\\\\u0430\\\\u0446\\\\u0438\\\\u044f \\\\u0413\\\\u0421\\\\u041c;\\\\u0414\\\\u043e\\\\u0442\\\\u0430\\\\u0446\\\\u0438\\\\u0438 \\\\u043d\\\\u0430 \\\\u043f\\\\u0438\\\\u0442\\\\u0430\\\\u043d\\\\u0438\\\\u0435.\\\\u0423\\\\u0441\\\\u043b\\\\u043e\\\\u0432\\\\u0438\\\\u044f \\\\u0442\\\\u0440\\\\u0443\\\\u0434\\\\u0430:\\\\u0413\\\\u0438\\\\u0431\\\\u0440\\\\u0438\\\\u0434\\\\u043d\\\\u044b\\\\u0439 \\\\u0444\\\\u043e\\\\u0440\\\\u043c\\\\u0430\\\\u0442 \\\\u0440\\\\u0430\\\\u0431\\\\u043e\\\\u0442\\\\u044b.\\\\u041e\\\\u0431\\\\u0443\\\\u0447\\\\u0435\\\\u043d\\\\u0438\\\\u0435 \\\\u0438 \\\\u043a\\\\u0430\\\\u0440\\\\u044c\\\\u0435\\\\u0440\\\\u0430:\\\\u0412\\\\u0435\\\\u043d\\\\u0434\\\\u043e\\\\u0440\\\\u043d\\\\u043e\\\\u0435 \\\\u043e\\\\u0431\\\\u0443\\\\u0447\\\\u0435\\\\u043d\\\\u0438\\\\u0435 \\\\u0438 \\\\u0441\\\\u0435\\\\u0440\\\\u0442\\\\u0438\\\\u0444\\\\u0438\\\\u043a\\\\u0430\\\\u0446\\\\u0438\\\\u044f \\\\u0437\\\\u0430 \\\\u0441\\\\u0447\\\\u0435\\\\u0442 \\\\u043a\\\\u043e\\\\u043c\\\\u043f\\\\u0430\\\\u043d\\\\u0438\\\\u0438;\\\\u0412\\\\u043e\\\\u0437\\\\u043c\\\\u043e\\\\u0436\\\\u043d\\\\u043e\\\\u0441\\\\u0442\\\\u044c \\\\u043f\\\\u0440\\\\u043e\\\\u0444\\\\u0435\\\\u0441\\\\u0441\\\\u0438\\\\u043e\\\\u043d\\\\u0430\\\\u043b\\\\u044c\\\\u043d\\\\u043e\\\\u0433\\\\u043e \\\\u0438 \\\\u043a\\\\u0430\\\\u0440\\\\u044c\\\\u0435\\\\u0440\\\\u043d\\\\u043e\\\\u0433\\\\u043e \\\\u0440\\\\u043e\\\\u0441\\\\u0442\\\\u0430.\\\\u042d\\\\u043a\\\\u043e\\\\u043b\\\\u043e\\\\u0433\\\\u0438\\\\u044f \\\\u0438 \\\\u0431\\\\u043b\\\\u0430\\\\u0433\\\\u043e\\\\u0442\\\\u0432\\\\u043e\\\\u0440\\\\u0438\\\\u0442\\\\u0435\\\\u043b\\\\u044c\\\\u043d\\\\u043e\\\\u0441\\\\u0442\\\\u044c:\\\\u041f\\\\u043e\\\\u043c\\\\u043e\\\\u0433\\\\u0430\\\\u0435\\\\u043c \\\\u0434\\\\u0435\\\\u0442\\\\u0441\\\\u043a\\\\u0438\\\\u043c \\\\u0434\\\\u043e\\\\u043c\\\\u0430\\\\u043c, \\\\u0448\\\\u043a\\\\u043e\\\\u043b\\\\u0430\\\\u043c, \\\\u043f\\\\u0440\\\\u0438\\\\u044e\\\\u0442\\\\u0430\\\\u043c \\\\u0434\\\\u043b\\\\u044f \\\\u0436\\\\u0438\\\\u0432\\\\u043e\\\\u0442\\\\u043d\\\\u044b\\\\u0445;\\\\u041e\\\\u0437\\\\u0435\\\\u043b\\\\u0435\\\\u043d\\\\u044f\\\\u0435\\\\u043c \\\\u0433\\\\u043e\\\\u0440\\\\u043e\\\\u0434, \\\\u0431\\\\u0435\\\\u0440\\\\u0435\\\\u0436\\\\u0435\\\\u043c \\\\u0440\\\\u0435\\\\u0441\\\\u0443\\\\u0440\\\\u0441\\\\u044b;\\\\u041f\\\\u043e\\\\u0434\\\\u0434\\\\u0435\\\\u0440\\\\u0436\\\\u0438\\\\u0432\\\\u0430\\\\u0435\\\\u043c \\\\u0441\\\\u043e\\\\u0446\\\\u0438\\\\u0430\\\\u043b\\\\u044c\\\\u043d\\\\u044b\\\\u0435 \\\\u0438\\\\u043d\\\\u0438\\\\u0446\\\\u0438\\\\u0430\\\\u0442\\\\u0438\\\\u0432\\\\u044b \\\\u0441\\\\u043e\\\\u0442\\\\u0440\\\\u0443\\\\u0434\\\\u043d\\\\u0438\\\\u043a\\\\u043e\\\\u0432.\"}'"
      ]
     },
     "execution_count": 64,
     "metadata": {},
     "output_type": "execute_result"
    }
   ],
   "source": [
    "telegram['info'][60]"
   ]
  },
  {
   "cell_type": "code",
   "execution_count": 66,
   "id": "73818f34",
   "metadata": {},
   "outputs": [],
   "source": [
    "telegram.to_csv('telegram_plus_link.csv')"
   ]
  },
  {
   "cell_type": "markdown",
   "id": "f71a3ab7",
   "metadata": {},
   "source": [
    "**Очистка текста**"
   ]
  },
  {
   "cell_type": "markdown",
   "id": "41880abb",
   "metadata": {},
   "source": [
    "**Избавимся от смайликов и не нужных символов в вакансии**"
   ]
  },
  {
   "cell_type": "markdown",
   "id": "a0086573",
   "metadata": {},
   "source": [
    "С помощью регулярных выражений очистим описание вакансий, оставив только английские, русские буквы, цифры."
   ]
  },
  {
   "cell_type": "code",
   "execution_count": 40,
   "id": "60800df8",
   "metadata": {},
   "outputs": [],
   "source": [
    "def clin_rex(text):\n",
    "    text = re.sub(r'[^а-яА-Яa-zA-Z0-9]', ' ', text)\n",
    "    text = re.sub(r'[^\\w\\d\\s]', ' ', text)\n",
    "    return text"
   ]
  },
  {
   "cell_type": "code",
   "execution_count": 41,
   "id": "e415b2e6",
   "metadata": {},
   "outputs": [],
   "source": [
    "telegram['text'] = telegram['text'].apply(lambda x: clin_rex(x))"
   ]
  },
  {
   "cell_type": "code",
   "execution_count": 42,
   "id": "f5a591c7",
   "metadata": {},
   "outputs": [
    {
     "data": {
      "text/plain": [
       "'Product Analyst в Safeguard Global   поставщик аутсорсинговых услуг по расчету заработной платы и управлению персоналом  Удаленная работа  Описание вакансии'"
      ]
     },
     "execution_count": 42,
     "metadata": {},
     "output_type": "execute_result"
    }
   ],
   "source": [
    "telegram['text'][0]"
   ]
  },
  {
   "cell_type": "code",
   "execution_count": 43,
   "id": "9ebebf3c",
   "metadata": {},
   "outputs": [
    {
     "ename": "NameError",
     "evalue": "name 'vac_name' is not defined",
     "output_type": "error",
     "traceback": [
      "\u001b[0;31m---------------------------------------------------------------------------\u001b[0m",
      "\u001b[0;31mNameError\u001b[0m                                 Traceback (most recent call last)",
      "Input \u001b[0;32mIn [43]\u001b[0m, in \u001b[0;36m<cell line: 1>\u001b[0;34m()\u001b[0m\n\u001b[0;32m----> 1\u001b[0m LABEL_1 \u001b[38;5;241m=\u001b[39m \u001b[43mvac_name\u001b[49m\n\u001b[1;32m      2\u001b[0m LABEL_2 \u001b[38;5;241m=\u001b[39m type_of_work\n\u001b[1;32m      3\u001b[0m LABEL_3 \u001b[38;5;241m=\u001b[39m company\n",
      "\u001b[0;31mNameError\u001b[0m: name 'vac_name' is not defined"
     ]
    }
   ],
   "source": [
    "LABEL_1 = vac_name\n",
    "LABEL_2 = type_of_work\n",
    "LABEL_3 = company\n",
    "LABEL_4 = stack\n",
    "\n",
    "\n",
    "TRAIN_DATA = [\n",
    "    (\n",
    "        \"Product Analyst в Safeguard Global поставщик аутсорсинговых услуг по расчету заработной платы и управлению персоналом Удаленная работа\",\n",
    "        {\"entities\": [(45, 54, LABEL)]},\n",
    "    ),\n",
    "    (\"Анализ тестовых данных и данных в системах\", {\"entities\": []}),\n",
    "    (\n",
    "        \"Можно удаленно\",\n",
    "        {\"entities\": [(6, 14, LABEL)]},\n",
    "    ),\n",
    "    (\"Удаленный формат работы\", {\"entities\": [(0, 9, LABEL)]}),\n",
    "    \n",
    "]"
   ]
  }
 ],
 "metadata": {
  "kernelspec": {
   "display_name": "Python 3 (ipykernel)",
   "language": "python",
   "name": "python3"
  },
  "language_info": {
   "codemirror_mode": {
    "name": "ipython",
    "version": 3
   },
   "file_extension": ".py",
   "mimetype": "text/x-python",
   "name": "python",
   "nbconvert_exporter": "python",
   "pygments_lexer": "ipython3",
   "version": "3.9.12"
  },
  "toc": {
   "base_numbering": 1,
   "nav_menu": {},
   "number_sections": true,
   "sideBar": true,
   "skip_h1_title": false,
   "title_cell": "Table of Contents",
   "title_sidebar": "Contents",
   "toc_cell": false,
   "toc_position": {},
   "toc_section_display": true,
   "toc_window_display": true
  }
 },
 "nbformat": 4,
 "nbformat_minor": 5
}
