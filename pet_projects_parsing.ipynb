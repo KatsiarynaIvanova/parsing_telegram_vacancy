{
 "cells": [
  {
   "cell_type": "markdown",
   "id": "9b24ef4d",
   "metadata": {},
   "source": [
    "# Анализ вакансий DS, DA в телеграм каналах"
   ]
  },
  {
   "cell_type": "markdown",
   "id": "b1aeb25f",
   "metadata": {},
   "source": [
    "#  План работы над проектом"
   ]
  },
  {
   "cell_type": "markdown",
   "id": "ca7316b0",
   "metadata": {},
   "source": [
    "**Цель проекта**:\n",
    "* Составить портрет сотрудника, которого чаще всего готовы принять на позиции DS, DA, а также оценить условия труда, предлогаемые в этих вакансиях. На основе анализа можно будет проследить как меняется рынок труда, выделить тенденции. Это поможет соискателям лучше понимать нанимающие компании, оценить и сопоставить свои ожидания и предложения компаний.\n",
    "\n",
    "**При описании портрета сотрудника и оценке условий труда, будем учитывать следующее:**\n",
    "* образование\n",
    "* нанимающую компанию\n",
    "* размер компании\n",
    "* опыт сотрудника (грейд)\n",
    "* требуемый стек технологий\n",
    "* формат работы (удаленный/офис)\n",
    "* зарплата\n",
    "\n",
    "**В ходе исследования проверим следующие гипотезы:**\n",
    "1. Больше всего вакансий, предлагающих работу в офисе, чем удаленный формат.\n",
    "2. Приблизиттельное одинаковое количество вакансий для DA и DS\n",
    "3. Больше вакансий от крупных компаний, чем от стартапов. \n",
    "4. Больше всего вакансий для специалистов с опытом, чем для junior специалистов.\n",
    "5. В зимнее месяцы количество вакансий больше, чем в летние месяцы. \n",
    "\n",
    "\n",
    "\n",
    "\n",
    "# Этапы выполнения проекта.\n",
    "1. Парсер телеграм-каналов с вакансиями DS, DA.\n",
    "        * выбрать необходимые телеграм-каналы\n",
    "        * выбрать период за который будут анализироваться вакансии\n",
    "        * установить лимит выгружаемых вакансий\n",
    "        * сформировать csv-файл с первоначальными данными о вакансиях\n",
    "2. Предобработка данных:\n",
    "        * Очистить и подготовить текст для дальнейшей работы (с использованием регулярных выражений, лемматизация, библиотеки    ntlk с стоп-словами).\n",
    "        * Исследовать пропущенные значения\n",
    "        * Проверить наличие дубликатов\n",
    "        * Работа с типами данных\n",
    "        * Создание необходимых колонок\n",
    "3. Исследовательский анализ данных:\n",
    "        * Обнаружение аномалий, выбросов, интересных фактов и зависимостей.\n",
    "        * Поиск ответов на выдвинутые гипотезы\n",
    "        * Визуальзация данных с \n",
    "4. Оформление результатов исследования в понятный и функциональный дашборд. \n",
    "        * визуализировать ответы на выдвинутые гипотезы\n",
    "        * визуализировать потррет типичного специалиста DS и DA"
   ]
  },
  {
   "cell_type": "markdown",
   "id": "ccb69d75",
   "metadata": {},
   "source": [
    "Для анализа вакансий будем использовать следующие чаты."
   ]
  },
  {
   "cell_type": "markdown",
   "id": "84a2f981",
   "metadata": {},
   "source": [
    "* https://t.me/foranalysts\n",
    "* https://t.me/analyst_job\n",
    "* https://t.me/biheadhunter\n",
    "* https://t.me/datasciencejobs\n",
    "* https://t.me/bds_job\n",
    "* https://t.me/datajobschannel\n",
    "* https://t.me/data_hr"
   ]
  },
  {
   "cell_type": "markdown",
   "id": "dadf0aef",
   "metadata": {},
   "source": [
    "# Парсер телеграм-каналов"
   ]
  },
  {
   "cell_type": "code",
   "execution_count": 1,
   "id": "b23f8e94",
   "metadata": {},
   "outputs": [],
   "source": [
    "# !pip3 install pyrogram tgcrypto"
   ]
  },
  {
   "cell_type": "code",
   "execution_count": 2,
   "id": "81870ae9",
   "metadata": {},
   "outputs": [],
   "source": [
    "# !pip3 install python-dotenv"
   ]
  },
  {
   "cell_type": "code",
   "execution_count": 3,
   "id": "aefc9d07",
   "metadata": {},
   "outputs": [
    {
     "name": "stderr",
     "output_type": "stream",
     "text": [
      "/var/folders/vf/z1gk_tyn2zsf73w6bspmxgjm0000gn/T/ipykernel_79367/1215047102.py:12: DeprecationWarning: Importing display from IPython.core.display is deprecated since IPython 7.14, please import from IPython display\n",
      "  from IPython.core.display import display, HTML, clear_output\n",
      "/var/folders/vf/z1gk_tyn2zsf73w6bspmxgjm0000gn/T/ipykernel_79367/1215047102.py:12: DeprecationWarning: Importing clear_output from IPython.core.display is deprecated since IPython 7.14, please import from IPython display\n",
      "  from IPython.core.display import display, HTML, clear_output\n"
     ]
    }
   ],
   "source": [
    "import pyrogram\n",
    "import requests\n",
    "import numpy as np\n",
    "from bs4 import BeautifulSoup\n",
    "from dotenv import load_dotenv\n",
    "import os\n",
    "from pyrogram import Client\n",
    "import pandas as pd\n",
    "import json\n",
    "from datetime import datetime\n",
    "import re\n",
    "from IPython.core.display import display, HTML, clear_output\n",
    "import ipywidgets as widgets\n",
    "from urllib.parse import urlparse"
   ]
  },
  {
   "cell_type": "code",
   "execution_count": 4,
   "id": "9afe2074",
   "metadata": {},
   "outputs": [
    {
     "data": {
      "text/plain": [
       "'2.0.51'"
      ]
     },
     "execution_count": 4,
     "metadata": {},
     "output_type": "execute_result"
    }
   ],
   "source": [
    "pyrogram.__version__"
   ]
  },
  {
   "cell_type": "code",
   "execution_count": 5,
   "id": "50d12761",
   "metadata": {},
   "outputs": [],
   "source": [
    "dotenv_path = os.path.join('dot.env')\n",
    "if os.path.exists(dotenv_path):\n",
    "    load_dotenv(dotenv_path)"
   ]
  },
  {
   "cell_type": "code",
   "execution_count": 6,
   "id": "3a10993a",
   "metadata": {},
   "outputs": [],
   "source": [
    "API_ID = os.environ['API_ID']\n",
    "API_HASH = os.environ['API_HASH']"
   ]
  },
  {
   "cell_type": "code",
   "execution_count": 7,
   "id": "79123312",
   "metadata": {},
   "outputs": [],
   "source": [
    "# выгружаем данные после работы скрипта\n",
    "# %%bash\n",
    "# python3 pyro_run.py"
   ]
  },
  {
   "cell_type": "code",
   "execution_count": 8,
   "id": "108c4352",
   "metadata": {},
   "outputs": [],
   "source": [
    "# читаем и сохраняем данные в переменную\n",
    "telegram = pd.read_csv('telegram.csv')"
   ]
  },
  {
   "cell_type": "code",
   "execution_count": 64,
   "id": "c1749161",
   "metadata": {},
   "outputs": [
    {
     "data": {
      "text/html": [
       "<div>\n",
       "<style scoped>\n",
       "    .dataframe tbody tr th:only-of-type {\n",
       "        vertical-align: middle;\n",
       "    }\n",
       "\n",
       "    .dataframe tbody tr th {\n",
       "        vertical-align: top;\n",
       "    }\n",
       "\n",
       "    .dataframe thead th {\n",
       "        text-align: right;\n",
       "    }\n",
       "</style>\n",
       "<table border=\"1\" class=\"dataframe\">\n",
       "  <thead>\n",
       "    <tr style=\"text-align: right;\">\n",
       "      <th></th>\n",
       "      <th>chat</th>\n",
       "      <th>message_id</th>\n",
       "      <th>date</th>\n",
       "      <th>text</th>\n",
       "      <th>entities</th>\n",
       "      <th>chat_id</th>\n",
       "      <th>title</th>\n",
       "      <th>url</th>\n",
       "      <th>host</th>\n",
       "    </tr>\n",
       "  </thead>\n",
       "  <tbody>\n",
       "    <tr>\n",
       "      <th>0</th>\n",
       "      <td>{\\n    \"_\": \"Chat\",\\n    \"id\": -1001137236002,...</td>\n",
       "      <td>4730</td>\n",
       "      <td>2022-09-09 17:05:10</td>\n",
       "      <td>Product Analyst\\nв Safeguard Global — поставщи...</td>\n",
       "      <td>[\\n    {\\n        \"_\": \"MessageEntity\",\\n     ...</td>\n",
       "      <td>-1001137236002</td>\n",
       "      <td>Job for Analysts &amp; Data Scientists</td>\n",
       "      <td>https://www.linkedin.com/jobs/view/3243717640/</td>\n",
       "      <td>www.linkedin.com</td>\n",
       "    </tr>\n",
       "    <tr>\n",
       "      <th>1</th>\n",
       "      <td>{\\n    \"_\": \"Chat\",\\n    \"id\": -1001137236002,...</td>\n",
       "      <td>4729</td>\n",
       "      <td>2022-09-09 15:12:08</td>\n",
       "      <td>Бизнес-аналитик/Менеджер проекта\\nв Simble — I...</td>\n",
       "      <td>[\\n    {\\n        \"_\": \"MessageEntity\",\\n     ...</td>\n",
       "      <td>-1001137236002</td>\n",
       "      <td>Job for Analysts &amp; Data Scientists</td>\n",
       "      <td>https://geekjob.ru/hZ3N</td>\n",
       "      <td>geekjob.ru</td>\n",
       "    </tr>\n",
       "    <tr>\n",
       "      <th>2</th>\n",
       "      <td>{\\n    \"_\": \"Chat\",\\n    \"id\": -1001137236002,...</td>\n",
       "      <td>4728</td>\n",
       "      <td>2022-09-09 09:00:11</td>\n",
       "      <td>Lead Data Engineer\\nв Cardsmobile — компания р...</td>\n",
       "      <td>[\\n    {\\n        \"_\": \"MessageEntity\",\\n     ...</td>\n",
       "      <td>-1001137236002</td>\n",
       "      <td>Job for Analysts &amp; Data Scientists</td>\n",
       "      <td>https://geekjob.ru/hZ3K</td>\n",
       "      <td>geekjob.ru</td>\n",
       "    </tr>\n",
       "  </tbody>\n",
       "</table>\n",
       "</div>"
      ],
      "text/plain": [
       "                                                chat  message_id  \\\n",
       "0  {\\n    \"_\": \"Chat\",\\n    \"id\": -1001137236002,...        4730   \n",
       "1  {\\n    \"_\": \"Chat\",\\n    \"id\": -1001137236002,...        4729   \n",
       "2  {\\n    \"_\": \"Chat\",\\n    \"id\": -1001137236002,...        4728   \n",
       "\n",
       "                 date                                               text  \\\n",
       "0 2022-09-09 17:05:10  Product Analyst\\nв Safeguard Global — поставщи...   \n",
       "1 2022-09-09 15:12:08  Бизнес-аналитик/Менеджер проекта\\nв Simble — I...   \n",
       "2 2022-09-09 09:00:11  Lead Data Engineer\\nв Cardsmobile — компания р...   \n",
       "\n",
       "                                            entities        chat_id  \\\n",
       "0  [\\n    {\\n        \"_\": \"MessageEntity\",\\n     ... -1001137236002   \n",
       "1  [\\n    {\\n        \"_\": \"MessageEntity\",\\n     ... -1001137236002   \n",
       "2  [\\n    {\\n        \"_\": \"MessageEntity\",\\n     ... -1001137236002   \n",
       "\n",
       "                                title  \\\n",
       "0  Job for Analysts & Data Scientists   \n",
       "1  Job for Analysts & Data Scientists   \n",
       "2  Job for Analysts & Data Scientists   \n",
       "\n",
       "                                              url              host  \n",
       "0  https://www.linkedin.com/jobs/view/3243717640/  www.linkedin.com  \n",
       "1                         https://geekjob.ru/hZ3N        geekjob.ru  \n",
       "2                         https://geekjob.ru/hZ3K        geekjob.ru  "
      ]
     },
     "execution_count": 64,
     "metadata": {},
     "output_type": "execute_result"
    }
   ],
   "source": [
    "telegram.head(3)"
   ]
  },
  {
   "cell_type": "code",
   "execution_count": 10,
   "id": "928a33df",
   "metadata": {},
   "outputs": [
    {
     "name": "stdout",
     "output_type": "stream",
     "text": [
      "<class 'pandas.core.frame.DataFrame'>\n",
      "RangeIndex: 8046 entries, 0 to 8045\n",
      "Data columns (total 5 columns):\n",
      " #   Column      Non-Null Count  Dtype \n",
      "---  ------      --------------  ----- \n",
      " 0   chat        5048 non-null   object\n",
      " 1   message_id  8046 non-null   int64 \n",
      " 2   date        8046 non-null   object\n",
      " 3   text        7512 non-null   object\n",
      " 4   entities    7345 non-null   object\n",
      "dtypes: int64(1), object(4)\n",
      "memory usage: 314.4+ KB\n"
     ]
    }
   ],
   "source": [
    "telegram.info()"
   ]
  },
  {
   "cell_type": "code",
   "execution_count": 11,
   "id": "65fdaaf8",
   "metadata": {},
   "outputs": [],
   "source": [
    "# избавляемся от пропусков\n",
    "telegram = telegram.dropna().reset_index(drop=True) "
   ]
  },
  {
   "cell_type": "code",
   "execution_count": 70,
   "id": "f93a1761",
   "metadata": {},
   "outputs": [
    {
     "data": {
      "text/plain": [
       "(4580, 9)"
      ]
     },
     "execution_count": 70,
     "metadata": {},
     "output_type": "execute_result"
    }
   ],
   "source": [
    "telegram.shape"
   ]
  },
  {
   "cell_type": "markdown",
   "id": "02f45b86",
   "metadata": {},
   "source": [
    "В отдельную колонку сохраним информацию о id чата и его названии."
   ]
  },
  {
   "cell_type": "code",
   "execution_count": 12,
   "id": "be012703",
   "metadata": {},
   "outputs": [],
   "source": [
    "telegram[\"chat_id\"] = telegram[\"chat\"].apply(lambda x: json.loads(x)['id'])\n",
    "telegram[\"title\"] = telegram[\"chat\"].apply(lambda x: json.loads(x)['title'])"
   ]
  },
  {
   "cell_type": "code",
   "execution_count": 68,
   "id": "0383c3eb",
   "metadata": {},
   "outputs": [],
   "source": [
    "# В колонке data изменит тип данных\n",
    "telegram.date = pd.to_datetime(telegram['date'])"
   ]
  },
  {
   "cell_type": "code",
   "execution_count": 62,
   "id": "6c432bf5",
   "metadata": {},
   "outputs": [
    {
     "data": {
      "text/plain": [
       "0      2022-09-09 17:05:10\n",
       "1      2022-09-09 15:12:08\n",
       "847    2022-09-09 14:39:26\n",
       "2850   2022-09-09 13:46:35\n",
       "1324   2022-09-09 10:02:44\n",
       "               ...        \n",
       "4320   2019-02-18 13:24:38\n",
       "4321   2019-02-10 12:12:21\n",
       "4322   2019-02-06 14:14:56\n",
       "4323   2019-01-31 22:29:30\n",
       "4324   2019-01-29 20:02:49\n",
       "Name: date, Length: 4580, dtype: datetime64[ns]"
      ]
     },
     "execution_count": 62,
     "metadata": {},
     "output_type": "execute_result"
    }
   ],
   "source": [
    "telegram.date.sort_values(ascending=False)"
   ]
  },
  {
   "cell_type": "code",
   "execution_count": 66,
   "id": "b9d40a78",
   "metadata": {},
   "outputs": [
    {
     "data": {
      "text/html": [
       "<div>\n",
       "<style scoped>\n",
       "    .dataframe tbody tr th:only-of-type {\n",
       "        vertical-align: middle;\n",
       "    }\n",
       "\n",
       "    .dataframe tbody tr th {\n",
       "        vertical-align: top;\n",
       "    }\n",
       "\n",
       "    .dataframe thead th {\n",
       "        text-align: right;\n",
       "    }\n",
       "</style>\n",
       "<table border=\"1\" class=\"dataframe\">\n",
       "  <thead>\n",
       "    <tr style=\"text-align: right;\">\n",
       "      <th></th>\n",
       "      <th>chat</th>\n",
       "      <th>message_id</th>\n",
       "      <th>date</th>\n",
       "      <th>text</th>\n",
       "      <th>entities</th>\n",
       "      <th>chat_id</th>\n",
       "      <th>title</th>\n",
       "      <th>url</th>\n",
       "      <th>host</th>\n",
       "    </tr>\n",
       "  </thead>\n",
       "  <tbody>\n",
       "    <tr>\n",
       "      <th>0</th>\n",
       "      <td>{\\n    \"_\": \"Chat\",\\n    \"id\": -1001137236002,...</td>\n",
       "      <td>4730</td>\n",
       "      <td>2022-09-09 17:05:10</td>\n",
       "      <td>Product Analyst\\nв Safeguard Global — поставщи...</td>\n",
       "      <td>[\\n    {\\n        \"_\": \"MessageEntity\",\\n     ...</td>\n",
       "      <td>-1001137236002</td>\n",
       "      <td>Job for Analysts &amp; Data Scientists</td>\n",
       "      <td>https://www.linkedin.com/jobs/view/3243717640/</td>\n",
       "      <td>www.linkedin.com</td>\n",
       "    </tr>\n",
       "  </tbody>\n",
       "</table>\n",
       "</div>"
      ],
      "text/plain": [
       "                                                chat  message_id  \\\n",
       "0  {\\n    \"_\": \"Chat\",\\n    \"id\": -1001137236002,...        4730   \n",
       "\n",
       "                 date                                               text  \\\n",
       "0 2022-09-09 17:05:10  Product Analyst\\nв Safeguard Global — поставщи...   \n",
       "\n",
       "                                            entities        chat_id  \\\n",
       "0  [\\n    {\\n        \"_\": \"MessageEntity\",\\n     ... -1001137236002   \n",
       "\n",
       "                                title  \\\n",
       "0  Job for Analysts & Data Scientists   \n",
       "\n",
       "                                              url              host  \n",
       "0  https://www.linkedin.com/jobs/view/3243717640/  www.linkedin.com  "
      ]
     },
     "execution_count": 66,
     "metadata": {},
     "output_type": "execute_result"
    }
   ],
   "source": [
    "telegram.head(1)"
   ]
  },
  {
   "cell_type": "markdown",
   "id": "62aa727f",
   "metadata": {},
   "source": [
    "Кнопка для просмотра выгруженных вакансий."
   ]
  },
  {
   "cell_type": "code",
   "execution_count": 17,
   "id": "75c9fe87",
   "metadata": {},
   "outputs": [
    {
     "data": {
      "application/vnd.jupyter.widget-view+json": {
       "model_id": "3ae4b262999e4809ae34cce189e8c039",
       "version_major": 2,
       "version_minor": 0
      },
      "text/plain": [
       "Button(description='Показать', style=ButtonStyle())"
      ]
     },
     "metadata": {},
     "output_type": "display_data"
    },
    {
     "data": {
      "application/vnd.jupyter.widget-view+json": {
       "model_id": "d2d1ac48871a40bbbae4267aa2760e65",
       "version_major": 2,
       "version_minor": 0
      },
      "text/plain": [
       "Output()"
      ]
     },
     "metadata": {},
     "output_type": "display_data"
    }
   ],
   "source": [
    "button = widgets.Button(description=\"Показать\")\n",
    "output = widgets.Output()\n",
    "\n",
    "display(button, output)\n",
    "\n",
    "counter = 0\n",
    "def on_clicked(b):\n",
    "    with output:\n",
    "        try:\n",
    "            global counter\n",
    "            clear_output()\n",
    "            print('№ вакансии: ', counter)\n",
    "            print(telegram['text'][counter])\n",
    "            counter += 1\n",
    "        except Exception as e:\n",
    "            print(\"Вакансии закончились\")\n",
    "            \n",
    "button.on_click(on_clicked)"
   ]
  },
  {
   "cell_type": "markdown",
   "id": "970424e6",
   "metadata": {},
   "source": [
    "## Вывод\n",
    "* Данные о вакансиях парсили из 7 телеграм-каналов\n",
    "* Всего 4580 строк\n",
    "* Данные выгруженны за период с 29.01.2019 по 09.09.2022"
   ]
  },
  {
   "cell_type": "markdown",
   "id": "30e5ad01",
   "metadata": {},
   "source": [
    "# Извлечение информации по ссылкам в вакансиях"
   ]
  },
  {
   "cell_type": "markdown",
   "id": "24548230",
   "metadata": {},
   "source": [
    "## Выгрузим ссылки в отдельную колонку датасета - `url`"
   ]
  },
  {
   "cell_type": "code",
   "execution_count": 14,
   "id": "2920e962",
   "metadata": {},
   "outputs": [],
   "source": [
    "def get_links(x, regexp='http\\S+'): ###\n",
    "    try:\n",
    "        for i in json.loads(x['entities']):\n",
    "            if i['type'] == 'MessageEntityType.TEXT_LINK':\n",
    "                return i['url']\n",
    "            elif i['type'] == 'MessageEntityType.URL':\n",
    "                url = re.findall(regexp, x['text'])[0]\n",
    "                return url\n",
    "    except:\n",
    "        return None"
   ]
  },
  {
   "cell_type": "code",
   "execution_count": 15,
   "id": "61b098b6",
   "metadata": {},
   "outputs": [],
   "source": [
    "telegram['url'] = telegram.apply(get_links, axis=1)"
   ]
  },
  {
   "cell_type": "code",
   "execution_count": 16,
   "id": "6b2367f4",
   "metadata": {},
   "outputs": [
    {
     "data": {
      "text/plain": [
       "'https://www.linkedin.com/jobs/view/3243717640/'"
      ]
     },
     "execution_count": 16,
     "metadata": {},
     "output_type": "execute_result"
    }
   ],
   "source": [
    "telegram['url'][0]"
   ]
  },
  {
   "cell_type": "markdown",
   "id": "171c40fd",
   "metadata": {},
   "source": [
    "## Найдем наиболее встречающиеся сайты, с которых поступает информация о вакансиях"
   ]
  },
  {
   "cell_type": "code",
   "execution_count": 26,
   "id": "e9085f4b",
   "metadata": {},
   "outputs": [],
   "source": [
    "# функция для поиска hostname url ссылки\n",
    "def hostname(link):\n",
    "    o = urlparse(link)\n",
    "    host = o.hostname\n",
    "    return host"
   ]
  },
  {
   "cell_type": "code",
   "execution_count": 48,
   "id": "6c3cca05",
   "metadata": {},
   "outputs": [],
   "source": [
    "telegram['host'] = telegram['url'].apply(lambda x: hostname(x))"
   ]
  },
  {
   "cell_type": "markdown",
   "id": "0992c628",
   "metadata": {},
   "source": [
    "Выведем 30 hostname, ссылка на которые встречаются больше всего. Будем вытаскивать информацию из ссылки, если она встречается больше 5 раз и ведет на сайт с вакансиями. "
   ]
  },
  {
   "cell_type": "code",
   "execution_count": 43,
   "id": "d08fb7a7",
   "metadata": {},
   "outputs": [
    {
     "data": {
      "text/plain": [
       "host\n",
       "geekjob.ru                                   733\n",
       "ya.cc                                        203\n",
       "hh.ru                                        131\n",
       "t.me                                         115\n",
       "purninja-st.s3.eu-central-1.amazonaws.com     40\n",
       "is.gd                                         31\n",
       "otus.ru                                       26\n",
       "i.ibb.co                                      26\n",
       "spb.hh.ru                                     24\n",
       "practicum.yandex.ru                           23\n",
       "www.notion.so                                 23\n",
       "telegra.ph                                    14\n",
       "proglib.io                                    14\n",
       "clck.ru                                       14\n",
       "www.youtube.com                               12\n",
       "ctrl2go.solutions                             12\n",
       "praktikum.yandex.ru                           12\n",
       "www.linkedin.com                              10\n",
       "netology.ru                                    9\n",
       "yandex.ru                                      9\n",
       "your.gms.tech                                  9\n",
       "grnh.se                                        9\n",
       "habr.com                                       8\n",
       "youtu.be                                       8\n",
       "bit.ly                                         7\n",
       "playkot.com                                    6\n",
       "search_hashtag                                 5\n",
       "cutt.ly                                        5\n",
       "www.it-one.ru                                  5\n",
       "chatfuel.com                                   5\n",
       "Name: text, dtype: int64"
      ]
     },
     "execution_count": 43,
     "metadata": {},
     "output_type": "execute_result"
    }
   ],
   "source": [
    "telegram.groupby('host')['text'].agg('count').sort_values(ascending=False).head(30)"
   ]
  },
  {
   "cell_type": "markdown",
   "id": "e231cd19",
   "metadata": {},
   "source": [
    "## Напишем функции для парсинга ссылок"
   ]
  },
  {
   "cell_type": "code",
   "execution_count": 18,
   "id": "1ba172a0",
   "metadata": {},
   "outputs": [],
   "source": [
    "def parse_site(url, element='div', extra_info=None):\n",
    "    try:\n",
    "        data = requests.get(url).text \n",
    "        soup = BeautifulSoup(data)\n",
    "        elements = []\n",
    "        for extra in extra_info:\n",
    "            elements += soup.find_all(element, extra)\n",
    "        html = ''\n",
    "        for i in elements:\n",
    "            html += str(i)\n",
    "        return html\n",
    "    except Exception as e:\n",
    "        return '<p>Не удалось получить элемент</p>'"
   ]
  },
  {
   "cell_type": "code",
   "execution_count": 54,
   "id": "2890f0ba",
   "metadata": {},
   "outputs": [],
   "source": [
    "# HTML(parse_site(telegram['url'][1], element='section', extra_info=[{'class': 'col s12 m12 main'}]))"
   ]
  },
  {
   "cell_type": "code",
   "execution_count": 45,
   "id": "888a8160",
   "metadata": {
    "code_folding": []
   },
   "outputs": [],
   "source": [
    "# def geekjob(url):\n",
    "#     response = requests.get(url)\n",
    "#     if response.status_code > 305:\n",
    "#         soup = BeautifulSoup(response.text)\n",
    "        \n",
    "#         title = soup.find_all('h1')\n",
    "#         company = soup.find_alll('<h5 class=\"company-name')"
   ]
  },
  {
   "cell_type": "code",
   "execution_count": 52,
   "id": "ba2378ce",
   "metadata": {},
   "outputs": [],
   "source": [
    "# geekjob(telegram['url'][2])"
   ]
  },
  {
   "cell_type": "code",
   "execution_count": 20,
   "id": "e0822587",
   "metadata": {},
   "outputs": [
    {
     "ename": "KeyboardInterrupt",
     "evalue": "",
     "output_type": "error",
     "traceback": [
      "\u001b[0;31m---------------------------------------------------------------------------\u001b[0m",
      "\u001b[0;31mKeyboardInterrupt\u001b[0m                         Traceback (most recent call last)",
      "Input \u001b[0;32mIn [20]\u001b[0m, in \u001b[0;36m<cell line: 7>\u001b[0;34m()\u001b[0m\n\u001b[1;32m      1\u001b[0m extra_infos \u001b[38;5;241m=\u001b[39m [{\u001b[38;5;124m'\u001b[39m\u001b[38;5;124mclass\u001b[39m\u001b[38;5;124m'\u001b[39m: \u001b[38;5;124m'\u001b[39m\u001b[38;5;124mlist-parent vacancy-desc\u001b[39m\u001b[38;5;124m'\u001b[39m}, \n\u001b[1;32m      2\u001b[0m                {\u001b[38;5;124m'\u001b[39m\u001b[38;5;124mclass\u001b[39m\u001b[38;5;124m'\u001b[39m: \u001b[38;5;124m'\u001b[39m\u001b[38;5;124mbp-Vacancy__description bp-VacancyDescription\u001b[39m\u001b[38;5;124m'\u001b[39m}, \n\u001b[1;32m      3\u001b[0m                {\u001b[38;5;124m'\u001b[39m\u001b[38;5;124mid\u001b[39m\u001b[38;5;124m'\u001b[39m: \u001b[38;5;124m'\u001b[39m\u001b[38;5;124mvacancy-description\u001b[39m\u001b[38;5;124m'\u001b[39m},\n\u001b[1;32m      4\u001b[0m                {\u001b[38;5;124m'\u001b[39m\u001b[38;5;124mclass\u001b[39m\u001b[38;5;124m'\u001b[39m: \u001b[38;5;124m'\u001b[39m\u001b[38;5;124msection__block panel js-show\u001b[39m\u001b[38;5;124m'\u001b[39m}]\n\u001b[1;32m      6\u001b[0m \u001b[38;5;66;03m###\u001b[39;00m\n\u001b[0;32m----> 7\u001b[0m telegram[\u001b[38;5;124m'\u001b[39m\u001b[38;5;124mparsed_text\u001b[39m\u001b[38;5;124m'\u001b[39m] \u001b[38;5;241m=\u001b[39m \u001b[43mtelegram\u001b[49m\u001b[43m[\u001b[49m\u001b[38;5;124;43m'\u001b[39;49m\u001b[38;5;124;43murl\u001b[39;49m\u001b[38;5;124;43m'\u001b[39;49m\u001b[43m]\u001b[49m\u001b[38;5;241;43m.\u001b[39;49m\u001b[43mapply\u001b[49m\u001b[43m(\u001b[49m\u001b[38;5;28;43;01mlambda\u001b[39;49;00m\u001b[43m \u001b[49m\u001b[43mx\u001b[49m\u001b[43m:\u001b[49m\u001b[43m \u001b[49m\u001b[43mparse_site\u001b[49m\u001b[43m(\u001b[49m\u001b[43mx\u001b[49m\u001b[43m,\u001b[49m\u001b[43m \u001b[49m\u001b[43mextra_info\u001b[49m\u001b[38;5;241;43m=\u001b[39;49m\u001b[43mextra_infos\u001b[49m\u001b[43m)\u001b[49m\u001b[43m)\u001b[49m\n",
      "File \u001b[0;32m~/opt/anaconda3/envs/ds_practicum_env/lib/python3.9/site-packages/pandas/core/series.py:4433\u001b[0m, in \u001b[0;36mSeries.apply\u001b[0;34m(self, func, convert_dtype, args, **kwargs)\u001b[0m\n\u001b[1;32m   4323\u001b[0m \u001b[38;5;28;01mdef\u001b[39;00m \u001b[38;5;21mapply\u001b[39m(\n\u001b[1;32m   4324\u001b[0m     \u001b[38;5;28mself\u001b[39m,\n\u001b[1;32m   4325\u001b[0m     func: AggFuncType,\n\u001b[0;32m   (...)\u001b[0m\n\u001b[1;32m   4328\u001b[0m     \u001b[38;5;241m*\u001b[39m\u001b[38;5;241m*\u001b[39mkwargs,\n\u001b[1;32m   4329\u001b[0m ) \u001b[38;5;241m-\u001b[39m\u001b[38;5;241m>\u001b[39m DataFrame \u001b[38;5;241m|\u001b[39m Series:\n\u001b[1;32m   4330\u001b[0m     \u001b[38;5;124;03m\"\"\"\u001b[39;00m\n\u001b[1;32m   4331\u001b[0m \u001b[38;5;124;03m    Invoke function on values of Series.\u001b[39;00m\n\u001b[1;32m   4332\u001b[0m \n\u001b[0;32m   (...)\u001b[0m\n\u001b[1;32m   4431\u001b[0m \u001b[38;5;124;03m    dtype: float64\u001b[39;00m\n\u001b[1;32m   4432\u001b[0m \u001b[38;5;124;03m    \"\"\"\u001b[39;00m\n\u001b[0;32m-> 4433\u001b[0m     \u001b[38;5;28;01mreturn\u001b[39;00m \u001b[43mSeriesApply\u001b[49m\u001b[43m(\u001b[49m\u001b[38;5;28;43mself\u001b[39;49m\u001b[43m,\u001b[49m\u001b[43m \u001b[49m\u001b[43mfunc\u001b[49m\u001b[43m,\u001b[49m\u001b[43m \u001b[49m\u001b[43mconvert_dtype\u001b[49m\u001b[43m,\u001b[49m\u001b[43m \u001b[49m\u001b[43margs\u001b[49m\u001b[43m,\u001b[49m\u001b[43m \u001b[49m\u001b[43mkwargs\u001b[49m\u001b[43m)\u001b[49m\u001b[38;5;241;43m.\u001b[39;49m\u001b[43mapply\u001b[49m\u001b[43m(\u001b[49m\u001b[43m)\u001b[49m\n",
      "File \u001b[0;32m~/opt/anaconda3/envs/ds_practicum_env/lib/python3.9/site-packages/pandas/core/apply.py:1082\u001b[0m, in \u001b[0;36mSeriesApply.apply\u001b[0;34m(self)\u001b[0m\n\u001b[1;32m   1078\u001b[0m \u001b[38;5;28;01mif\u001b[39;00m \u001b[38;5;28misinstance\u001b[39m(\u001b[38;5;28mself\u001b[39m\u001b[38;5;241m.\u001b[39mf, \u001b[38;5;28mstr\u001b[39m):\n\u001b[1;32m   1079\u001b[0m     \u001b[38;5;66;03m# if we are a string, try to dispatch\u001b[39;00m\n\u001b[1;32m   1080\u001b[0m     \u001b[38;5;28;01mreturn\u001b[39;00m \u001b[38;5;28mself\u001b[39m\u001b[38;5;241m.\u001b[39mapply_str()\n\u001b[0;32m-> 1082\u001b[0m \u001b[38;5;28;01mreturn\u001b[39;00m \u001b[38;5;28;43mself\u001b[39;49m\u001b[38;5;241;43m.\u001b[39;49m\u001b[43mapply_standard\u001b[49m\u001b[43m(\u001b[49m\u001b[43m)\u001b[49m\n",
      "File \u001b[0;32m~/opt/anaconda3/envs/ds_practicum_env/lib/python3.9/site-packages/pandas/core/apply.py:1137\u001b[0m, in \u001b[0;36mSeriesApply.apply_standard\u001b[0;34m(self)\u001b[0m\n\u001b[1;32m   1131\u001b[0m         values \u001b[38;5;241m=\u001b[39m obj\u001b[38;5;241m.\u001b[39mastype(\u001b[38;5;28mobject\u001b[39m)\u001b[38;5;241m.\u001b[39m_values\n\u001b[1;32m   1132\u001b[0m         \u001b[38;5;66;03m# error: Argument 2 to \"map_infer\" has incompatible type\u001b[39;00m\n\u001b[1;32m   1133\u001b[0m         \u001b[38;5;66;03m# \"Union[Callable[..., Any], str, List[Union[Callable[..., Any], str]],\u001b[39;00m\n\u001b[1;32m   1134\u001b[0m         \u001b[38;5;66;03m# Dict[Hashable, Union[Union[Callable[..., Any], str],\u001b[39;00m\n\u001b[1;32m   1135\u001b[0m         \u001b[38;5;66;03m# List[Union[Callable[..., Any], str]]]]]\"; expected\u001b[39;00m\n\u001b[1;32m   1136\u001b[0m         \u001b[38;5;66;03m# \"Callable[[Any], Any]\"\u001b[39;00m\n\u001b[0;32m-> 1137\u001b[0m         mapped \u001b[38;5;241m=\u001b[39m \u001b[43mlib\u001b[49m\u001b[38;5;241;43m.\u001b[39;49m\u001b[43mmap_infer\u001b[49m\u001b[43m(\u001b[49m\n\u001b[1;32m   1138\u001b[0m \u001b[43m            \u001b[49m\u001b[43mvalues\u001b[49m\u001b[43m,\u001b[49m\n\u001b[1;32m   1139\u001b[0m \u001b[43m            \u001b[49m\u001b[43mf\u001b[49m\u001b[43m,\u001b[49m\u001b[43m  \u001b[49m\u001b[38;5;66;43;03m# type: ignore[arg-type]\u001b[39;49;00m\n\u001b[1;32m   1140\u001b[0m \u001b[43m            \u001b[49m\u001b[43mconvert\u001b[49m\u001b[38;5;241;43m=\u001b[39;49m\u001b[38;5;28;43mself\u001b[39;49m\u001b[38;5;241;43m.\u001b[39;49m\u001b[43mconvert_dtype\u001b[49m\u001b[43m,\u001b[49m\n\u001b[1;32m   1141\u001b[0m \u001b[43m        \u001b[49m\u001b[43m)\u001b[49m\n\u001b[1;32m   1143\u001b[0m \u001b[38;5;28;01mif\u001b[39;00m \u001b[38;5;28mlen\u001b[39m(mapped) \u001b[38;5;129;01mand\u001b[39;00m \u001b[38;5;28misinstance\u001b[39m(mapped[\u001b[38;5;241m0\u001b[39m], ABCSeries):\n\u001b[1;32m   1144\u001b[0m     \u001b[38;5;66;03m# GH#43986 Need to do list(mapped) in order to get treated as nested\u001b[39;00m\n\u001b[1;32m   1145\u001b[0m     \u001b[38;5;66;03m#  See also GH#25959 regarding EA support\u001b[39;00m\n\u001b[1;32m   1146\u001b[0m     \u001b[38;5;28;01mreturn\u001b[39;00m obj\u001b[38;5;241m.\u001b[39m_constructor_expanddim(\u001b[38;5;28mlist\u001b[39m(mapped), index\u001b[38;5;241m=\u001b[39mobj\u001b[38;5;241m.\u001b[39mindex)\n",
      "File \u001b[0;32m~/opt/anaconda3/envs/ds_practicum_env/lib/python3.9/site-packages/pandas/_libs/lib.pyx:2870\u001b[0m, in \u001b[0;36mpandas._libs.lib.map_infer\u001b[0;34m()\u001b[0m\n",
      "Input \u001b[0;32mIn [20]\u001b[0m, in \u001b[0;36m<lambda>\u001b[0;34m(x)\u001b[0m\n\u001b[1;32m      1\u001b[0m extra_infos \u001b[38;5;241m=\u001b[39m [{\u001b[38;5;124m'\u001b[39m\u001b[38;5;124mclass\u001b[39m\u001b[38;5;124m'\u001b[39m: \u001b[38;5;124m'\u001b[39m\u001b[38;5;124mlist-parent vacancy-desc\u001b[39m\u001b[38;5;124m'\u001b[39m}, \n\u001b[1;32m      2\u001b[0m                {\u001b[38;5;124m'\u001b[39m\u001b[38;5;124mclass\u001b[39m\u001b[38;5;124m'\u001b[39m: \u001b[38;5;124m'\u001b[39m\u001b[38;5;124mbp-Vacancy__description bp-VacancyDescription\u001b[39m\u001b[38;5;124m'\u001b[39m}, \n\u001b[1;32m      3\u001b[0m                {\u001b[38;5;124m'\u001b[39m\u001b[38;5;124mid\u001b[39m\u001b[38;5;124m'\u001b[39m: \u001b[38;5;124m'\u001b[39m\u001b[38;5;124mvacancy-description\u001b[39m\u001b[38;5;124m'\u001b[39m},\n\u001b[1;32m      4\u001b[0m                {\u001b[38;5;124m'\u001b[39m\u001b[38;5;124mclass\u001b[39m\u001b[38;5;124m'\u001b[39m: \u001b[38;5;124m'\u001b[39m\u001b[38;5;124msection__block panel js-show\u001b[39m\u001b[38;5;124m'\u001b[39m}]\n\u001b[1;32m      6\u001b[0m \u001b[38;5;66;03m###\u001b[39;00m\n\u001b[0;32m----> 7\u001b[0m telegram[\u001b[38;5;124m'\u001b[39m\u001b[38;5;124mparsed_text\u001b[39m\u001b[38;5;124m'\u001b[39m] \u001b[38;5;241m=\u001b[39m telegram[\u001b[38;5;124m'\u001b[39m\u001b[38;5;124murl\u001b[39m\u001b[38;5;124m'\u001b[39m]\u001b[38;5;241m.\u001b[39mapply(\u001b[38;5;28;01mlambda\u001b[39;00m x: \u001b[43mparse_site\u001b[49m\u001b[43m(\u001b[49m\u001b[43mx\u001b[49m\u001b[43m,\u001b[49m\u001b[43m \u001b[49m\u001b[43mextra_info\u001b[49m\u001b[38;5;241;43m=\u001b[39;49m\u001b[43mextra_infos\u001b[49m\u001b[43m)\u001b[49m)\n",
      "Input \u001b[0;32mIn [18]\u001b[0m, in \u001b[0;36mparse_site\u001b[0;34m(url, element, extra_info)\u001b[0m\n\u001b[1;32m      1\u001b[0m \u001b[38;5;28;01mdef\u001b[39;00m \u001b[38;5;21mparse_site\u001b[39m(url, element\u001b[38;5;241m=\u001b[39m\u001b[38;5;124m'\u001b[39m\u001b[38;5;124mdiv\u001b[39m\u001b[38;5;124m'\u001b[39m, extra_info\u001b[38;5;241m=\u001b[39m\u001b[38;5;28;01mNone\u001b[39;00m):\n\u001b[1;32m      2\u001b[0m     \u001b[38;5;28;01mtry\u001b[39;00m:\n\u001b[0;32m----> 3\u001b[0m         data \u001b[38;5;241m=\u001b[39m \u001b[43mrequests\u001b[49m\u001b[38;5;241;43m.\u001b[39;49m\u001b[43mget\u001b[49m\u001b[43m(\u001b[49m\u001b[43murl\u001b[49m\u001b[43m)\u001b[49m\u001b[38;5;241m.\u001b[39mtext \u001b[38;5;66;03m###\u001b[39;00m\n\u001b[1;32m      4\u001b[0m         soup \u001b[38;5;241m=\u001b[39m BeautifulSoup(data)\n\u001b[1;32m      5\u001b[0m         elements \u001b[38;5;241m=\u001b[39m []\n",
      "File \u001b[0;32m~/opt/anaconda3/envs/ds_practicum_env/lib/python3.9/site-packages/requests/api.py:75\u001b[0m, in \u001b[0;36mget\u001b[0;34m(url, params, **kwargs)\u001b[0m\n\u001b[1;32m     64\u001b[0m \u001b[38;5;28;01mdef\u001b[39;00m \u001b[38;5;21mget\u001b[39m(url, params\u001b[38;5;241m=\u001b[39m\u001b[38;5;28;01mNone\u001b[39;00m, \u001b[38;5;241m*\u001b[39m\u001b[38;5;241m*\u001b[39mkwargs):\n\u001b[1;32m     65\u001b[0m     \u001b[38;5;124mr\u001b[39m\u001b[38;5;124;03m\"\"\"Sends a GET request.\u001b[39;00m\n\u001b[1;32m     66\u001b[0m \n\u001b[1;32m     67\u001b[0m \u001b[38;5;124;03m    :param url: URL for the new :class:`Request` object.\u001b[39;00m\n\u001b[0;32m   (...)\u001b[0m\n\u001b[1;32m     72\u001b[0m \u001b[38;5;124;03m    :rtype: requests.Response\u001b[39;00m\n\u001b[1;32m     73\u001b[0m \u001b[38;5;124;03m    \"\"\"\u001b[39;00m\n\u001b[0;32m---> 75\u001b[0m     \u001b[38;5;28;01mreturn\u001b[39;00m \u001b[43mrequest\u001b[49m\u001b[43m(\u001b[49m\u001b[38;5;124;43m'\u001b[39;49m\u001b[38;5;124;43mget\u001b[39;49m\u001b[38;5;124;43m'\u001b[39;49m\u001b[43m,\u001b[49m\u001b[43m \u001b[49m\u001b[43murl\u001b[49m\u001b[43m,\u001b[49m\u001b[43m \u001b[49m\u001b[43mparams\u001b[49m\u001b[38;5;241;43m=\u001b[39;49m\u001b[43mparams\u001b[49m\u001b[43m,\u001b[49m\u001b[43m \u001b[49m\u001b[38;5;241;43m*\u001b[39;49m\u001b[38;5;241;43m*\u001b[39;49m\u001b[43mkwargs\u001b[49m\u001b[43m)\u001b[49m\n",
      "File \u001b[0;32m~/opt/anaconda3/envs/ds_practicum_env/lib/python3.9/site-packages/requests/api.py:61\u001b[0m, in \u001b[0;36mrequest\u001b[0;34m(method, url, **kwargs)\u001b[0m\n\u001b[1;32m     57\u001b[0m \u001b[38;5;66;03m# By using the 'with' statement we are sure the session is closed, thus we\u001b[39;00m\n\u001b[1;32m     58\u001b[0m \u001b[38;5;66;03m# avoid leaving sockets open which can trigger a ResourceWarning in some\u001b[39;00m\n\u001b[1;32m     59\u001b[0m \u001b[38;5;66;03m# cases, and look like a memory leak in others.\u001b[39;00m\n\u001b[1;32m     60\u001b[0m \u001b[38;5;28;01mwith\u001b[39;00m sessions\u001b[38;5;241m.\u001b[39mSession() \u001b[38;5;28;01mas\u001b[39;00m session:\n\u001b[0;32m---> 61\u001b[0m     \u001b[38;5;28;01mreturn\u001b[39;00m \u001b[43msession\u001b[49m\u001b[38;5;241;43m.\u001b[39;49m\u001b[43mrequest\u001b[49m\u001b[43m(\u001b[49m\u001b[43mmethod\u001b[49m\u001b[38;5;241;43m=\u001b[39;49m\u001b[43mmethod\u001b[49m\u001b[43m,\u001b[49m\u001b[43m \u001b[49m\u001b[43murl\u001b[49m\u001b[38;5;241;43m=\u001b[39;49m\u001b[43murl\u001b[49m\u001b[43m,\u001b[49m\u001b[43m \u001b[49m\u001b[38;5;241;43m*\u001b[39;49m\u001b[38;5;241;43m*\u001b[39;49m\u001b[43mkwargs\u001b[49m\u001b[43m)\u001b[49m\n",
      "File \u001b[0;32m~/opt/anaconda3/envs/ds_practicum_env/lib/python3.9/site-packages/requests/sessions.py:529\u001b[0m, in \u001b[0;36mSession.request\u001b[0;34m(self, method, url, params, data, headers, cookies, files, auth, timeout, allow_redirects, proxies, hooks, stream, verify, cert, json)\u001b[0m\n\u001b[1;32m    524\u001b[0m send_kwargs \u001b[38;5;241m=\u001b[39m {\n\u001b[1;32m    525\u001b[0m     \u001b[38;5;124m'\u001b[39m\u001b[38;5;124mtimeout\u001b[39m\u001b[38;5;124m'\u001b[39m: timeout,\n\u001b[1;32m    526\u001b[0m     \u001b[38;5;124m'\u001b[39m\u001b[38;5;124mallow_redirects\u001b[39m\u001b[38;5;124m'\u001b[39m: allow_redirects,\n\u001b[1;32m    527\u001b[0m }\n\u001b[1;32m    528\u001b[0m send_kwargs\u001b[38;5;241m.\u001b[39mupdate(settings)\n\u001b[0;32m--> 529\u001b[0m resp \u001b[38;5;241m=\u001b[39m \u001b[38;5;28;43mself\u001b[39;49m\u001b[38;5;241;43m.\u001b[39;49m\u001b[43msend\u001b[49m\u001b[43m(\u001b[49m\u001b[43mprep\u001b[49m\u001b[43m,\u001b[49m\u001b[43m \u001b[49m\u001b[38;5;241;43m*\u001b[39;49m\u001b[38;5;241;43m*\u001b[39;49m\u001b[43msend_kwargs\u001b[49m\u001b[43m)\u001b[49m\n\u001b[1;32m    531\u001b[0m \u001b[38;5;28;01mreturn\u001b[39;00m resp\n",
      "File \u001b[0;32m~/opt/anaconda3/envs/ds_practicum_env/lib/python3.9/site-packages/requests/sessions.py:667\u001b[0m, in \u001b[0;36mSession.send\u001b[0;34m(self, request, **kwargs)\u001b[0m\n\u001b[1;32m    664\u001b[0m \u001b[38;5;28;01mif\u001b[39;00m allow_redirects:\n\u001b[1;32m    665\u001b[0m     \u001b[38;5;66;03m# Redirect resolving generator.\u001b[39;00m\n\u001b[1;32m    666\u001b[0m     gen \u001b[38;5;241m=\u001b[39m \u001b[38;5;28mself\u001b[39m\u001b[38;5;241m.\u001b[39mresolve_redirects(r, request, \u001b[38;5;241m*\u001b[39m\u001b[38;5;241m*\u001b[39mkwargs)\n\u001b[0;32m--> 667\u001b[0m     history \u001b[38;5;241m=\u001b[39m [resp \u001b[38;5;28;01mfor\u001b[39;00m resp \u001b[38;5;129;01min\u001b[39;00m gen]\n\u001b[1;32m    668\u001b[0m \u001b[38;5;28;01melse\u001b[39;00m:\n\u001b[1;32m    669\u001b[0m     history \u001b[38;5;241m=\u001b[39m []\n",
      "File \u001b[0;32m~/opt/anaconda3/envs/ds_practicum_env/lib/python3.9/site-packages/requests/sessions.py:667\u001b[0m, in \u001b[0;36m<listcomp>\u001b[0;34m(.0)\u001b[0m\n\u001b[1;32m    664\u001b[0m \u001b[38;5;28;01mif\u001b[39;00m allow_redirects:\n\u001b[1;32m    665\u001b[0m     \u001b[38;5;66;03m# Redirect resolving generator.\u001b[39;00m\n\u001b[1;32m    666\u001b[0m     gen \u001b[38;5;241m=\u001b[39m \u001b[38;5;28mself\u001b[39m\u001b[38;5;241m.\u001b[39mresolve_redirects(r, request, \u001b[38;5;241m*\u001b[39m\u001b[38;5;241m*\u001b[39mkwargs)\n\u001b[0;32m--> 667\u001b[0m     history \u001b[38;5;241m=\u001b[39m [resp \u001b[38;5;28;01mfor\u001b[39;00m resp \u001b[38;5;129;01min\u001b[39;00m gen]\n\u001b[1;32m    668\u001b[0m \u001b[38;5;28;01melse\u001b[39;00m:\n\u001b[1;32m    669\u001b[0m     history \u001b[38;5;241m=\u001b[39m []\n",
      "File \u001b[0;32m~/opt/anaconda3/envs/ds_practicum_env/lib/python3.9/site-packages/requests/sessions.py:237\u001b[0m, in \u001b[0;36mSessionRedirectMixin.resolve_redirects\u001b[0;34m(self, resp, req, stream, timeout, verify, cert, proxies, yield_requests, **adapter_kwargs)\u001b[0m\n\u001b[1;32m    234\u001b[0m     \u001b[38;5;28;01myield\u001b[39;00m req\n\u001b[1;32m    235\u001b[0m \u001b[38;5;28;01melse\u001b[39;00m:\n\u001b[0;32m--> 237\u001b[0m     resp \u001b[38;5;241m=\u001b[39m \u001b[38;5;28;43mself\u001b[39;49m\u001b[38;5;241;43m.\u001b[39;49m\u001b[43msend\u001b[49m\u001b[43m(\u001b[49m\n\u001b[1;32m    238\u001b[0m \u001b[43m        \u001b[49m\u001b[43mreq\u001b[49m\u001b[43m,\u001b[49m\n\u001b[1;32m    239\u001b[0m \u001b[43m        \u001b[49m\u001b[43mstream\u001b[49m\u001b[38;5;241;43m=\u001b[39;49m\u001b[43mstream\u001b[49m\u001b[43m,\u001b[49m\n\u001b[1;32m    240\u001b[0m \u001b[43m        \u001b[49m\u001b[43mtimeout\u001b[49m\u001b[38;5;241;43m=\u001b[39;49m\u001b[43mtimeout\u001b[49m\u001b[43m,\u001b[49m\n\u001b[1;32m    241\u001b[0m \u001b[43m        \u001b[49m\u001b[43mverify\u001b[49m\u001b[38;5;241;43m=\u001b[39;49m\u001b[43mverify\u001b[49m\u001b[43m,\u001b[49m\n\u001b[1;32m    242\u001b[0m \u001b[43m        \u001b[49m\u001b[43mcert\u001b[49m\u001b[38;5;241;43m=\u001b[39;49m\u001b[43mcert\u001b[49m\u001b[43m,\u001b[49m\n\u001b[1;32m    243\u001b[0m \u001b[43m        \u001b[49m\u001b[43mproxies\u001b[49m\u001b[38;5;241;43m=\u001b[39;49m\u001b[43mproxies\u001b[49m\u001b[43m,\u001b[49m\n\u001b[1;32m    244\u001b[0m \u001b[43m        \u001b[49m\u001b[43mallow_redirects\u001b[49m\u001b[38;5;241;43m=\u001b[39;49m\u001b[38;5;28;43;01mFalse\u001b[39;49;00m\u001b[43m,\u001b[49m\n\u001b[1;32m    245\u001b[0m \u001b[43m        \u001b[49m\u001b[38;5;241;43m*\u001b[39;49m\u001b[38;5;241;43m*\u001b[39;49m\u001b[43madapter_kwargs\u001b[49m\n\u001b[1;32m    246\u001b[0m \u001b[43m    \u001b[49m\u001b[43m)\u001b[49m\n\u001b[1;32m    248\u001b[0m     extract_cookies_to_jar(\u001b[38;5;28mself\u001b[39m\u001b[38;5;241m.\u001b[39mcookies, prepared_request, resp\u001b[38;5;241m.\u001b[39mraw)\n\u001b[1;32m    250\u001b[0m     \u001b[38;5;66;03m# extract redirect url, if any, for the next loop\u001b[39;00m\n",
      "File \u001b[0;32m~/opt/anaconda3/envs/ds_practicum_env/lib/python3.9/site-packages/requests/sessions.py:645\u001b[0m, in \u001b[0;36mSession.send\u001b[0;34m(self, request, **kwargs)\u001b[0m\n\u001b[1;32m    642\u001b[0m start \u001b[38;5;241m=\u001b[39m preferred_clock()\n\u001b[1;32m    644\u001b[0m \u001b[38;5;66;03m# Send the request\u001b[39;00m\n\u001b[0;32m--> 645\u001b[0m r \u001b[38;5;241m=\u001b[39m \u001b[43madapter\u001b[49m\u001b[38;5;241;43m.\u001b[39;49m\u001b[43msend\u001b[49m\u001b[43m(\u001b[49m\u001b[43mrequest\u001b[49m\u001b[43m,\u001b[49m\u001b[43m \u001b[49m\u001b[38;5;241;43m*\u001b[39;49m\u001b[38;5;241;43m*\u001b[39;49m\u001b[43mkwargs\u001b[49m\u001b[43m)\u001b[49m\n\u001b[1;32m    647\u001b[0m \u001b[38;5;66;03m# Total elapsed time of the request (approximately)\u001b[39;00m\n\u001b[1;32m    648\u001b[0m elapsed \u001b[38;5;241m=\u001b[39m preferred_clock() \u001b[38;5;241m-\u001b[39m start\n",
      "File \u001b[0;32m~/opt/anaconda3/envs/ds_practicum_env/lib/python3.9/site-packages/requests/adapters.py:440\u001b[0m, in \u001b[0;36mHTTPAdapter.send\u001b[0;34m(self, request, stream, timeout, verify, cert, proxies)\u001b[0m\n\u001b[1;32m    438\u001b[0m \u001b[38;5;28;01mtry\u001b[39;00m:\n\u001b[1;32m    439\u001b[0m     \u001b[38;5;28;01mif\u001b[39;00m \u001b[38;5;129;01mnot\u001b[39;00m chunked:\n\u001b[0;32m--> 440\u001b[0m         resp \u001b[38;5;241m=\u001b[39m \u001b[43mconn\u001b[49m\u001b[38;5;241;43m.\u001b[39;49m\u001b[43murlopen\u001b[49m\u001b[43m(\u001b[49m\n\u001b[1;32m    441\u001b[0m \u001b[43m            \u001b[49m\u001b[43mmethod\u001b[49m\u001b[38;5;241;43m=\u001b[39;49m\u001b[43mrequest\u001b[49m\u001b[38;5;241;43m.\u001b[39;49m\u001b[43mmethod\u001b[49m\u001b[43m,\u001b[49m\n\u001b[1;32m    442\u001b[0m \u001b[43m            \u001b[49m\u001b[43murl\u001b[49m\u001b[38;5;241;43m=\u001b[39;49m\u001b[43murl\u001b[49m\u001b[43m,\u001b[49m\n\u001b[1;32m    443\u001b[0m \u001b[43m            \u001b[49m\u001b[43mbody\u001b[49m\u001b[38;5;241;43m=\u001b[39;49m\u001b[43mrequest\u001b[49m\u001b[38;5;241;43m.\u001b[39;49m\u001b[43mbody\u001b[49m\u001b[43m,\u001b[49m\n\u001b[1;32m    444\u001b[0m \u001b[43m            \u001b[49m\u001b[43mheaders\u001b[49m\u001b[38;5;241;43m=\u001b[39;49m\u001b[43mrequest\u001b[49m\u001b[38;5;241;43m.\u001b[39;49m\u001b[43mheaders\u001b[49m\u001b[43m,\u001b[49m\n\u001b[1;32m    445\u001b[0m \u001b[43m            \u001b[49m\u001b[43mredirect\u001b[49m\u001b[38;5;241;43m=\u001b[39;49m\u001b[38;5;28;43;01mFalse\u001b[39;49;00m\u001b[43m,\u001b[49m\n\u001b[1;32m    446\u001b[0m \u001b[43m            \u001b[49m\u001b[43massert_same_host\u001b[49m\u001b[38;5;241;43m=\u001b[39;49m\u001b[38;5;28;43;01mFalse\u001b[39;49;00m\u001b[43m,\u001b[49m\n\u001b[1;32m    447\u001b[0m \u001b[43m            \u001b[49m\u001b[43mpreload_content\u001b[49m\u001b[38;5;241;43m=\u001b[39;49m\u001b[38;5;28;43;01mFalse\u001b[39;49;00m\u001b[43m,\u001b[49m\n\u001b[1;32m    448\u001b[0m \u001b[43m            \u001b[49m\u001b[43mdecode_content\u001b[49m\u001b[38;5;241;43m=\u001b[39;49m\u001b[38;5;28;43;01mFalse\u001b[39;49;00m\u001b[43m,\u001b[49m\n\u001b[1;32m    449\u001b[0m \u001b[43m            \u001b[49m\u001b[43mretries\u001b[49m\u001b[38;5;241;43m=\u001b[39;49m\u001b[38;5;28;43mself\u001b[39;49m\u001b[38;5;241;43m.\u001b[39;49m\u001b[43mmax_retries\u001b[49m\u001b[43m,\u001b[49m\n\u001b[1;32m    450\u001b[0m \u001b[43m            \u001b[49m\u001b[43mtimeout\u001b[49m\u001b[38;5;241;43m=\u001b[39;49m\u001b[43mtimeout\u001b[49m\n\u001b[1;32m    451\u001b[0m \u001b[43m        \u001b[49m\u001b[43m)\u001b[49m\n\u001b[1;32m    453\u001b[0m     \u001b[38;5;66;03m# Send the request.\u001b[39;00m\n\u001b[1;32m    454\u001b[0m     \u001b[38;5;28;01melse\u001b[39;00m:\n\u001b[1;32m    455\u001b[0m         \u001b[38;5;28;01mif\u001b[39;00m \u001b[38;5;28mhasattr\u001b[39m(conn, \u001b[38;5;124m'\u001b[39m\u001b[38;5;124mproxy_pool\u001b[39m\u001b[38;5;124m'\u001b[39m):\n",
      "File \u001b[0;32m~/opt/anaconda3/envs/ds_practicum_env/lib/python3.9/site-packages/urllib3/connectionpool.py:703\u001b[0m, in \u001b[0;36mHTTPConnectionPool.urlopen\u001b[0;34m(self, method, url, body, headers, retries, redirect, assert_same_host, timeout, pool_timeout, release_conn, chunked, body_pos, **response_kw)\u001b[0m\n\u001b[1;32m    700\u001b[0m     \u001b[38;5;28mself\u001b[39m\u001b[38;5;241m.\u001b[39m_prepare_proxy(conn)\n\u001b[1;32m    702\u001b[0m \u001b[38;5;66;03m# Make the request on the httplib connection object.\u001b[39;00m\n\u001b[0;32m--> 703\u001b[0m httplib_response \u001b[38;5;241m=\u001b[39m \u001b[38;5;28;43mself\u001b[39;49m\u001b[38;5;241;43m.\u001b[39;49m\u001b[43m_make_request\u001b[49m\u001b[43m(\u001b[49m\n\u001b[1;32m    704\u001b[0m \u001b[43m    \u001b[49m\u001b[43mconn\u001b[49m\u001b[43m,\u001b[49m\n\u001b[1;32m    705\u001b[0m \u001b[43m    \u001b[49m\u001b[43mmethod\u001b[49m\u001b[43m,\u001b[49m\n\u001b[1;32m    706\u001b[0m \u001b[43m    \u001b[49m\u001b[43murl\u001b[49m\u001b[43m,\u001b[49m\n\u001b[1;32m    707\u001b[0m \u001b[43m    \u001b[49m\u001b[43mtimeout\u001b[49m\u001b[38;5;241;43m=\u001b[39;49m\u001b[43mtimeout_obj\u001b[49m\u001b[43m,\u001b[49m\n\u001b[1;32m    708\u001b[0m \u001b[43m    \u001b[49m\u001b[43mbody\u001b[49m\u001b[38;5;241;43m=\u001b[39;49m\u001b[43mbody\u001b[49m\u001b[43m,\u001b[49m\n\u001b[1;32m    709\u001b[0m \u001b[43m    \u001b[49m\u001b[43mheaders\u001b[49m\u001b[38;5;241;43m=\u001b[39;49m\u001b[43mheaders\u001b[49m\u001b[43m,\u001b[49m\n\u001b[1;32m    710\u001b[0m \u001b[43m    \u001b[49m\u001b[43mchunked\u001b[49m\u001b[38;5;241;43m=\u001b[39;49m\u001b[43mchunked\u001b[49m\u001b[43m,\u001b[49m\n\u001b[1;32m    711\u001b[0m \u001b[43m\u001b[49m\u001b[43m)\u001b[49m\n\u001b[1;32m    713\u001b[0m \u001b[38;5;66;03m# If we're going to release the connection in ``finally:``, then\u001b[39;00m\n\u001b[1;32m    714\u001b[0m \u001b[38;5;66;03m# the response doesn't need to know about the connection. Otherwise\u001b[39;00m\n\u001b[1;32m    715\u001b[0m \u001b[38;5;66;03m# it will also try to release it and we'll have a double-release\u001b[39;00m\n\u001b[1;32m    716\u001b[0m \u001b[38;5;66;03m# mess.\u001b[39;00m\n\u001b[1;32m    717\u001b[0m response_conn \u001b[38;5;241m=\u001b[39m conn \u001b[38;5;28;01mif\u001b[39;00m \u001b[38;5;129;01mnot\u001b[39;00m release_conn \u001b[38;5;28;01melse\u001b[39;00m \u001b[38;5;28;01mNone\u001b[39;00m\n",
      "File \u001b[0;32m~/opt/anaconda3/envs/ds_practicum_env/lib/python3.9/site-packages/urllib3/connectionpool.py:449\u001b[0m, in \u001b[0;36mHTTPConnectionPool._make_request\u001b[0;34m(self, conn, method, url, timeout, chunked, **httplib_request_kw)\u001b[0m\n\u001b[1;32m    444\u001b[0m             httplib_response \u001b[38;5;241m=\u001b[39m conn\u001b[38;5;241m.\u001b[39mgetresponse()\n\u001b[1;32m    445\u001b[0m         \u001b[38;5;28;01mexcept\u001b[39;00m \u001b[38;5;167;01mBaseException\u001b[39;00m \u001b[38;5;28;01mas\u001b[39;00m e:\n\u001b[1;32m    446\u001b[0m             \u001b[38;5;66;03m# Remove the TypeError from the exception chain in\u001b[39;00m\n\u001b[1;32m    447\u001b[0m             \u001b[38;5;66;03m# Python 3 (including for exceptions like SystemExit).\u001b[39;00m\n\u001b[1;32m    448\u001b[0m             \u001b[38;5;66;03m# Otherwise it looks like a bug in the code.\u001b[39;00m\n\u001b[0;32m--> 449\u001b[0m             \u001b[43msix\u001b[49m\u001b[38;5;241;43m.\u001b[39;49m\u001b[43mraise_from\u001b[49m\u001b[43m(\u001b[49m\u001b[43me\u001b[49m\u001b[43m,\u001b[49m\u001b[43m \u001b[49m\u001b[38;5;28;43;01mNone\u001b[39;49;00m\u001b[43m)\u001b[49m\n\u001b[1;32m    450\u001b[0m \u001b[38;5;28;01mexcept\u001b[39;00m (SocketTimeout, BaseSSLError, SocketError) \u001b[38;5;28;01mas\u001b[39;00m e:\n\u001b[1;32m    451\u001b[0m     \u001b[38;5;28mself\u001b[39m\u001b[38;5;241m.\u001b[39m_raise_timeout(err\u001b[38;5;241m=\u001b[39me, url\u001b[38;5;241m=\u001b[39murl, timeout_value\u001b[38;5;241m=\u001b[39mread_timeout)\n",
      "File \u001b[0;32m<string>:3\u001b[0m, in \u001b[0;36mraise_from\u001b[0;34m(value, from_value)\u001b[0m\n",
      "File \u001b[0;32m~/opt/anaconda3/envs/ds_practicum_env/lib/python3.9/site-packages/urllib3/connectionpool.py:444\u001b[0m, in \u001b[0;36mHTTPConnectionPool._make_request\u001b[0;34m(self, conn, method, url, timeout, chunked, **httplib_request_kw)\u001b[0m\n\u001b[1;32m    441\u001b[0m \u001b[38;5;28;01mexcept\u001b[39;00m \u001b[38;5;167;01mTypeError\u001b[39;00m:\n\u001b[1;32m    442\u001b[0m     \u001b[38;5;66;03m# Python 3\u001b[39;00m\n\u001b[1;32m    443\u001b[0m     \u001b[38;5;28;01mtry\u001b[39;00m:\n\u001b[0;32m--> 444\u001b[0m         httplib_response \u001b[38;5;241m=\u001b[39m \u001b[43mconn\u001b[49m\u001b[38;5;241;43m.\u001b[39;49m\u001b[43mgetresponse\u001b[49m\u001b[43m(\u001b[49m\u001b[43m)\u001b[49m\n\u001b[1;32m    445\u001b[0m     \u001b[38;5;28;01mexcept\u001b[39;00m \u001b[38;5;167;01mBaseException\u001b[39;00m \u001b[38;5;28;01mas\u001b[39;00m e:\n\u001b[1;32m    446\u001b[0m         \u001b[38;5;66;03m# Remove the TypeError from the exception chain in\u001b[39;00m\n\u001b[1;32m    447\u001b[0m         \u001b[38;5;66;03m# Python 3 (including for exceptions like SystemExit).\u001b[39;00m\n\u001b[1;32m    448\u001b[0m         \u001b[38;5;66;03m# Otherwise it looks like a bug in the code.\u001b[39;00m\n\u001b[1;32m    449\u001b[0m         six\u001b[38;5;241m.\u001b[39mraise_from(e, \u001b[38;5;28;01mNone\u001b[39;00m)\n",
      "File \u001b[0;32m~/opt/anaconda3/envs/ds_practicum_env/lib/python3.9/http/client.py:1377\u001b[0m, in \u001b[0;36mHTTPConnection.getresponse\u001b[0;34m(self)\u001b[0m\n\u001b[1;32m   1375\u001b[0m \u001b[38;5;28;01mtry\u001b[39;00m:\n\u001b[1;32m   1376\u001b[0m     \u001b[38;5;28;01mtry\u001b[39;00m:\n\u001b[0;32m-> 1377\u001b[0m         \u001b[43mresponse\u001b[49m\u001b[38;5;241;43m.\u001b[39;49m\u001b[43mbegin\u001b[49m\u001b[43m(\u001b[49m\u001b[43m)\u001b[49m\n\u001b[1;32m   1378\u001b[0m     \u001b[38;5;28;01mexcept\u001b[39;00m \u001b[38;5;167;01mConnectionError\u001b[39;00m:\n\u001b[1;32m   1379\u001b[0m         \u001b[38;5;28mself\u001b[39m\u001b[38;5;241m.\u001b[39mclose()\n",
      "File \u001b[0;32m~/opt/anaconda3/envs/ds_practicum_env/lib/python3.9/http/client.py:320\u001b[0m, in \u001b[0;36mHTTPResponse.begin\u001b[0;34m(self)\u001b[0m\n\u001b[1;32m    318\u001b[0m \u001b[38;5;66;03m# read until we get a non-100 response\u001b[39;00m\n\u001b[1;32m    319\u001b[0m \u001b[38;5;28;01mwhile\u001b[39;00m \u001b[38;5;28;01mTrue\u001b[39;00m:\n\u001b[0;32m--> 320\u001b[0m     version, status, reason \u001b[38;5;241m=\u001b[39m \u001b[38;5;28;43mself\u001b[39;49m\u001b[38;5;241;43m.\u001b[39;49m\u001b[43m_read_status\u001b[49m\u001b[43m(\u001b[49m\u001b[43m)\u001b[49m\n\u001b[1;32m    321\u001b[0m     \u001b[38;5;28;01mif\u001b[39;00m status \u001b[38;5;241m!=\u001b[39m CONTINUE:\n\u001b[1;32m    322\u001b[0m         \u001b[38;5;28;01mbreak\u001b[39;00m\n",
      "File \u001b[0;32m~/opt/anaconda3/envs/ds_practicum_env/lib/python3.9/http/client.py:281\u001b[0m, in \u001b[0;36mHTTPResponse._read_status\u001b[0;34m(self)\u001b[0m\n\u001b[1;32m    280\u001b[0m \u001b[38;5;28;01mdef\u001b[39;00m \u001b[38;5;21m_read_status\u001b[39m(\u001b[38;5;28mself\u001b[39m):\n\u001b[0;32m--> 281\u001b[0m     line \u001b[38;5;241m=\u001b[39m \u001b[38;5;28mstr\u001b[39m(\u001b[38;5;28;43mself\u001b[39;49m\u001b[38;5;241;43m.\u001b[39;49m\u001b[43mfp\u001b[49m\u001b[38;5;241;43m.\u001b[39;49m\u001b[43mreadline\u001b[49m\u001b[43m(\u001b[49m\u001b[43m_MAXLINE\u001b[49m\u001b[43m \u001b[49m\u001b[38;5;241;43m+\u001b[39;49m\u001b[43m \u001b[49m\u001b[38;5;241;43m1\u001b[39;49m\u001b[43m)\u001b[49m, \u001b[38;5;124m\"\u001b[39m\u001b[38;5;124miso-8859-1\u001b[39m\u001b[38;5;124m\"\u001b[39m)\n\u001b[1;32m    282\u001b[0m     \u001b[38;5;28;01mif\u001b[39;00m \u001b[38;5;28mlen\u001b[39m(line) \u001b[38;5;241m>\u001b[39m _MAXLINE:\n\u001b[1;32m    283\u001b[0m         \u001b[38;5;28;01mraise\u001b[39;00m LineTooLong(\u001b[38;5;124m\"\u001b[39m\u001b[38;5;124mstatus line\u001b[39m\u001b[38;5;124m\"\u001b[39m)\n",
      "File \u001b[0;32m~/opt/anaconda3/envs/ds_practicum_env/lib/python3.9/socket.py:704\u001b[0m, in \u001b[0;36mSocketIO.readinto\u001b[0;34m(self, b)\u001b[0m\n\u001b[1;32m    702\u001b[0m \u001b[38;5;28;01mwhile\u001b[39;00m \u001b[38;5;28;01mTrue\u001b[39;00m:\n\u001b[1;32m    703\u001b[0m     \u001b[38;5;28;01mtry\u001b[39;00m:\n\u001b[0;32m--> 704\u001b[0m         \u001b[38;5;28;01mreturn\u001b[39;00m \u001b[38;5;28;43mself\u001b[39;49m\u001b[38;5;241;43m.\u001b[39;49m\u001b[43m_sock\u001b[49m\u001b[38;5;241;43m.\u001b[39;49m\u001b[43mrecv_into\u001b[49m\u001b[43m(\u001b[49m\u001b[43mb\u001b[49m\u001b[43m)\u001b[49m\n\u001b[1;32m    705\u001b[0m     \u001b[38;5;28;01mexcept\u001b[39;00m timeout:\n\u001b[1;32m    706\u001b[0m         \u001b[38;5;28mself\u001b[39m\u001b[38;5;241m.\u001b[39m_timeout_occurred \u001b[38;5;241m=\u001b[39m \u001b[38;5;28;01mTrue\u001b[39;00m\n",
      "File \u001b[0;32m~/opt/anaconda3/envs/ds_practicum_env/lib/python3.9/ssl.py:1241\u001b[0m, in \u001b[0;36mSSLSocket.recv_into\u001b[0;34m(self, buffer, nbytes, flags)\u001b[0m\n\u001b[1;32m   1237\u001b[0m     \u001b[38;5;28;01mif\u001b[39;00m flags \u001b[38;5;241m!=\u001b[39m \u001b[38;5;241m0\u001b[39m:\n\u001b[1;32m   1238\u001b[0m         \u001b[38;5;28;01mraise\u001b[39;00m \u001b[38;5;167;01mValueError\u001b[39;00m(\n\u001b[1;32m   1239\u001b[0m           \u001b[38;5;124m\"\u001b[39m\u001b[38;5;124mnon-zero flags not allowed in calls to recv_into() on \u001b[39m\u001b[38;5;132;01m%s\u001b[39;00m\u001b[38;5;124m\"\u001b[39m \u001b[38;5;241m%\u001b[39m\n\u001b[1;32m   1240\u001b[0m           \u001b[38;5;28mself\u001b[39m\u001b[38;5;241m.\u001b[39m\u001b[38;5;18m__class__\u001b[39m)\n\u001b[0;32m-> 1241\u001b[0m     \u001b[38;5;28;01mreturn\u001b[39;00m \u001b[38;5;28;43mself\u001b[39;49m\u001b[38;5;241;43m.\u001b[39;49m\u001b[43mread\u001b[49m\u001b[43m(\u001b[49m\u001b[43mnbytes\u001b[49m\u001b[43m,\u001b[49m\u001b[43m \u001b[49m\u001b[43mbuffer\u001b[49m\u001b[43m)\u001b[49m\n\u001b[1;32m   1242\u001b[0m \u001b[38;5;28;01melse\u001b[39;00m:\n\u001b[1;32m   1243\u001b[0m     \u001b[38;5;28;01mreturn\u001b[39;00m \u001b[38;5;28msuper\u001b[39m()\u001b[38;5;241m.\u001b[39mrecv_into(buffer, nbytes, flags)\n",
      "File \u001b[0;32m~/opt/anaconda3/envs/ds_practicum_env/lib/python3.9/ssl.py:1099\u001b[0m, in \u001b[0;36mSSLSocket.read\u001b[0;34m(self, len, buffer)\u001b[0m\n\u001b[1;32m   1097\u001b[0m \u001b[38;5;28;01mtry\u001b[39;00m:\n\u001b[1;32m   1098\u001b[0m     \u001b[38;5;28;01mif\u001b[39;00m buffer \u001b[38;5;129;01mis\u001b[39;00m \u001b[38;5;129;01mnot\u001b[39;00m \u001b[38;5;28;01mNone\u001b[39;00m:\n\u001b[0;32m-> 1099\u001b[0m         \u001b[38;5;28;01mreturn\u001b[39;00m \u001b[38;5;28;43mself\u001b[39;49m\u001b[38;5;241;43m.\u001b[39;49m\u001b[43m_sslobj\u001b[49m\u001b[38;5;241;43m.\u001b[39;49m\u001b[43mread\u001b[49m\u001b[43m(\u001b[49m\u001b[38;5;28;43mlen\u001b[39;49m\u001b[43m,\u001b[49m\u001b[43m \u001b[49m\u001b[43mbuffer\u001b[49m\u001b[43m)\u001b[49m\n\u001b[1;32m   1100\u001b[0m     \u001b[38;5;28;01melse\u001b[39;00m:\n\u001b[1;32m   1101\u001b[0m         \u001b[38;5;28;01mreturn\u001b[39;00m \u001b[38;5;28mself\u001b[39m\u001b[38;5;241m.\u001b[39m_sslobj\u001b[38;5;241m.\u001b[39mread(\u001b[38;5;28mlen\u001b[39m)\n",
      "\u001b[0;31mKeyboardInterrupt\u001b[0m: "
     ]
    }
   ],
   "source": [
    "# extra_infos = [{'class': 'col s12 m12 main'},# geekjob\n",
    "#                {'class': 'p5'} #\n",
    "               \n",
    "#                {'class': 'bp-Vacancy__description bp-VacancyDescription'}, \n",
    "#                {'class': 'vacancy-description'},\n",
    "#                {'class': 'section__block panel js-show'}]\n",
    "\n",
    "# element = [{'element': 'section'},\n",
    "#           {'element': 'div'}]\n",
    "\n",
    "# ###\n",
    "# telegram['parsed_text'] = telegram['url'].apply(lambda x: parse_site(x, extra_info=extra_infos))"
   ]
  },
  {
   "cell_type": "code",
   "execution_count": 24,
   "id": "68fdb8e9",
   "metadata": {},
   "outputs": [
    {
     "data": {
      "text/plain": [
       "array(['https://www.linkedin.com/jobs/view/3243717640/',\n",
       "       'https://geekjob.ru/hZ3N', 'https://geekjob.ru/hZ3K',\n",
       "       'https://geekjob.ru/hZ3Z', 'https://geekjob.ru/hZ3M',\n",
       "       'https://geekjob.ru/hZ2w',\n",
       "       'https://www.linkedin.com/jobs/view/3242258629/',\n",
       "       'https://geekjob.ru/hZ2f', 'https://geekjob.ru/hZ2a',\n",
       "       'https://geekjob.ru/hZ2U'], dtype=object)"
      ]
     },
     "execution_count": 24,
     "metadata": {},
     "output_type": "execute_result"
    }
   ],
   "source": [
    "telegram['url'].unique()[0:10]"
   ]
  },
  {
   "cell_type": "code",
   "execution_count": null,
   "id": "f5b118ea",
   "metadata": {},
   "outputs": [],
   "source": []
  }
 ],
 "metadata": {
  "kernelspec": {
   "display_name": "Python 3 (ipykernel)",
   "language": "python",
   "name": "python3"
  },
  "language_info": {
   "codemirror_mode": {
    "name": "ipython",
    "version": 3
   },
   "file_extension": ".py",
   "mimetype": "text/x-python",
   "name": "python",
   "nbconvert_exporter": "python",
   "pygments_lexer": "ipython3",
   "version": "3.9.12"
  },
  "toc": {
   "base_numbering": 1,
   "nav_menu": {},
   "number_sections": true,
   "sideBar": true,
   "skip_h1_title": false,
   "title_cell": "Table of Contents",
   "title_sidebar": "Contents",
   "toc_cell": false,
   "toc_position": {},
   "toc_section_display": true,
   "toc_window_display": true
  }
 },
 "nbformat": 4,
 "nbformat_minor": 5
}
